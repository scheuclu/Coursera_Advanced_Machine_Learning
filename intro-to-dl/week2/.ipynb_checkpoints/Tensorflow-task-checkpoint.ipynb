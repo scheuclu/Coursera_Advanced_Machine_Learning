{
 "cells": [
  {
   "cell_type": "markdown",
   "metadata": {
    "slideshow": {
     "slide_type": "slide"
    }
   },
   "source": [
    "# Going deeper with Tensorflow\n",
    "\n",
    "In this video, we're going to study the tools you'll use to build deep learning models. Namely, [Tensorflow](https://www.tensorflow.org/).\n",
    "\n",
    "If you're running this notebook outside the course environment, you'll need to install tensorflow:\n",
    "* `pip install tensorflow` should install cpu-only TF on Linux & Mac OS\n",
    "* If you want GPU support from offset, see [TF install page](https://www.tensorflow.org/install/)"
   ]
  },
  {
   "cell_type": "code",
   "execution_count": 1,
   "metadata": {},
   "outputs": [],
   "source": [
    "import sys\n",
    "sys.path.append(\"..\")\n",
    "import grading"
   ]
  },
  {
   "cell_type": "markdown",
   "metadata": {},
   "source": [
    "# Visualization"
   ]
  },
  {
   "cell_type": "markdown",
   "metadata": {},
   "source": [
    "Plase note that if you are running on the Coursera platform, you won't be able to access the tensorboard instance due to the network setup there. If you run the notebook locally, you should be able to access TensorBoard on http://127.0.0.1:7007/"
   ]
  },
  {
   "cell_type": "code",
   "execution_count": 2,
   "metadata": {},
   "outputs": [],
   "source": [
    "! killall tensorboard\n",
    "import os\n",
    "os.system(\"tensorboard --logdir=/tmp/tboard --port=7007 &\");"
   ]
  },
  {
   "cell_type": "code",
   "execution_count": 3,
   "metadata": {},
   "outputs": [],
   "source": [
    "import tensorflow as tf\n",
    "s = tf.InteractiveSession()"
   ]
  },
  {
   "cell_type": "markdown",
   "metadata": {},
   "source": [
    "# Warming up\n",
    "For starters, let's implement a python function that computes the sum of squares of numbers from 0 to N-1."
   ]
  },
  {
   "cell_type": "code",
   "execution_count": 4,
   "metadata": {},
   "outputs": [],
   "source": [
    "import numpy as np\n",
    "def sum_sin(N):\n",
    "    return np.sum(np.arange(N)**2)"
   ]
  },
  {
   "cell_type": "code",
   "execution_count": 5,
   "metadata": {},
   "outputs": [
    {
     "name": "stdout",
     "output_type": "stream",
     "text": [
      "CPU times: user 307 ms, sys: 439 ms, total: 746 ms\n",
      "Wall time: 747 ms\n"
     ]
    },
    {
     "data": {
      "text/plain": [
       "662921401752298880"
      ]
     },
     "execution_count": 5,
     "metadata": {},
     "output_type": "execute_result"
    }
   ],
   "source": [
    "%%time\n",
    "sum_sin(10**8)"
   ]
  },
  {
   "cell_type": "markdown",
   "metadata": {},
   "source": [
    "# Tensoflow teaser\n",
    "\n",
    "Doing the very same thing"
   ]
  },
  {
   "cell_type": "code",
   "execution_count": 6,
   "metadata": {},
   "outputs": [],
   "source": [
    "# An integer parameter\n",
    "N = tf.placeholder('int64', name=\"input_to_your_function\")\n",
    "\n",
    "# A recipe on how to produce the same result\n",
    "result = tf.reduce_sum(tf.range(N)**2)"
   ]
  },
  {
   "cell_type": "code",
   "execution_count": 7,
   "metadata": {},
   "outputs": [
    {
     "data": {
      "text/plain": [
       "<tf.Tensor 'Sum:0' shape=() dtype=int64>"
      ]
     },
     "execution_count": 7,
     "metadata": {},
     "output_type": "execute_result"
    }
   ],
   "source": [
    "result"
   ]
  },
  {
   "cell_type": "code",
   "execution_count": 8,
   "metadata": {},
   "outputs": [
    {
     "name": "stdout",
     "output_type": "stream",
     "text": [
      "CPU times: user 290 ms, sys: 290 ms, total: 580 ms\n",
      "Wall time: 556 ms\n"
     ]
    },
    {
     "data": {
      "text/plain": [
       "662921401752298880"
      ]
     },
     "execution_count": 8,
     "metadata": {},
     "output_type": "execute_result"
    }
   ],
   "source": [
    "%%time\n",
    "result.eval({N: 10**8})"
   ]
  },
  {
   "cell_type": "code",
   "execution_count": 9,
   "metadata": {},
   "outputs": [],
   "source": [
    "writer = tf.summary.FileWriter(\"/tmp/tboard\", graph=s.graph)"
   ]
  },
  {
   "cell_type": "markdown",
   "metadata": {},
   "source": [
    "# How does it work?\n",
    "1. Define placeholders where you'll send inputs\n",
    "2. Make symbolic graph: a recipe for mathematical transformation of those placeholders\n",
    "3. Compute outputs of your graph with particular values for each placeholder\n",
    "  * `output.eval({placeholder:value})`\n",
    "  * `s.run(output, {placeholder:value})`\n",
    "\n",
    "So far there are two main entities: \"placeholder\" and \"transformation\"\n",
    "* Both can be numbers, vectors, matrices, tensors, etc.\n",
    "* Both can be int32/64, floats, booleans (uint8) of various size.\n",
    "\n",
    "* You can define new transformations as an arbitrary operation on placeholders and other transformations\n",
    " * `tf.reduce_sum(tf.arange(N)**2)` are 3 sequential transformations of placeholder `N`\n",
    " * There's a tensorflow symbolic version for every numpy function\n",
    "   * `a+b, a/b, a**b, ...` behave just like in numpy\n",
    "   * `np.mean` -> `tf.reduce_mean`\n",
    "   * `np.arange` -> `tf.range`\n",
    "   * `np.cumsum` -> `tf.cumsum`\n",
    "   * If if you can't find the op you need, see the [docs](https://www.tensorflow.org/api_docs/python).\n",
    "   \n",
    "`tf.contrib` has many high-level features, may be worth a look."
   ]
  },
  {
   "cell_type": "code",
   "execution_count": 10,
   "metadata": {},
   "outputs": [],
   "source": [
    "with tf.name_scope(\"Placeholders_examples\"):\n",
    "    # Default placeholder that can be arbitrary float32\n",
    "    # scalar, vertor, matrix, etc.\n",
    "    arbitrary_input = tf.placeholder('float32')\n",
    "\n",
    "    # Input vector of arbitrary length\n",
    "    input_vector = tf.placeholder('float32', shape=(None,))\n",
    "\n",
    "    # Input vector that _must_ have 10 elements and integer type\n",
    "    fixed_vector = tf.placeholder('int32', shape=(10,))\n",
    "\n",
    "    # Matrix of arbitrary n_rows and 15 columns\n",
    "    # (e.g. a minibatch your data table)\n",
    "    input_matrix = tf.placeholder('float32', shape=(None, 15))\n",
    "    \n",
    "    # You can generally use None whenever you don't need a specific shape\n",
    "    input1 = tf.placeholder('float64', shape=(None, 100, None))\n",
    "    input2 = tf.placeholder('int32', shape=(None, None, 3, 224, 224))\n",
    "\n",
    "    # elementwise multiplication\n",
    "    double_the_vector = input_vector*2\n",
    "\n",
    "    # elementwise cosine\n",
    "    elementwise_cosine = tf.cos(input_vector)\n",
    "\n",
    "    # difference between squared vector and vector itself plus one\n",
    "    vector_squares = input_vector**2 - input_vector + 1"
   ]
  },
  {
   "cell_type": "code",
   "execution_count": 11,
   "metadata": {},
   "outputs": [],
   "source": [
    "my_vector =  tf.placeholder('float32', shape=(None,), name=\"VECTOR_1\")\n",
    "my_vector2 = tf.placeholder('float32', shape=(None,))\n",
    "my_transformation = my_vector * my_vector2 / (tf.sin(my_vector) + 1)"
   ]
  },
  {
   "cell_type": "code",
   "execution_count": 12,
   "metadata": {},
   "outputs": [
    {
     "name": "stdout",
     "output_type": "stream",
     "text": [
      "Tensor(\"truediv:0\", shape=(?,), dtype=float32)\n"
     ]
    }
   ],
   "source": [
    "print(my_transformation)"
   ]
  },
  {
   "cell_type": "code",
   "execution_count": 13,
   "metadata": {},
   "outputs": [
    {
     "name": "stdout",
     "output_type": "stream",
     "text": [
      "[ 0.  1.  2.  3.  4.]\n"
     ]
    },
    {
     "data": {
      "text/plain": [
       "array([ 0.        ,  1.62913239,  2.09501147,  2.62899613,  0.        ], dtype=float32)"
      ]
     },
     "execution_count": 13,
     "metadata": {},
     "output_type": "execute_result"
    }
   ],
   "source": [
    "dummy = np.arange(5).astype('float32')\n",
    "print(dummy)\n",
    "my_transformation.eval({my_vector:dummy, my_vector2:dummy[::-1]})"
   ]
  },
  {
   "cell_type": "code",
   "execution_count": 14,
   "metadata": {},
   "outputs": [],
   "source": [
    "writer.add_graph(my_transformation.graph)\n",
    "writer.flush()"
   ]
  },
  {
   "cell_type": "markdown",
   "metadata": {},
   "source": [
    "TensorBoard allows writing scalars, images, audio, histogram. You can read more on tensorboard usage [here](https://www.tensorflow.org/get_started/graph_viz)."
   ]
  },
  {
   "cell_type": "markdown",
   "metadata": {},
   "source": [
    "# Summary\n",
    "* Tensorflow is based on computation graphs\n",
    "* The graphs consist of placehlders and transformations"
   ]
  },
  {
   "cell_type": "markdown",
   "metadata": {},
   "source": [
    "# Mean squared error\n",
    "\n",
    "Your assignment is to implement mean squared error in tensorflow."
   ]
  },
  {
   "cell_type": "code",
   "execution_count": 15,
   "metadata": {},
   "outputs": [],
   "source": [
    "with tf.name_scope(\"MSE\"):\n",
    "    y_true = tf.placeholder(\"float32\", shape=(None,), name=\"y_true\")\n",
    "    y_predicted = tf.placeholder(\"float32\", shape=(None,), name=\"y_predicted\")\n",
    "    # Your code goes here\n",
    "    # You want to use tf.reduce_mean\n",
    "    # mse = tf.<...>\n",
    "    ###mse = tf.reduce_sum((y_true-y_predicted)**2)\n",
    "    mse = tf.losses.mean_squared_error(labels=y_true, predictions=y_predicted )\n",
    "def compute_mse(vector1, vector2):\n",
    "    return mse.eval({y_true: vector1, y_predicted: vector2})"
   ]
  },
  {
   "cell_type": "code",
   "execution_count": 16,
   "metadata": {},
   "outputs": [],
   "source": [
    "writer.add_graph(mse.graph)\n",
    "writer.flush()"
   ]
  },
  {
   "cell_type": "markdown",
   "metadata": {},
   "source": [
    "Tests and result submission. Please use the credentials obtained from the Coursera assignment page."
   ]
  },
  {
   "cell_type": "code",
   "execution_count": 17,
   "metadata": {},
   "outputs": [],
   "source": [
    "import submit"
   ]
  },
  {
   "cell_type": "code",
   "execution_count": 18,
   "metadata": {},
   "outputs": [
    {
     "name": "stdout",
     "output_type": "stream",
     "text": [
      "Submitted to Coursera platform. See results on assignment page!\n"
     ]
    }
   ],
   "source": [
    "submit.submit_mse(compute_mse, \"scheuclu@gmail.com\", \"WV8Cgdz5Qvh25lGF\")"
   ]
  },
  {
   "cell_type": "markdown",
   "metadata": {},
   "source": [
    "# Variables\n",
    "\n",
    "The inputs and transformations have no value outside function call. This isn't too comfortable if you want your model to have parameters (e.g. network weights) that are always present, but can change their value over time.\n",
    "\n",
    "Tensorflow solves this with `tf.Variable` objects.\n",
    "* You can assign variable a value at any time in your graph\n",
    "* Unlike placeholders, there's no need to explicitly pass values to variables when `s.run(...)`-ing\n",
    "* You can use variables the same way you use transformations \n",
    " "
   ]
  },
  {
   "cell_type": "code",
   "execution_count": 19,
   "metadata": {},
   "outputs": [],
   "source": [
    "# Creating a shared variable\n",
    "shared_vector_1 = tf.Variable(initial_value=np.ones(5), name=\"example_variable\")"
   ]
  },
  {
   "cell_type": "code",
   "execution_count": 20,
   "metadata": {},
   "outputs": [
    {
     "name": "stdout",
     "output_type": "stream",
     "text": [
      "Initial value [ 1.  1.  1.  1.  1.]\n"
     ]
    }
   ],
   "source": [
    "# Initialize variable(s) with initial values\n",
    "s.run(tf.global_variables_initializer())\n",
    "\n",
    "# Evaluating shared variable (outside symbolicd graph)\n",
    "print(\"Initial value\", s.run(shared_vector_1))\n",
    "\n",
    "# Within symbolic graph you use them just\n",
    "# as any other inout or transformation, not \"get value\" needed"
   ]
  },
  {
   "cell_type": "code",
   "execution_count": 21,
   "metadata": {},
   "outputs": [
    {
     "name": "stdout",
     "output_type": "stream",
     "text": [
      "New value [ 0.  1.  2.  3.  4.]\n"
     ]
    }
   ],
   "source": [
    "# Setting a new value\n",
    "s.run(shared_vector_1.assign(np.arange(5)))\n",
    "\n",
    "# Getting that new value\n",
    "print(\"New value\", s.run(shared_vector_1))"
   ]
  },
  {
   "cell_type": "markdown",
   "metadata": {},
   "source": [
    "# tf.gradients - why graphs matter\n",
    "* Tensorflow can compute derivatives and gradients automatically using the computation graph\n",
    "* True to its name it can manage matrix derivatives\n",
    "* Gradients are computed as a product of elementary derivatives via the chain rule:\n",
    "\n",
    "$$ {\\partial f(g(x)) \\over \\partial x} = {\\partial f(g(x)) \\over \\partial g(x)}\\cdot {\\partial g(x) \\over \\partial x} $$\n",
    "\n",
    "It can get you the derivative of any graph as long as it knows how to differentiate elementary operations"
   ]
  },
  {
   "cell_type": "code",
   "execution_count": 22,
   "metadata": {},
   "outputs": [],
   "source": [
    "my_scalar = tf.placeholder('float32')\n",
    "\n",
    "scalar_squared = my_scalar**2\n",
    "\n",
    "# A derivative of scalar_squared by my_scalar\n",
    "derivative = tf.gradients(scalar_squared, [my_scalar, ])"
   ]
  },
  {
   "cell_type": "code",
   "execution_count": 23,
   "metadata": {},
   "outputs": [
    {
     "data": {
      "text/plain": [
       "[<tf.Tensor 'gradients/pow_1_grad/Reshape:0' shape=<unknown> dtype=float32>]"
      ]
     },
     "execution_count": 23,
     "metadata": {},
     "output_type": "execute_result"
    }
   ],
   "source": [
    "derivative"
   ]
  },
  {
   "cell_type": "code",
   "execution_count": 24,
   "metadata": {},
   "outputs": [
    {
     "data": {
      "image/png": "[encoded data removed]",
      "text/plain": [
       "<matplotlib.figure.Figure at 0x7f7fd40c1898>"
      ]
     },
     "metadata": {},
     "output_type": "display_data"
    }
   ],
   "source": [
    "import matplotlib.pyplot as plt\n",
    "%matplotlib inline\n",
    "\n",
    "x = np.linspace(-3, 3)\n",
    "x_squared, x_squared_der = s.run([scalar_squared, derivative[0]],\n",
    "                                 {my_scalar:x})\n",
    "\n",
    "plt.plot(x, x_squared,label=\"$x^2$\")\n",
    "plt.plot(x, x_squared_der, label=r\"$\\frac{dx^2}{dx}$\")\n",
    "plt.legend();"
   ]
  },
  {
   "cell_type": "markdown",
   "metadata": {},
   "source": [
    "# Why that rocks"
   ]
  },
  {
   "cell_type": "code",
   "execution_count": 25,
   "metadata": {},
   "outputs": [],
   "source": [
    "my_vector = tf.placeholder('float32', [None])\n",
    "# Compute the gradient of the next weird function over my_scalar and my_vector\n",
    "# Warning! Trying to understand the meaning of that function may result in permanent brain damage\n",
    "weird_psychotic_function = tf.reduce_mean(\n",
    "    (my_vector+my_scalar)**(1+tf.nn.moments(my_vector,[0])[1]) + \n",
    "    1./ tf.atan(my_scalar))/(my_scalar**2 + 1) + 0.01*tf.sin(\n",
    "    2*my_scalar**1.5)*(tf.reduce_sum(my_vector)* my_scalar**2\n",
    "                      )*tf.exp((my_scalar-4)**2)/(\n",
    "    1+tf.exp((my_scalar-4)**2))*(1.-(tf.exp(-(my_scalar-4)**2)\n",
    "                                    )/(1+tf.exp(-(my_scalar-4)**2)))**2\n",
    "\n",
    "der_by_scalar = tf.gradients(weird_psychotic_function, my_scalar)\n",
    "der_by_vector = tf.gradients(weird_psychotic_function, my_vector)"
   ]
  },
  {
   "cell_type": "code",
   "execution_count": 26,
   "metadata": {},
   "outputs": [
    {
     "data": {
      "image/png": "[encoded data removed]",
      "text/plain": [
       "<matplotlib.figure.Figure at 0x7f7f59e410f0>"
      ]
     },
     "metadata": {},
     "output_type": "display_data"
    }
   ],
   "source": [
    "# Plotting the derivative\n",
    "scalar_space = np.linspace(1, 7, 100)\n",
    "\n",
    "y = [s.run(weird_psychotic_function, {my_scalar:x, my_vector:[1, 2, 3]})\n",
    "     for x in scalar_space]\n",
    "\n",
    "plt.plot(scalar_space, y, label='function')\n",
    "\n",
    "y_der_by_scalar = [s.run(der_by_scalar,\n",
    "                         {my_scalar:x, my_vector:[1, 2, 3]})\n",
    "                   for x in scalar_space]\n",
    "\n",
    "plt.plot(scalar_space, y_der_by_scalar, label='derivative')\n",
    "plt.grid()\n",
    "plt.legend();"
   ]
  },
  {
   "cell_type": "markdown",
   "metadata": {},
   "source": [
    "# Almost done - optimizers\n",
    "\n",
    "While you can perform gradient descent by hand with automatic grads from above, tensorflow also has some optimization methods implemented for you. Recall momentum & rmsprop?"
   ]
  },
  {
   "cell_type": "code",
   "execution_count": 27,
   "metadata": {},
   "outputs": [],
   "source": [
    "y_guess = tf.Variable(np.zeros(2, dtype='float32'))\n",
    "y_true  = tf.range(1, 3, dtype='float32')\n",
    "loss    = tf.reduce_mean((y_guess - y_true + tf.random_normal([2]))**2) \n",
    "#loss = tf.reduce_mean((y_guess - y_true)**2) \n",
    "optimizer = tf.train.MomentumOptimizer(0.01, 0.5).minimize(loss, var_list=y_guess)"
   ]
  },
  {
   "cell_type": "code",
   "execution_count": 28,
   "metadata": {},
   "outputs": [
    {
     "data": {
      "image/png": "[encoded data removed]",
      "text/plain": [
       "<matplotlib.figure.Figure at 0x7f7f0be67f98>"
      ]
     },
     "metadata": {},
     "output_type": "display_data"
    }
   ],
   "source": [
    "from matplotlib import animation, rc\n",
    "import matplotlib_utils\n",
    "from IPython.display import HTML, display_html\n",
    "\n",
    "fig, ax = plt.subplots()\n",
    "y_true_value = s.run(y_true)\n",
    "level_x = np.arange(0, 2, 0.02)\n",
    "level_y = np.arange(0, 3, 0.02)\n",
    "X, Y = np.meshgrid(level_x, level_y)\n",
    "Z = (X - y_true_value[0])**2 + (Y - y_true_value[1])**2\n",
    "ax.set_xlim(-0.02, 2)\n",
    "ax.set_ylim(-0.02, 3)\n",
    "s.run(tf.global_variables_initializer())\n",
    "ax.scatter(*s.run(y_true), c='red')\n",
    "contour = ax.contour(X, Y, Z, 10)\n",
    "ax.clabel(contour, inline=1, fontsize=10)\n",
    "line, = ax.plot([], [], lw=2)\n",
    "\n",
    "def init():\n",
    "    line.set_data([], [])\n",
    "    return (line,)\n",
    "\n",
    "guesses = [s.run(y_guess)]\n",
    "\n",
    "def animate(i):\n",
    "    s.run(optimizer)\n",
    "    guesses.append(s.run(y_guess))\n",
    "    line.set_data(*zip(*guesses))\n",
    "    return (line,)\n",
    "\n",
    "anim = animation.FuncAnimation(fig, animate, init_func=init,\n",
    "                               frames=400, interval=20, blit=True)"
   ]
  },
  {
   "cell_type": "code",
   "execution_count": 29,
   "metadata": {},
   "outputs": [
    {
     "data": {
      "text/html": [
       "<video width=\"432\" height=\"288\" controls autoplay loop>\n",
       "  <source type=\"video/mp4\" src=\"data:video/mp4;base64,AAAAHGZ0eXBNNFYgAAACAGlzb21pc28yYXZjMQAAAAhmcmVlAAC3vW1kYXQAAAKsBgX//6jcRem9\n",
       "5tlIt5Ys2CDZI+7veDI2NCAtIGNvcmUgMTM4IHIyOCAwNjM1YmRmIC0gSC4yNjQvTVBFRy00IEFW\n",
       "QyBjb2RlYyAtIENvcHlsZWZ0IDIwMDMtMjAxMyAtIGh0dHA6Ly93d3cudmlkZW9sYW4ub3JnL3gy\n",
       "NjQuaHRtbCAtIG9wdGlvbnM6IGNhYmFjPTEgcmVmPTMgZGVibG9jaz0xOjA6MCBhbmFseXNlPTB4\n",
       "MzoweDExMyBtZT1oZXggc3VibWU9NyBwc3k9MSBwc3lfcmQ9MS4wMDowLjAwIG1peGVkX3JlZj0x\n",
       "IG1lX3JhbmdlPTE2IGNocm9tYV9tZT0xIHRyZWxsaXM9MSA4eDhkY3Q9MSBjcW09MCBkZWFkem9u\n",
       "ZT0yMSwxMSBmYXN0X3Bza2lwPTEgY2hyb21hX3FwX29mZnNldD0tMiB0aHJlYWRzPTYgbG9va2Fo\n",
       "ZWFkX3RocmVhZHM9MSBzbGljZWRfdGhyZWFkcz0wIG5yPTAgZGVjaW1hdGU9MSBpbnRlcmxhY2Vk\n",
       "PTAgYmx1cmF5X2NvbXBhdD0wIGNvbnN0cmFpbmVkX2ludHJhPTAgYmZyYW1lcz0zIGJfcHlyYW1p\n",
       "ZD0yIGJfYWRhcHQ9MSBiX2JpYXM9MCBkaXJlY3Q9MSB3ZWlnaHRiPTEgb3Blbl9nb3A9MCB3ZWln\n",
       "aHRwPTIga2V5aW50PTI1MCBrZXlpbnRfbWluPTI1IHNjZW5lY3V0PTQwIGludHJhX3JlZnJlc2g9\n",
       "MCByY19sb29rYWhlYWQ9NDAgcmM9Y3JmIG1idHJlZT0xIGNyZj0yMy4wIHFjb21wPTAuNjAgcXBt\n",
       "aW49MCBxcG1heD02OSBxcHN0ZXA9NCBpcF9yYXRpbz0xLjQwIGFxPTE6MS4wMACAAAAyVmWIhAAv\n",
       "//72rvzLK0cLlS4dWXuzUfLoSXL9iDB9aAAAAwAA1WshfKGCVVAY4OQpfFAvedMJ0Dm5sS6TEnk3\n",
       "difoO7J6M7UHMoQC7SDcOVGjTItyhp18FcAAFYwPa7PtpoPe/Zp+iT+SjpnwgpLMZBFpwalYsUpW\n",
       "rMy7YhF3ikv6SSsoGWurELpGeNLCX5uVpAt9W/yLRiK06vqHZzwQ1E82y9rnZNvAyNek4Lpwzr8u\n",
       "d5k6hMNb/zYynk9YKphfQMtIxexB0gujNY6iYWhgPtiO7IlN7W4c5vvpJAzBsUGgc52b/lJB/zBP\n",
       "SRQ11mpdaROZnd9rPF3hYcjYQ2ErNh8GImNgs34WoJlJeih68SdZzEi7aibrVskmqxJQxV99I5fr\n",
       "jrBY3XwutVIiq80vlUgJ+8bDpWjkwM/Tur9ULEvZGajqmNHfoLO3e9addoFa+MSugwIKDWOHsz8b\n",
       "toVL/Vhey5F1Kzf0zbalelpjkpM3sXTgaYtmg7Uj/EntOtD0cw2MWxoijfjD8fU6axPxWXc+c586\n",
       "epFTPRH3uzzmZDI1Wk8S45qbCS4w01RdP8up3PJalXWEc8Ix8tJMJH2D6wjeYzsDlFBE5fRDrTro\n",
       "nRgW2fsKmZrs01Bo9zXGXa/xpzr3SWX4+YN8lUFqSh/BzoVyrQew9BvRXMbjv9DXXoLt4teEE2Wt\n",
       "8sSUm9mCwNHh6K7g9iQeSJupObzb90xyGaYNJsyvz17n9DebSKwXJkq3OWXPpfhT88nI19s0rYXa\n",
       "Atvz5quMBwYf/P852KSNCQ8HJ8etKQ8fbpnoHbzSgKRK8v8rio0/GyNZtKtopBsFjkOqWJiH8gUz\n",
       "ueRZkiVwx+86Ap2AYAiQ5EsL8VAIdMP6IJcnh78nxgYNuczjmKmvTnQjUDyTt1UCSASyUiqjAo5Q\n",
       "WXEjLyXkxsYB+S1dOb57aKtwI+jkF7jJmXk8fZeh/7eoEFMkDBjbSqb0om970zUQcqfSGvdabKog\n",
       "mcaxBnUAWMGIQsSX2T04YPOsiHq+aB9e4/ANI9Zbr5GqHdYGo5podBN46aqqAbbBPdXNKSy8a7Nz\n",
       "tX/ny6JRL9i8Iza/5eLQmev0EaPQD/ODERqOqyif8XrLOD8TUeGMuppBl9a2hqx6hL8y8mVJIKKx\n",
       "H/36b/fiISoZZTGR4m1zbLHMA2ALPr9ucUr0jV6m860iECI4fwgMmOQxtmjQBVsT/gST+c+eKnUU\n",
       "82wHEBTLM7qYGoIIYg0tI1KUktO/xPp/xxmGfm8TvRDgqLsF++iIvHxHnWGVQRsm+aRoRUH02z0l\n",
       "XLiVMoII0UWdVD0JytjI5QLK2/XLZtLv0cQ3h9Tek0Lh9lzmmol7RMH2WEsOaLtumkx6nBnisJ9P\n",
       "2nx17i/dFASwqC6k4niS2C1Hnb0f1KIoCXGcsjwHlt+DTsSeBwxkFHyHDRz4Yrd+07tiV0z9hodV\n",
       "Wz9jeKKWMSaoB0T8dGW6PgwOrRgr0kszYx/hwE4C9AsbiLmDF+r/Wpv8SQH5kM1Rrv69ZNZVjZpX\n",
       "1ZaLVK/M0kduEsmHQJbQL06ufNH8wO8+8IvQT3syPyhTFG5gHDpdjVGqwCqbaYDNut671bE5mDII\n",
       "za4VSPuJqceg936gkxlz1drhMBMeeF9F7puCbraH2rWX443qUOy/9uk51n9hcb/LEDLtIa+MV4+S\n",
       "Ci/8CLRaI3Tm/z+05JV0BvxuwLk1+L2TRIsY1bd9xY/iBtWCUp7YywgEZWE6kDXFj7axo7aUSV3f\n",
       "Q2as0/e1NzARGCg/wyHDFiiXa9YRiAq/FTI0m0Fi+wIeTYxxm53GvD1F5yZbGls+8hAR8i+2UD/m\n",
       "7XVhnV4VoM+aJ9oogWtIBf+Sjin/j4n4dqIYgGlf1g2ruNjnT2DdPBcD7wXbx/D9bEciAXMPiKFg\n",
       "27+iyxV7S1EshgXZ/ov/NbvyV2nDZ05v0sSEbXpk8FqQpoquoRQbAqBd7VfTsgn3Fhpk3tXLKI0U\n",
       "nu4wzJPwG7sOH81jrOr8uHfALVrC0Y+aKrL67Wrg2D6xThmguP8EJrLCw6X79BdZLmzNaJIf2RBP\n",
       "U1Lp7HK0fGQduXMbyWNZtxcmHIUGymKxtQcBYClBH44kpRq9zkuAcWJ17crN+zw/vBqZCuROOft4\n",
       "Rxr3mYo82BRMJY5hkD99atiGUHnRmRLCgxEok37CFx7Y/ZnTIyp0Z+nY28oQFXcWWVLyTHkUu0nB\n",
       "veMjA/VSaCK4l/lF8Fn+tH2iGRXirMM16VQWB3rEta4JH3+my2WVn9r1n1yGXRqM6MTcz+BGdW5g\n",
       "XB638llXIV9HCYeg8LcH//fgLLXsr2L+JIFW6Lxcr93ppd8aMOA5eMDQ+3VLbKwTQkYtr47iO2r0\n",
       "M5tTUKIoFx3saw13hPIJiivh77Q4DiHVseB7CtE4IQ52tdlz28lB93XwmZ/4bLDAo09TCpiZviUj\n",
       "J6aWsIh/gS1BTl5EBm7kd73IAJuHX3GQzFtDZkaEe/gPbCFfE4gCS+FfIzaOGmlAkOX1iIdCKCTf\n",
       "BHtqSdV5hkjH2ODz8lKATuKhwyo1yOqKXe8a1jHvgVV8LKzVxyAv4+pMeHWLArlRaYXIiNHBW5g2\n",
       "PX5xCEBoaNyKzyQ0sMHQdGN60MQYCatTFuCjYd6JCxRY1KAS01OGZQe2plb1VPp070mrqi3yP3ln\n",
       "y5zg14mmTO73uXLem6VNyOqQx9i4oqb5pugid+j+C3md8e+TePEWaKa2SrcPWObXl/55M1e5LkbY\n",
       "eb7H+BaZqeDKPJWTHRm/LmZqehh5DbsYPhvlzAj5XdWvXBTin4f3chHkn3BXgTNnhFPdcAWZ0ozP\n",
       "LocO/Ne31rqwqMx6B28qXiilBDD0tOzmdjLcb/vy3BWigwOUT69OPo0lInG83ynZEGNtvBshgdam\n",
       "mC4+8yntfkyausM2+kb8B/ttl9H8mjXCqzmpZiAV69Yd4NGK6k6f3T/zpZAU65Vw2XvjdVgw/3jy\n",
       "EOZSzKi+D9XZx4G0Tmg6yYvDWh7pVhBwf5UQk9+C2eTLUHTZ6sqT4MQAZkmUdTlPXc8QlrLFl/Py\n",
       "mvS4+zyHncZixvaW0vPVgwn6e4R4fW5dfbfdCqlnhs253kEF0srSlOwihAmrwJxaVCHoV4fZgdEf\n",
       "upAGYX62W6bAc0NsFA6Tv6f9nnZfDcl5UFy7C+9Efo9tl9BMBtbcB5+Dc6+nrTxS9kJdrAoObMDs\n",
       "ci8CV7o62a+l5xMhwGHNvyH523IT8dwnpN3OP7UU/pq+dIDlqZtynHgxkbjgByg8467/JMVMhqMy\n",
       "RDrwX3IKPAAC2TkTmoBuTGnQyitsk9orm5UPo4hQyunTakJ8CxX/9COhqVXV57H72dkTCp+KBLqt\n",
       "LVoVPYFxq6FdsyBnH/Ocz6GGUMJ3CffefKynFksf9+992GaW52s9NujPwH2080pfpUz2lJvv1f9J\n",
       "GskaOUVqZdENcJF3sRmmgUNblo/XzORcGUDaIcQDuGOjdyjWCUgfp6RmIppU+siQiMPl7G0RBNNT\n",
       "UdXVbkGK524TNJZzl8objUjFH/M9FqIrCln/iLxXlwuEsituRmZi5rTtXZZVR9ebxHe3c7rrOE5m\n",
       "qehCFlPRwhq/hz9iqtht1qT98nRZvx6XRsNA9gmvxjcAkO5Oqbajuvfr2NsLUoSthOPeBKyFcpMe\n",
       "jCUORriPLQjB7yYJL+xrTmaXBpAAADEqW2E1OYOqObw71xN51RiKjS9XVYbPyCVPUmD2qxTdotYw\n",
       "1pV2/GhpJ79HdY8jlbtlo439EuPYMJeuSqOGDzIXOyR79Kmsrt0SAHic6tG5fi6wIifPvcW+G3jl\n",
       "pMZpPom1y4fFYH5IoTeui01uLXFxat7hpidDZr5o6uCPr1kh1HUAQl3fY70WmVZP/ymgqCZ6Asxx\n",
       "RCDRXMPS9ZCSgE0fbtS14u/ElZzbcGfzIpNhK/PuXl50hWz2c9gR5hv+YD+WZA0O9KCR9RWvKwh2\n",
       "jGDKqHuDLrbbU1Ni54t+LhOKH/VZ15jOHfac1aDrBvX5dZen0KSVjdmjXZ+e8JU8HWqGbf1c+zYs\n",
       "E+4MaGBV8oBeYMFmW9O6z0cDtnkLX1fKbP7BRTAZwHEmeac5pQO2RSb5F4/Kj/gi5nMwisvX4xPf\n",
       "F9JQmrb5Ztng+RlQ4LJh9+LhhMR5h3I7UWX4w9CttYSwip715z6yHKxtilm6A2rRd6lKzPwoCmpq\n",
       "dvfAs70QuLuiUGpqyHgvPSy0UhamDCwexszxsbNwupehdoUMW6Q3vqBWpEzLHTWliwngL9M3BuT+\n",
       "x/BRRI+Q4x3gJngWjiD+TYAEQFnK7R0gQC7ENMVhRlF2qswVHPg4vQYubvve+vf5ZvyjgCAIPD10\n",
       "76vAwzMDFL6qWLY4t8+jNW5SdGu5KBmVShm4CD8ekKClo12Ps/vX1aHyALEEchmKkZr3eVL/9WEH\n",
       "06T51juogHetZZfYgorhrFgCzEh3QJLrLilsqEnK5q++dL4MoeFTD2h7EJkqERQkdNw0uoCjWT0c\n",
       "f+rZEtbAX+0PuPpgGS7qaXDya2QVjcjOoQX7XmRo0k6o9yWofslzsQbAypA5eNbAtGUjpupQqlY7\n",
       "mHuFxo3tBK96HA0IVsYvSgs3+e+ikIg+W1mhYi8O2mE9bMlykMfV2YZTuUK8hB3m/5bIJq/30mG3\n",
       "lZ6DlkaBQJjbybJaMobTK40+X90XE5lHN4vMG71nFmFVhnMFg2VirQoOHF6JjiDYo2ywg2JwvITj\n",
       "UpN/zw7KqxVOAuVc5Tme/2fGbNXndhMYTmkYGhVB1lG9IY7f+0KJfW83Rfa+EIKoUmyHjW5l12Pu\n",
       "oEtILvpsM329VCB6wdgL50yF/NB3MS7icbqlk+b7mm4FSd7VmcsEMfbNQhLf0Yj0Hzdx7aX2zEr9\n",
       "IQl5esEBxEPivDqozL727CbfC7g2PqTX3iamNyjHFrMYZu45u1xWH6CjLWIuH/c3xsMaLVib//eB\n",
       "cZ6CDeGbZgs6WZPMht8jI5GNTr5gfszMx5k23Wvi1mB0QqxnuEpLtOQyduQi2zFBGgqxAbjelxXI\n",
       "Jc4w38KY3/kyHE+dDbtmfA07fH6P4c0DRHkB3WIwPb/x6PvAUCPPtP9q9R7rWPzynOZZgAD15NWx\n",
       "CKf9XsWhjQT9WbgpL+ReHwKo6AvwM8Q2oN9jSmk9yGCRT35lmVbFFXgNSlGfdnOOCJIMg1wSd4dy\n",
       "7X3TxlGVPnwAABZ7CD3pLi5cR2aUqxFY56nCcjH2fTCd0lCiMGqPWtVSr3hgC1kuJa3jzS5OS9es\n",
       "YGkhqNTH/diacPgBLD8EM/hpYRLQbVzy49KA0yvrEbqKt+2ZtONr6rkYvKBVV0xLB8gB1hE1XA30\n",
       "/VMdZM8E7hFo5KvbISvgk5I1+1E3i9S2VaW7ZfjHW44f+LwzUm0RmbK4csxU1tub38cgCpn1wckd\n",
       "+C68N/y/bVJv80qq7mntWbGPcjY1EJ9ZeIFBRP3jEtCnykBkB7qCMj+J33Zka3Dwya0aTgYKDcL4\n",
       "AhiivVgZY3H9NtgXEN0pr9+iXDCXI6wKvUcoaBe1mbsMut5H6GJzsj+XsNh1Ehin2Hm4QB3Dpo1c\n",
       "vI/0hdg6WUgo+S/oyXZg7H89XuBaV5Mb2qyovBFMOhugJjUFdSFly4+zQhbV8UIxziTDGH62f1SD\n",
       "kBMjf0QkA1XLzA0MbP37uOs+m118lbJXOm+mgFe5zKeYsZxK6cHDZdmRDfLXiCiwNmQlX3Y1mFu7\n",
       "at5Q4KWz7EXwiFU7/LJlA+Z1+zT44LWLSByrGj2obEZsdbiN9rtKEFm11xD0XJeBITKyoK45Ad7x\n",
       "gusmcDWBBpt+uR2nYyqhLq5LzONmz+Sa5SiB7YN7Ml2FBdHUNoBUHSNARG/8W80ynYbq7APASaJF\n",
       "MlsMTyCJdeiAVsEqJNIoOW6Tgj+Qoe7fVfkH0vKH9sJ0t/cVf9EvaHFMDrbzH27cwGTjSkdwe8ms\n",
       "FxBvDUwlN414/Y1W4wOtoVM9C/CYCt26dvYlqweRpkc9xj0pu7OP37sYl9cKE98P239+k/jQa7K9\n",
       "JfxPkJv5xNjlWLXMLhND/4xkLBB94+9uXuqXOncxF1Lr9EaRk4aPMlbVfgFjPw7uEyP2CKdnzBEe\n",
       "0XeP5AaZhINjdsDgn0r8d0n7uSG8MGesR3SvSZbHl0YVPZEfHkwUzV5V37wYRpH/7MvgTqp5P/MR\n",
       "pZlhCg7tM6KuAWXkqlBzEnLi198vMTldn94lar6StnNWJYH2DtxQCIPJW5tRgwNa6BX0P4zTM053\n",
       "mJP7adWaK5ShDmAC/D47gC7GnSpOPDwWBNxW5hpQ+Utt+Z7maTRV1EAQXlX1JKy5DPYohbBMiMyc\n",
       "OCFqgXAWRcb4bCEq5EOmlqvKr8+I1MwpiukmS44LB0+3HGTFvN6gKPKD+cfnCmXSldiMYm5XQj+m\n",
       "OA/Di+XYU7XDOSKjjomPB9cF9rtQMHkbV3J03nvSHkQalGOGPaaOp5FzcfCjGpERT2mHYBQPMvVI\n",
       "96qvx/qRB+nCi7C+YmH3R8N0PrdpdtpPch1cB6TpZ/iWHfdQ8tWG69z+VsX7CKy986/uWes0014A\n",
       "nA0BAMr4/uvt6C8hW8gBJ677k0QAWssVNL79RcrMz7UwfO29pnT/kaAEneKQQ5moMgi/P302Jkq2\n",
       "A2QOZkQIHdxdcjT1vK11u97jPnVOCvUxFeLlnr8sqP8dqeiz6HcCZJy2LNasgXyC77WxrJdxUaQj\n",
       "ILx/fNF15cw1Vn/HXXq4kyGSdz+Bf8rhhsJBv66wWDvAWX4lFKnnRxmWlIuZnDTIWtXJ7HyOSS19\n",
       "JVY0R+dYDDCCE4O5vvrmShLkwRq4ot29f65/7kGzJE69dSqnxHCUELFuiQJhTq/tL1y799NShtfA\n",
       "Ozl58wvivSNBptlTETE3IlgYpmkYGp3x+OpISbChEh2HjT/aWABsM6gv8+QBNGTLGd4ORqTUTLy8\n",
       "tZ6mTb4XNtOWejy3EqnOooc9mzdNdFj+c7AtlZ5heJRQ6Za3AlE3WV08Zc7KG8YUOpT0v063aHlP\n",
       "53DpGp4X2EDbjlGuK2lx1FZnrcxjqR/mctKmJcIR64eup2Uph9zJdMkYP4c0QuUhu/S1m/7zD9c6\n",
       "peo6erL0JPntz42J0Coo/A6U+eusBvgJ7/mbx5Fcw5Dd4V9omrown722l6W1EeGW+fipTiyX14wU\n",
       "2H/PooHrnBUgWNuXyoPUIXOuFztXiiI2AmjK/dm2S6iZ9fa8sYH79p2aDlt12/isFjljIv0GVl+C\n",
       "PaBqv1hU0B1YFuEsIlOJS5Et6bGHOayNdmZ4eB2VTPBFXp7fxGaqeuDDgNGWUSt0JJ9Y9oDxA4Dm\n",
       "RJsCdY384iIPGOooL0LZ8DobSv10mrKhrZ7S7Zso14eXHAh8/JaR2FtqvzU+OJWaUANQcQn1/eO9\n",
       "Rpg1Ya2Ruou0aimobvXMbRVyT6d/UVwDYCVkSReEnZ4e9TybBcJMKdnBp+qiyxpqmc94hJ7TVX5X\n",
       "XGXz2IlgEMyX4NMhlzHY/EcF1Dxih19QgRisEFFnrGNYGsi1JpMvd3cDowLii0DPxD/TemmPedw4\n",
       "8UgQEDCNKHhadnGMaCR1gKTMMFteXyZuXcpeDQe0ZEv46suJkBGyksMYjC3KmwVe4bebmmqsYlXY\n",
       "5Xm4C4n1G1+URz62PstzGTf/ZUTEaSvZCIAbTBbTnhxyv22yQJY56o+oHwQB0NHJFshDSX+qD77S\n",
       "Q4n2gAT2wc3BfbfZvhC6HYhxZtzkZhMYoF5FVbvLRT0+GaIFN7vB/ZgM0ewHO1Epdq/ccsbBDcil\n",
       "0b3qy1rDlgABdaeoDE3KBGCUuxbSyY9JyYdjm3jjQutgoM3aHI/8WRi+XkbknpLoPQ9gUB7eEDhn\n",
       "RwOpChkBARX9+JM7AnWfr+B8bNTt0zWwbuGHO5gFH1u4o40jt8xv6mbA6hBlmuTnDPMC8Wnea6BA\n",
       "6hj8hdL7CDIrL58MmAmnFd8gvNnXMhR+qPVuJjnLQ+/iEA2RoOwRnzN9d/MlD8ka9cYloyvAV+jn\n",
       "s4j0Sld4lg4U2BKUBzg/pM9nMEWyLcc4e1ePxqRj9pMGq/3tuN0z7U4NodCYM3TrjD8ot71h42d7\n",
       "Lb4hwt32KvKPtsGaxuG04bWDNAu0F09/byAlHvQc/g1dGp9QscOp/EIw+2INagR8bggjfs/XC4xe\n",
       "Mu4H4+yBFV9Jd9xil6nijnhOWD7BXvFviGcaNJObJga7EiSmQBuc2cLGY/9Qbd7OLjbAMC9f1iwA\n",
       "RUVrLEJNiJ0QqPeg/OwxqEZp63G/x/fogzsyVjo8znHwdOwsb+5sLy9JbDMV45H2ljuoolzoITY4\n",
       "SjB0RGXY7NSNh+DIWZo9fp4MURBgVpZMQmPixpws/37J/fxurpk9FWTRKaHrtQZEFvimSF+Ok43s\n",
       "CxoxcoJt6vyk+cC/R0fP9hq93Si7hbGFgZW8b23dcdpvqHYRqiBgkW4GlIjciEISt1pPdCQwp154\n",
       "3mh5mXigJnez1BeFyUWR5NR7g2uOcBayW4WLMxDx3bfACTWp/s90c1Nx4ll3t2xdpFwtOdeEIE9J\n",
       "x15IYOzOUlFFPds2F7SAOAdZsraQN0AhjMnMaGSyO13N3BvgJQNxWl1RvXdMsqBRMdiQJpPy38/m\n",
       "F9kEnqL6zW4GHSdzEtMD86wAnYrerumedE2L+3OlTYTeTp6KMqCIRJll3+Vl1CPLgmEWegNgl9ZO\n",
       "S7i3sSGuC5whsrzcyyoHHMi/YoHw/EzK17qXlccsFoZa82obRCq//zU5HvZMliSqqa8O/peTa70X\n",
       "lFCuXcC7R1koXgtDCyM0vZhPBTyM0U7c1JZbzZc6YSA6jGatLs19QmvYnblli5y7d6acHIC8c139\n",
       "7p4rVef6XbTBceko/r/d+Vkipamzf9gfGhG58a2faRyGoZqsOPtEGzRIrjnoibAZ/EO9X/BJ31Zv\n",
       "59wUVnkFPwFCHRxer8wRF6bDMNz/aV0kLNFXtlXmfwWtdt1ISj6Gg1sWa5Blh2e/OMyzQuv2C4oE\n",
       "xvEiVst5uf9akyeg93e6Fl0Ii8SUk160dratTUWLt1S6aPSEoMW7ne4JUrGk7AmGffbwh4RFswXn\n",
       "M91JGk8wOQ6IwM8l/3J86vv91Afi7qNVC/IhVNw1AIf+UnL7Q2cCtzylVOrwSx6o3kaS2nWRuX1K\n",
       "6HWGRkoBiOTChQsmXj4N6yKPTSec57IJkgspoC9vBnMkLzw79j+XjRMOkVprPyoQLKyWn960WUVx\n",
       "ZT3b17wbp9BJmm07xnMQRtyaz8DByFlBNyKhZRNtrmAM2w87yCGYcniCb1QYLuTGC1rJJr+/+/pp\n",
       "gBmnddI2dls2VQdeQo/YQD6C+QmuKhadbPYGxrXsvcAEpJdpTikE0I7ChTB0VOzLZyiPGzAstCLE\n",
       "9i47eAZx3HRuiSu5k1ZrjnTTrJNh49mph5sA/OtY8rHC/mgS7BXAvwHXY6a4xMQH1xtnBoZBgqye\n",
       "3BxaKsKLne7sRLWtWWSjRQz4r2N+nBUXmxryWoegMijJ2gPXZRYCO+uoydKuTC6lZpnYfC11O4mb\n",
       "gmLA9CSftxW2D+S/jQPd0k66DqZm9f0uKH0+KWLpOaJ8Hhjofkr7T3dxB0/pse6WtYllcVruDW2O\n",
       "Y1IT3WBSRw39lPPd66Y0+25T8o4pOLajo0diikudpTlsqn6oFWuKgRHLRsGbjqC27swf2pDCrYMP\n",
       "919McbvmWFPk2apnJnNQtOyKyoauJDBKmi9Xow4bt6ws63+/zcfxTnk6w2UfrMmU5YGsbWEQ9W0z\n",
       "6k2gdwYzBa+OjSNZnsoZIfwFKK3rkw8xdyNzZpVGJOs+jb3Xr4L/CPlr58xkZ7R5V+tHd8P9QnzY\n",
       "E2tkqRABWlTdRnRuZoTOzxlmpmDSaP3Qg/zUPEtMqZblL3wmrXR9w7xKAqEHobkESs8ORDwPyIxf\n",
       "bp6AjHzCJ5wmyao5EEZmmHDCDX8MzlglLBHcJ0HV6TwIOTnx0q+jtKd8sGY2GfG1bL5c9cB+gZP6\n",
       "dxsC2sasl/tQWeOqnjBpziGJljvCwCH8Ozd+PHqj/zhFlFb3FVH/nAvNIcZHwhoWkHEPChYpOz1v\n",
       "qyrZKly7k8bsALYZf83YLtKeSt4wsClGJgDL3vxpAHlxL0PKBFkLQ1EcLNIk7WRlkhJyjzx/Jcqo\n",
       "DYQB85YG+q0pVSDjORVUKA3IXd/W3/6FKF5KTiW8W3IS9zqwjFUK53B/sfI1NQrTJB3XsGc3gTW+\n",
       "gGg0st7LWs08lIQWcjb5dnARkx7elbSqsuVbt65kPKxzL3jLT2j+DFt+ZE0IMVyuIbhjGE+ewHGZ\n",
       "miGQU7qlhs1W9kl1tII3/wRm8elip/NuQSmFxf7XgxqvK7TiVr9dEQ/8v3JMYv1FZ6pK3MhYcCrO\n",
       "g313bvQM9GKbJXPOaYfHJZ4Htm0rQKo9SwZp/Nwf8/lc4xad/OPIayZm6x3Ps7tkURAdCBj222ci\n",
       "D3E1XhM3Keo8Ou/RvZeTBRBAOkdfTSQMEp7b6qVq1lNgAnOSaECpOiyZI3kH2AiSVctGqDbdWlEb\n",
       "cFBdIsG46/3gMutXRp6hLnACb8S5hrRiqkmJ+RWXPSqT7l+fV1xsaYydgPXfqAkdYekxYmBtkLiq\n",
       "45qF/UkbjKslb0uKTzlU5hu8FNlaX6H1TZ+GfjWAtn4uRaqFK5fhhZfQnl/qlii0M+skMsG/+X3b\n",
       "/aCWlQ/7wvRhIx39Quto5Lyda30iddcSgZlyoywlR+xD5aXBMu0hW67r8WUYEoLeDh26VcjIJX4B\n",
       "U9ZvjDx9rSZxUX6TFT0CI+nfHjXrLnkmW5Web3aDL9N7yRS/S8tCjAZ9S53+xppzmLFV5gJ+UJhR\n",
       "pWeph1LvTJAfspeSkmuroUxpXDZ278Fl9IF7HaKjQKqQ+NtJlyE594cjo/7f4JyEvAQ03rvEmHd7\n",
       "TLx/9XnWxQAN6HPhTDb+gZz9yNyFdedsqzckSOKRir/ekjEPSbrzdSeDBcEocLBxIldTUMfMAt7d\n",
       "ygm6oUUYY8SFPCaS+/RYj++REL3xvFgDq1rC7aPgpC58cEnULmld/bePQ7nuwz2Op5wkSnuedXuZ\n",
       "Sq43v/hFJ1eRRVBt/QX/ra28Mo30xbrNLQCFbayQqEZQtMn/769lsZOuj3OCsRHfYY1LS++2jG2B\n",
       "8JF0r23uFxOw2Fl7SGsAEUWhwyXdKhWKAx5ZUipCrSN2YPlwEPIVnbYJCLGQVuuifJDhQrtQXXza\n",
       "qTCdiBtWM/CJAWcUEILu5oJxEbDHNuRKwOFlsXh+RgjBjLycsp5Fd6aZiYZymNPwijw+pnAqIBzJ\n",
       "q27/Efte1ZFytY0kb1Rl1tnauA9JlVSpkozx3xr61VCvRQ8uDDcGMr24P24wn5ON/JWyoiby6PHE\n",
       "dmzrGH+LiN+aRZE5m+oQMF0O4JTGi1l19wEE3p3acNanqTBjEbVHMhLPW+BcwU33AYDKKSbe99JA\n",
       "whMNgcuVSbGMYKjk/WoIj/bR7r6iq7AXjWYpJ3Gmyenqsbt+UjA4qeFveLOz4CI7ak/EdOg3by8G\n",
       "Mvjiqxoz2sBP+h3uORmI0zMEjRZUDcuLiPvARuXS7eSabCMY7iNM/cjZt32SUG3Xjeb+nwdtrvcs\n",
       "j1RSj7Pal2l9OuTMB+K5ntxd9DQ6X/31mO3RPl1N8wgDbFwY6rCz+0Vxba69PgTX5Lb75vyQM1np\n",
       "p0A8z2CmYcM7gkcVITNnnWqoZ4iDttBYGiCspqcXJ6NQIOJXBUyGYVv9x4qx979kQ/nKq4PZbnRI\n",
       "0HQlrfHBQW47SuDB5dVj1X09Xr4OkEhR0OXAVa43W3wT1j66EAYicHPPdCwBPvsL8NXczMsnfG0L\n",
       "IKhOgIXxYSpZlxiYkoRQ7QHVN3pqUCfHcKnx/N1CjOzq0TnuLiy8qCMgs88rr8zgFS/5MJ0Yy3Pa\n",
       "v+ehIw9qhaHlp8sLmTvuDk1tJIaW+HLkfx8YkbmKW5wt9+GK05ngsh6eBmykxCaKSJ994CbfrkGx\n",
       "+vxhsPibOZmPClSelZ5cWrty2wMFOZaYNHgjWyo7lFh4mbthhvDVR8HU88fjnsFFIgFOwL2sj9CB\n",
       "rE8LBIql/azc8eo6+eAwvMcP3B9LmRGiff+VR57tmuQFgWaednIIZlK/+fRMr+ODfmgs34zVCnEJ\n",
       "jUgnWXl+d33p0Ips0qt3K1KZSDypFCbFBStxIQMk/YvHaY1zdo1scdW/ZUQPWRKa1Yid16snzfe1\n",
       "+9mSK4UFwM1eM486vyThl+V+znBU5eg0nz/TseAEZLhgbInuuOEC+1NGg5hhhDW0dIUrDfAumaPE\n",
       "ONhB5N0My3ZlAH8n7zE4/R0Gvcf22rdvd1buVuhU/U22K2xiTftsJwKhepjr3NV3d+mpT/AcFIS3\n",
       "VGlTM3Rp/aI9gl4fUcAk4UCh/arQ5SXuxZfB8BmGc2GblSGsyc1FrnhzpFhThQaeHZFCtJRGpueF\n",
       "5arSzDAZwa6nVnQUPM6DHpBFvI9BZiGiS5UdIUiEvjB6z2g2/1eSGvdZvRhjT4Rl1Ue0rct0p2kV\n",
       "jEW+M1iienrb+9ZfhcAaK1E0+rd6doxf6gSaE81IprACM4PHt9QPDRD3u79Qb4iwrmRF/A8jZlwt\n",
       "PmDsl7hus4jAawIkiQTjIj1nmIFkPwU0T1vukHIdk7SfAMcY/I4JmO3JO5dk1iiPzfq+y+2NzOpe\n",
       "WsND1MXKp+t/X36ew5H55dIwQkVMfktXJQukmWoJOgfayJYlAA2vUAOTGcFEGLf7yHAEYXkXbX22\n",
       "+Ah9xdaWFj8/iaODBkTTwfgwGi6hlNlKYJt0PlWtl9i0Frhopc91c6pcPRRtJCAAstdYP8MuAw7p\n",
       "MFcUrejNL7BPs4W2A9fbuQX1cX42nF0VIVnoGFuXvkV5KRvGTjMxVNCwR152+K2VZjJnm0pFdiwM\n",
       "Fl5167SB0F5zTsSl+oxExKMVq/+91Vccbr3t96VZuQOC9iG7QqW/4KZUYUvCiVrYSM7dWPHlGcZ3\n",
       "UGxmNjN+2msnHGDJb6DoXgNkbt0rmk1TUpsp9nUqBEaOyPztr2xMqWQQwqiyTRYXh9HeGF40XGQm\n",
       "+I0F9wVtxhN/5NdGZnV7h8H/iMeoeDVXOLpIz/8cX+b5LhNf8GI4fTIveXZ+24qCGz/wuG5+zEaF\n",
       "U1ufp2WLZJUga0hC8zYRqsAIDhLaceJTANbsWLks+4BXb7HaN672IkbP9IqeXp8yOMkp7ScvIa+n\n",
       "7X2j3+HrbaaQQV+v3oTosPz5YjEKz62iJ9Fx/rIqzKB88KhGGZ7ydiS4FcCwGUGGnPgIgpNeMCfk\n",
       "MNUH7NktHpKa4DoRfzMP2Tx7oqUQtb8TGDAMszc8KkuSeqK3VWydw4yodqXmkMHUs9ClxlqTooZl\n",
       "IyvMFf4C7t7O5Wn4hO1CmdaSPGn0rqEtlkjvs9B+pWsALBLIaD1WSz8bE8QzGoMMw8mQ9W+vfL/d\n",
       "mPOwXwJnHWafB90b/DJjcJOV1T6DkZ+v6BiJqxyM2M+oBrqb52KN7Tjkv/C87on1F6Aqgcp0ElBt\n",
       "+5XXYo7StTnAtvlOXU06qIBxFmkiCCTaCKRRnh3Wac0ydT+V/nBNz2VNq0098C3XrQTkfrhocDhr\n",
       "H1gYe7Nzt8DpsWZ3ZMuLKkqNnVBvUq0+bzrgqb+6FlGarEkbCndxb72sNWgp6NxT5FVGTw5IDedX\n",
       "k3wE9J0TffawFjfqteAt7uoG0V9DQhfRtKLrodoYusfnNwQXop/8eJgv2F2FFE7v8xfXmrCD3kgp\n",
       "h65fVPTvIz2179mn2En732Cxfj03DVEy7+OPHS51L+reFCMPE90t5XWacGYVPG2NCHRvSlFIVp2x\n",
       "rgD9+qPxq3TA8jaFrw8FKgrsotTKwgSI+Z698JcB41661REofjod2saX7GegMzDpfoLvlzZF2KKJ\n",
       "dThCNCJU4wEii1uP3Kt9/RUQ7xic1/I29It85m23Og9FSrQNSmn/oaBlP9S0E6FZO9GkBnUvgJzz\n",
       "zCq9qhdMWFWNVHprRUdhjLwIsTM1NKPj5PHi7/G1gNwOv7LxMBQkkTajkAwRwAdqGq+w/yCqsyAG\n",
       "BbTMaeYW+2GBFswtkbUIff9xNMg0U744jeZx3AchsEr274vaW8qv0aVjvVnFHMMgIMFHyYa+j6bM\n",
       "rLh2hCO0/UGpMKfQn5Z8kWjko/0im69YrDsy9/9bKyfBrVcFZZWHZa8HWDQYo/6vtifKQOEfHHQQ\n",
       "tqJK/vYTFPh600Liu27V/FnvAIAh9WE+sXF0DoVABLx9DnMHxT4e+RsTYj67D2nxoJrqMBrCqRZq\n",
       "m6sqJvRw7DAF69q82O8k/9PS5Ewpjzuiq7f0XUP0ElJuoZKL3EBmXBRGYmD9JaH5Mo8RFLVV88gH\n",
       "qr5oYoCq938CwjV+jXJxZCt1j2l9gqzf0yC/ywtgJRBQ14p2AD9lh96QUUA4VDh3adLAa5vRohck\n",
       "sV4CX1blbsIFjeSx53EcG0a7ZLvC/LOV5hJifijWzqrFbvvIr0btouefq/90dKBa8+7hW73yY+pI\n",
       "KeXnmM6wcqE7Im0N6nKrtCGKHfhiaP7bKTUDgSep8ETi2aVlRqwy2LmzQS7MUHmpxC+4xOom4LEz\n",
       "CYaJFrd9kIMtBqeyz1p9swWKBLLCTtmk1SJB/omtQBb42cwP4kO4iF0pZDb35dg+/9Sv5pNOCU7R\n",
       "omUgJrcmIGU/iqlnfltE6i86ivQ0l84lfynguwk3HlKBSwMTzODcUnb6R5PZiSpooPPxOEVLrswY\n",
       "iFl02OEBf2tjH9OULkbJ2cG99s1weLmrXX6iCfNVj1Vi4sX0V/ET0PhwhE0DGfDKhrmfMspxnNID\n",
       "BqwzQGMgoQfLNVDss/GuRTjR1/EoN9T/2ZF3/v/YfGDuu0hErokA7tQeWvRD6FCJHBWcG2BH0lww\n",
       "QE45aPxhjKPREYqYTlFaNvuXYG2308ag8al2SdetIjbdcaHWg///n1te5WTiVXtP0RLuPqn+VGRn\n",
       "Yoh2izxVFL1Tr5/4DSv/JMhnYJk94mZmXNDfgHjPnfd0Y9Pro9NJFvXL5NG4vc0LWeO1Q73/Cb3j\n",
       "bXkeLHmIL11NG3z6dsBoy5Qi4ClE+0YXbM2gb0FPGZLldSLxyZHBb5eui5EstSb8B6awxmhnDvwH\n",
       "m8uyz32wAP0OXOe4eNKtsTGMchfZRugDuQ5eqNzZyVqsVWTpSfd/up5LWdf3B4KjOV2YjT3VTAip\n",
       "gZc897f8JSWlXMJ5lCB3TIeXMAgf1791/67ie7erxMM3nbzPmWFp9lH+KuiToHljwMzTgWsSyD8l\n",
       "Ctd79BPBs18NpY/rvCGP+Lq8FCoH/QHTnx1vcySVSbaaGEZN1y0W1MFWUKwEeh1Zn8q4X+wMAPgk\n",
       "ST6L8aY78dEgIVBj+eGk3K5tzXR/chYPriq6T9vc3FB+eB9YBooigxvy5M8sf9dxQqX0FivEVdu0\n",
       "4nrwBHratnnlt6wBDCgPgOhwBDCC0rY/vttw0gS7+nPMzyhg1DvQQR+FHI5VQX0pYmbUEK+FMdof\n",
       "TVVVqpTgNjKcDtbLTIZV0ZfbvldFdVMweb7CZG1W5jP2LFQ/fC1nQsYA/rK+K9R4/d9zisZx45P2\n",
       "TORFqC0J1ZXEOHWdjm+zQsJ75shjaydlu4yQ4rK8H9GR4FZ7MtFi0Ozk04PJ1HHeW+WgELIUnLwi\n",
       "KaIfFOuIcgQV5rh4+ijzQzHU0r4QPMKoarNlGoUnu6ylCnvg/Oq6TMsH+OxVCzNQL8EFec5I9vWG\n",
       "1KDUPJYIOvA0uFKHJBDuf+VIKynBn9H8j22UlanPur4YtQy0hT94HKp7Ofm+DupvFUtuTiZefTXg\n",
       "8KlEKSeaq2COd+/eON8MeC9SCRi9f52jxjbr39MYGs2gaDtP+ClZhS5UyJ9+axw0sSx5s5CfZdhz\n",
       "X24TsewMsdEBDX1KVH3fhz53OSzvZtqX14EWzxfwWf94se8QttJHC+Xdjwb8uXyuIzI0eUsqKMrR\n",
       "h8mx6gGBDUPdquINOc4THk8Q8FBOG/QnUogf3TED+13jkFbDvsQmwXGwlil8i9/BHeCFohGUQm76\n",
       "6Hs28OI9PZIl70R9M8agY+8R2NKBmHIYmZbookljWUSfb2LvOcH1zFWTAkvCFSPBin9ZEuhJLV18\n",
       "6ssXWhJOqGf11+BlYpF4E9/KG8JBKo2HSWr5KpeYTi4VnREaPiz5+pJTVzkxF+RuhtNnQ7X/+uBl\n",
       "mbShufdlFHzOEs/dTccSSkr9KfAbb27zMXqrlXrbUgey3QrsQxp9OfOlyVCYVuHk2YkXmIhxxCqq\n",
       "eSyFNB/GxKYs3Iz991f/W9PANHqk9IIhkuN/bDDQCou7e9K/WR2G3beAmmkEW3WmlEXDb34HSU05\n",
       "Rp1RMhcOeTfYD7b8TcpwL4/OfYhQvwPDGZ0WfGPj9drJQlnm0qZgtGnIw67mx3Au5HQHzVia0VVr\n",
       "y5ZpM2ROsZ0Oxrs8puGYP1n6Uoiv8RaTeidylAcG34r9R6UHl607EF/Lql1W7oHuOAEZZEDttW9X\n",
       "1HfmZ2EZ6jqbwatMj7CmvipIusBN3DQDj2FDbATNylWVhFwDmhwngKGni2BdVxBBx4NtBPFlBQst\n",
       "ldRrE6Noo1876pYGyd/COfKLQlImu+nJKXoXAYOYVzsNDyz+avMG8HtZ5+QJ5Dwlhfsg97PiwLB3\n",
       "+8w4nTXyX9m9PGbMuN8HRMSk/TzVFBgzCDp4vkF/CVWdRCI4sBMLlWWbLbly12ep2ALOw22DJNVI\n",
       "/MV9cy+Awx3yRw8z+ui2NvloirQ3fOnVSdOEGnWGB5FjRLoxGPioRq6Ziq1n1lzMyOltex/adc2o\n",
       "45/VCmD3qFBVTkXyhAr23nA7A//oLFHEPO4q8NMUz2b05Arp6eQ2qraGgc06xrGgeC5uSlRTV/h0\n",
       "aHhVpBX0CRPIdSVzHFy5JWLtQhjZFTXjScrXNAC5FKhGKmOAHet5hnNzi783Q/QYGJPwqEQ3S6dU\n",
       "TIXDgzjcn6AhhN5Tzn++HpfruNpA+2Z8rVf/a6FKVzYHEbdCwOwF6nFHc+4J32h8te56TWLv2luI\n",
       "LSVleJh6NHlVlLq3oe2QCqyETt0zjc+ut88RQ0vGHf4Qu8ujv2Bx9mEdTb2ij0HBWV0PF5uAC0N9\n",
       "9SCfDJVRT05m5hQTBJemR5fCLXsOfl59IEXUoiUVP6pLmt5B5YUNd8n2Cx/X1XH/xMX5YG5d39xo\n",
       "GosfeoXV5kjf6gUkmC8g4SBHYvtshbaAoKrIQwTgqO0YSY5nwrGS8ahU0AIdt/4+AAT6EDgAISEA\n",
       "AALxQZokbEK//jhAHBlmABQwE61nKXOK/ZiMPMAHK5ICXA26I2UdEefP5J9QNnA8Ovqf6RDTPnzW\n",
       "bD6hS1T396TLLoUhNWiJTz7HkExHT4KqEmhnjH3esE8QVoScwMx6SDcKMXP/4ScGJmeaHmb5Xd75\n",
       "HuhC1laeAYUWWUa0P5yl8dd5CMmNonggjQnJcf1m0Y4uxXWXOTgRx8/9aSTPZRaJDC6hyU2bPLJX\n",
       "lO7RYiF54Uuqc9W8DRzjP31uB8SkMOKhPD4jW/rbK/uv9janbgjTgi4cWcf2Ss9BAbYd9Ao3oKpV\n",
       "BEXhSXYN5rHfB9RrALNOUNE1S0Hc+BrhnTgUWCET5hlyGvsKes5lMIWnOrx1LnDdzIS3NBAXuitw\n",
       "HWa1N75z9qnFrs9tEcKrBS1Lh/8t82gtqeo4mQtr3p00DSiiOfQn+MU9tN9sSr/ijJM5Gkc/3XYN\n",
       "dGjeWtRJWmLVnRmY1Mvtn5wRB8oYZLCB3rugHcCcxHAc6h73yzc5LCN0naI5yHyOXSJ2U/bmSn/Q\n",
       "ZGpJQH9L6iuPDvj7WqWedQTSkY8Wrg6lkVQhIwmiRt87WFaGjtw2lr8QgK6FTFXIUhy474hFNA+R\n",
       "KVjfZ4R1Aa4GRercBezNpLGf/5XXpQBCbcAQi9BzLW6SdlBUxr/foceNIneSo0a7XBX284d674RU\n",
       "vjhehKTEqGFPBkJbgCt/wI4zYTLPlmsqXkg2tjGcE84RPW3eaEo8kzQLIZ2GiidQMSGMOsKjEvfr\n",
       "1wUtBi1Y+ddryC5sePr4iyNZKsZzda89GZAeOytDkJ6end1XsqUwfdnwYdPeoV7Nx3RrVwSHBAhP\n",
       "q+9WwjvrJsET6tzXHkkrK33+ry/zFUPC0O6Q932pDk8rabtrS+SC/K6c6aiseJ8NlfY28lLKhTt9\n",
       "oQMTu7saoLadI4qM12XbyOoWZky+hvYuuYpl3fHNHpjTbhdytGX2YLbuK2y86P75pFD61xWuKKCP\n",
       "MbO0dMxZ3uso5FNQABKwAAAAXEGeQniEfwKxzT5MkQVkOHOAQ3mgan3JL5oSz4HWgN0bho3e2XGn\n",
       "sxlmErs3CdT3RlcjmHxska2+ABDdiHshCB2Fos5P+eODSuMA6otNRFVUeOGbXdyvd14kPgEXAAAA\n",
       "TwGeYXRH/wXGyVsccVl6IcPYAApbWqWmg9YdsSXcqsNbLCH2UJINCtq+t7GwAJRGpfT2R4TrotkP\n",
       "gQEM8obV0GVHbkv11FsuRBBvHAIAI6AAAAAyAZ5jakf/Bce/UhJF3OVevlvkuXVY/IMQ9qOWgF4c\n",
       "ABbawBSiFc0M6JwSJaLV07AH+TUAAAB4QZplSahBaJlMCF///oywFR3NJLK3sAqIOGAZawnBZjJC\n",
       "iKHxvxw/BjHsGTAAIt/6Hz/OGrMNjTuZhQHGC/dn+3LrWLsFaM2BEre9aNa56CfNQ6O+GZIJZQrC\n",
       "EBnJyFRPjuaEe6yiZ1H0mNu/AnXQjrYWePgRkIuBAAAASkGahknhClJlMCGf/p4QBNEgf3tq4/pB\n",
       "qLw5ACNLz+3mYXnQMu8fhSbEJvRjACVAlJ6bI68UY3Y9udi9H9yqbRLmSf3eeaYM9pU1AAAArEGa\n",
       "qknhDomUwIZ//p4QAADNvOjAHMPnJ08S6E8QFbsfLFY9EsyPtsNOJkr80rK1jupOnNNYNHD+CWzG\n",
       "vMOOZW+44T53VHL8kYfbhidt6YViCWcX3kaj1QJ4sKIyDzlfqQM4AbISYntX1W9/fJHteGCHQ0Vv\n",
       "rxTdCUXUu5WkRaRWb20Exqmk3xWXEw8xTah66ToMMa+hlqallqaRWm0RbjrZss9acfM1xGH7Nr8A\n",
       "AAA0QZ7IRRE8I/8DEngOKO8egTFzTYtNjkIOp96a3tRNf5WyFF2FStLRgAAWqLHMHeuuscxt+AAA\n",
       "ACABnud0R/8EMY+4Wmlz34/fgRFO7nZgAW39DPTCCY5oIAAAABUBnulqR/8EM+iEI+Sa7i6p1Fsu\n",
       "5cEAAACbQZruSahBaJlMCGf//p4QAADOB0uAAI1Z8tXyJaWwvPodRuiDDShALtZRxyTUr6tdQDkK\n",
       "/FV3ASTPD4RWqLlHchBB6G2RHWhOzbwUqdWdHJhJlSWsVVaKINWdBO8EJYqcqxNqDcL9eaYCQw1Z\n",
       "TW5Jy2uryqu/H/soQ+b696a8IBZ5O3rhIXAMGvfQg7VfppntgjrTX+codTRzHXMAAAAkQZ8MRREs\n",
       "I/8DE7hRg5Qqy5CvL1TPQtbNY24METXAh7+KaKaAAAAAHgGfK3RH/wQxj7haaXPfinlIx4hUQAXF\n",
       "U/TGa7IlpQAAACABny1qR/8EM+iEI+Sa72GAUVcNKawSAAuovMpWl1GtgQAAAGhBmzJJqEFsmUwI\n",
       "Z//+nhAAAZF16ABQbdqzEhOZoQni3/H4EDLjsmpEnXsn9kFkeH6Dc4SlklNWVUyyKLn4r7La/yDd\n",
       "wxZ0+k29M6FVdb4FleBg561ltt5cIzPcv8rqpMR8/3NhP7ZNMQAAACRBn1BFFSwj/wMTuFGDlCrL\n",
       "kK8vVM9C1s1jbgwReKYlaKUoIeAAAAAeAZ9vdEf/BDGPuFppc9+KeUiz21QATjNoYmb/ezbMAAAA\n",
       "FQGfcWpH/wQz6IQj5Jrv3YbZwsK3+QAAAFZBm3ZJqEFsmUwIX//+jLAAAYqHtuAF+IpBkyaq7aXN\n",
       "JOsKfwL9F6u9P5WbeHej6SiQIWsJQADG3snKEOwyVf1GMgorCoe4In9ZrbPWRGtovQCwzRDGhwAA\n",
       "ACtBn5RFFSwj/wMTuFGDlCrLkK8vVM9C1s1jbgwRiZKaFgBMth0ga2B+4gf4AAAAHAGfs3RH/wQx\n",
       "j7haaXPhFV8ABI/+rUP3fxxvW/0AAAAWAZ+1akf/BDPohCPkmu/b9komn9xTcAAAAD1Bm7pJqEFs\n",
       "mUwIX//+jLAAAYrgmfABywnwgP0C9HUvOtMDpJNpogB7o52874yzfsrBXXURS/PLM34934i3AAAA\n",
       "IkGf2EUVLCP/AxO4UYOUKsuQry9Uz0LWzWNuDBF4piVmY48AAAATAZ/3dEf/BDGPuFppc9+KeUg6\n",
       "5wAAAB4Bn/lqR/8EM+iEI+Sa79a38OgBMpY5gm2eiHAim4EAAACPQZv+SahBbJlMCF///oywAAMV\n",
       "EDUACaXRDeEgoWCjGvhd5SdBiRdig1tCR5pRfVgUmWVPiIXVD63V3qjcmBQG5jWzwNHaA90lSFeQ\n",
       "pKQk0mDivNw81n93FNx9rJoaM4PBtcgae/y1K252NVOkyWUhqqKU5Ly78y1Az9ig5d7/FV4f8T/n\n",
       "Dxt2qsOizLuMoDAAAAAtQZ4cRRUsI/8DE7hRg5Qqy5CvL1TPQtbNY24hbhSMQAlkEqHXhvPFbiei\n",
       "f2H/AAAAJgGeO3RH/wQxj7haapF04AHG5uhMa+0nY+NqXgHGX6IpXlkBx76RAAAAJgGePWpH/wQz\n",
       "6IQj5QMLLpgASoXGpPo+dphvRg5cJNZM3vVJcD0gAAAARUGaP0moQWyZTAhn//6eEAu3Rq4gOHTB\n",
       "EAdA3EFIyB587PXgNNydiPFwawvqOUJhxFVY8fSuyGFnVf+PLULDpWkE7vA3egAAAHhBmkNJ4QpS\n",
       "ZTAhn/6eEAAFzyvjgDlG4fWO0qOPHyOHfI0GITQjHMRba1LlssdcPk3tR+xSimqAncx8VT0hrA7O\n",
       "QdG4iXlklDOlotsG1lTRtpTjvDFZB0XYI9TiLuwRCAN3PAnI0SI5q5KRN3QHmqbyz2EWPcxKyqEA\n",
       "AAAwQZ5hRTRMI/8DEngOKO8ehb2M8k7jOnEyRV0FOhlPb9ggBLTZxP/CIRCsnVrxmM+AAAAAFAGe\n",
       "gHRH/wQxj7haanus6wZSzccXAAAAHQGegmpH/wQz6IQj5fw7q1zAAuKypOcyrLbgT5puAAAAWEGa\n",
       "h0moQWiZTAhn//6eEAAF0LoqgB0j31Jvh3CuQvweOkykUhLUjbCge5byvZktxoapdAT3kKC534A1\n",
       "QPXl2zq+eTnZxTchODGoalz7uEi+ri63M60C8WEAAAAtQZ6lRREsI/8DE7hRg5Qq4h3WkLZnhWaZ\n",
       "EjlmTcAG3fvqs8Xn+FhIOJlWAD0hAAAAGQGexHRH/wQxj7habMdjOpQAJpP7PAY1Cs8AAAAQAZ7G\n",
       "akf/BDPohCPkT6uoPQAAAFZBmstJqEFsmUwIZ//+nhAAC6FZcgCJj7hX8EZfTUOxxJjQRqw8aeeq\n",
       "ko5zBtwbJTxGvDJWa8HgFK8TTR6oEk5YFIjSLKXliJfO2/tjC5s6QEhtzvGfMAAAACxBnulFFSwj\n",
       "/wMTuFGDlCriHdaQtmeFZpkklZp/IAFxc9c8xipWblPRBfwBlwAAABwBnwh0R/8EMY+4WmzRxwZy\n",
       "MgATt1uJlXYccASzAAAAFAGfCmpH/wQz6IQj5/h75fdfxQx4AAAAQkGbD0moQWyZTAhn//6eEAAL\n",
       "njccARMe+sHWIXx7dftTq3/EoLWXPftqPfnSYfSdGiIseKG8mTW3XjGWQea006pqQAAAAClBny1F\n",
       "FSwj/wMTuFGDlCriHdaQtmeFZpkk3j3ACMfRvJndHQTIamAR8QAAABUBn0x0R/8EMY+4WnGpf8eK\n",
       "ATWO4sEAAAAQAZ9Oakf/BDPohCPkT6uoPQAAAC5Bm1NJqEFsmUwIZ//+nhAAC54vQADjaQPjxMAV\n",
       "2KLS0Xl2GHKq73DZKhTq5Mk4AAAAKUGfcUUVLCP/AxO4UYOUKuId1pC2Z4VmmSTePcAHG4kSjKA1\n",
       "EzIamAR8AAAAFQGfkHRH/wQxj7hacalxTYqwI6rFgQAAABABn5JqR/8EM+iEI+RPq6g8AAAASkGb\n",
       "l0moQWyZTAhn//6eEAALqbTTwBEhrVOeU05VtoNpLyW6mv9g+nhpDW53rBHyKvdPF5FHW6qGF+eV\n",
       "1aB4maTdKwO98H91BORcAAAALkGftUUVLCP/AxO4UYOUKuId1pC2Z4VmmSRyzOUQA1Vbu/QoN8wV\n",
       "yMjYXa6Qm4EAAAAZAZ/UdEf/BDGPuFpxsa6gATV0G5MZ9JbxogAAABkBn9ZqR/8EM+iEI+fxSXvg\n",
       "Ae6ayuYJPlLNAAAAPUGb20moQWyZTAhn//6eEAALnnHuAFS1qcLy/vL40VMdlBlKkXlS8vE4QoxB\n",
       "Z0FowHTNeedutW+ZYuKFmVEAAAAsQZ/5RRUsI/8DE7hRg5Qq4h3WkLZnhWaZJJ++XABbg1qVbVNp\n",
       "AV0+bUzAA9oAAAAQAZ4YdEf/BDGPuFpovrUxOQAAABkBnhpqR/8EM+iEI+f3GVQAS1NwUxuCWzDP\n",
       "AAAASEGaH0moQWyZTAhn//6eEAAXPKtcBCrdqy0c0CtMIzpVxLWBsTJP+RVL4HAW9C0ecIC4k9hg\n",
       "g1zexSKKUHUVV2WkHNbmyQTTKwAAACpBnj1FFSwj/wMTuFGDlCriHdaQtmeFZplJK7emOMWACTz8\n",
       "IQJRYD/AFlEAAAASAZ5cdEf/BDGPuFpxmCrmNTzRAAAAEgGeXmpH/wQz6IQj5/h5EtC1mAAAAEVB\n",
       "mkNJqEFsmUwIZ//+nhAAF0Y0IamHAEe9b9kbM4Iu+5uA99AUIQCCESOSdixiZIiCqGCych6xQ2C8\n",
       "W2O88vu/CE3lhW0AAAArQZ5hRRUsI/8DE7hRg5Qq4h3WkLZnhWaZSXM6gBGRsVcE7NGZkQsrfHYB\n",
       "gQAAABYBnoB0R/8EMY+4WntIZdL0WDRPpFmBAAAAHAGegmpH/wQz6IQj6/a9wAONbY7oTaiDiddp\n",
       "VxYAAABaQZqHSahBbJlMCF///oywABdsdtgKGeNhtp8CTSts2cVYD41dhQRCLSFuvLO+zTnrXP/Z\n",
       "Pmv17rK+3XlBExMTuac/GwYJWBjGQ5iB5+R0SzsEeeUKwgTIw6vhAAAAIkGepUUVLCP/AxO4UYOU\n",
       "KuId1pC2Z4VmmUlmIh8N0wwA9IEAAAAcAZ7EdEf/BDGPuFp7bGUAC6gWoVZ1fOZOnt3cCQAAABMB\n",
       "nsZqR/8EM+iEI+vAYFQUKeNFAAAAaEGay0moQWyZTAhf//6MsAAW/fH1XJ3kABB6B/ctEitpcpVI\n",
       "Ffx1T3yqg4SnpbG3RTAj7EtIPX5li1v4KI4Ri7B3Av3bb58QdcT3UiHQu6fYbJxK3zI6EH4gl6Bn\n",
       "VC5qDO+5PDMm4hkDAAAAJEGe6UUVLCP/AxO4UYOUKuId1pC2Z4VmmUbhFldd5ITxIWwIuAAAACEB\n",
       "nwh0R/8EMY+4Wnqdq45iAHF5/DT+daUcWzFD6lPsNEEAAAAUAZ8Kakf/BDPohCPrq6uLmrwbTogA\n",
       "AABcQZsPSahBbJlMCF///oywABbWiGUXwCDmYCKqFdDYOKtlLvyllPIea16cNF9EaiNDiHXwb4yo\n",
       "z3tL/yojkM81FsC43F1AJH81S3N4pL553XmU9DRZ4lVEW5jRlDAAAAAoQZ8tRRUsI/8DE7hRg5Qq\n",
       "4h3WkLZnhWaZR2cO8wDFhHGX1Wceh/gDuwAAAB0Bn0x0R/8EMY+4WnrsZQAON2f9PM3NtELmyKeX\n",
       "FwAAABsBn05qR/8EM+iEI+uYEjDmABxCpfhdcxkYdMEAAAA8QZtTSahBbJlMCFf//jhAAFYmWnMA\n",
       "UkIh5rSFx8nggO5dPvU26h4fqVSZZnq3WYUftxIXuVoL0T6VAkLAAAAALkGfcUUVLCP/AxO4UYOU\n",
       "KuId1pC2Z4VmmUTNclr9gCHudXdIdtWTa8KF7P1Lw9IAAAAdAZ+QdEf/BDGPuFp6VFkAAOC9bqOa\n",
       "1iyrN7qlNN0AAAAaAZ+Sakf/BDPohCPrhrV9iAEttgOlFWaNNEAAAAA1QZuUSahBbJlMCF///oyw\n",
       "ABZMu7YA221PU7myA4iMpXdv5Cp9dYDnPbTl9fLrLtyRqaV6qFgAAABTQZu4SeEKUmUwIV/+OEAA\n",
       "VhFl9NQbJE0RUQCaTPvCKLTTRjEWus9VmvunuE0A7wypnUp+00X/Y4ZjUuvGh89fPy+dSp4JcoaO\n",
       "ksZOGxws7GtCQysAAAArQZ/WRTRMI/8DEngOKO8ehb2M8k7jOnEyRlyUjhoAP50s4I67xU4ch9kE\n",
       "XAAAABwBn/V0R/8EMY+4WnpHSvJgAugUnT5/DPrFCOmBAAAAFgGf92pH/wQz6IQj635atUNITzBb\n",
       "b9MAAAA6QZv5SahBaJlMCF///oywABZM3hgE19ShPpyq6w05Uxmji+4aPHUcSBsR8fJGNA43OOYQ\n",
       "6kHWsA0ZTQAAACJBmhpJ4QpSZTAhn/6eEAAVlQr0pkoAjqGxXXhJy1jzhY2ZAAAAMkGaPknhDomU\n",
       "wIZ//p4QABWjrhDZDAChlGhw2GmZr2Ngs/C5skn7tHBxyr+03UpcgsbMAAAAJUGeXEURPCP/AxJ4\n",
       "DijvHoW9jPJO4zpxMkZTjTr/szFuiGQrwncAAAAUAZ57dEf/BDGPuFp5t3H+F1VR3REAAAAUAZ59\n",
       "akf/BDPohCPrUxIiCAYuL88AAAAxQZpiSahBaJlMCGf//p4QABWjZomAKtxrMkZN8nnn3sZDDqah\n",
       "QrbW/rfrxCbUYTiXgAAAACdBnoBFESwj/wMTuFGDlCriHdaQtmeFZplDvb9gBsgimqX2EXV0Ak8A\n",
       "AAAUAZ6/dEf/BDGPuFp50ysqYbpr4EAAAAASAZ6hakf/BDPohCPraYExLe6ZAAAASUGapkmoQWyZ\n",
       "TAhf//6MsAAqn+Qs7s33v9RcelaxfkApJ6uMdWRsqJ2d6u17sJEivAHDDkMb2DTnreCbGmZyp86l\n",
       "FOLdG215FJAAAAAkQZ7ERRUsI/8DE7hRg5Qq4h3WkLZnhWaZQsrY45cSBsWDPQPbAAAAEgGe43RH\n",
       "/wQxj7haecc5lkHU0QAAABUBnuVqR/8EM+iEI+tSVuQmArCCdMEAAABAQZrqSahBbJlMCF///oyw\n",
       "ABXbzf4+AE7pRj1gsIVAwmMX0x+hMnEJ8EY/oP+pb7IElmTQKH4EP5Y+3mmSzcikgQAAACdBnwhF\n",
       "FSwj/wMTuFGDlCriHdaQtmeFZplDdhpkAHs/RrwSt8mgF7AAAAAaAZ8ndEf/BDGPuFp57/J0AJJx\n",
       "72eyraAMemAAAAAQAZ8pakf/BDPohCPkT6uoPQAAADdBmy5JqEFsmUwIX//+jLAAK30RB/AFKMuP\n",
       "4+0JsIBH+KKIVanqEIlIwqZUNHRSLogvCfGt6kTAAAAAKEGfTEUVLCP/AxO4UYOUKuId1pC2Z4Vm\n",
       "mYbXu/dgASofC+d7927ALKAAAAATAZ9rdEf/BDGPuFqLxNuqh6d2YQAAABMBn21qR/8EM+iEI/Lf\n",
       "67cQEhujAAAAP0Gbb0moQWyZTAhf//6MsAArdMcEmbAHMAOas0to5GDyYJ6wb65ukiTfnMsHhx9T\n",
       "RrMcvLHXC+0C3xxCU5CygQAAADpBm5NJ4QpSZTAhf/6MsAArjB/LrjYApmUY8l7SSd8eMOjpZmgP\n",
       "MyS/f82552vrXONXXod5INqn3QccAAAALEGfsUU0TCP/AxJ4DijvHoW9jPJO4zpxMkemmKnVh61A\n",
       "BwYM6iA8LIWiJA9oAAAAFQGf0HRH/wQxj7hajMRG2kPoWwuKzwAAABQBn9JqR/8EM+iEI/MrX3uH\n",
       "1Ykk4AAAADlBm9RJqEFomUwIZ//+nhAAKxmKaAIf8+ptYZZrt/Jg19l4MooesDHiC8YMlMKvzQ8q\n",
       "UNkRgxkwoIAAAABLQZv4SeEKUmUwIZ/+nhAAVr3fvuLSljPnAETHtaCTD53Ye4CzPVQ0yiRGUjzS\n",
       "Wow+DMw0UMTyK+j2gME/vj4NvFPmKlbr0r7+WhsxAAAAMEGeFkU0TCP/AxJ4DijvHoW9jPJO4zpx\n",
       "MlC2Q9WvXwhnnyABc+Ng4UvqINOCYkDjgAAAABwBnjV0R/8EMY+4Wq9MhZzJGAALmPXmEzKFz+eB\n",
       "AAAAEwGeN2pH/wQz6IQj8tLiRUO7d2cAAABLQZo8SahBaJlMCGf//p4QACsZx7gBFNofKgSvBcIh\n",
       "95VAIgXCEkx+izNFJ6ChFGLKiZT9zxDZGH5WPtrzKzdMHZpLyR5IFj9d6tF5AAAAKEGeWkURLCP/\n",
       "AxO4UYOUKuId1pC2Z4VmmYf9RcAJqJZnG8i9ByK2AScAAAAQAZ55dEf/BDGPuFpovrUxOAAAABIB\n",
       "nntqR/8EM+iEI/J7AbWt7pkAAAA5QZpgSahBbJlMCGf//p4QACsaqpwAirp3HIBD6x5t2LcAWvEO\n",
       "faVHOTNIPqXKjF43ct8ILblYWGzBAAAAKUGenkUVLCP/AxO4UYOUKuId1pC2Z4VmmYVEd7OAEmlb\n",
       "0C+kJZgVi8SsAAAAFAGevXRH/wQxj7har4oHZ49iighYAAAAFAGev2pH/wQz6IQkAb/g3MKfZgrN\n",
       "AAAARUGapEmoQWyZTAhn//6eEAAsfSCR0a3KCelzmGestwYm6eAG+zPGtE8riTSM+IuBD5leQmpZ\n",
       "KyGzSzK4p/nao0HHoZ8IOAAAACtBnsJFFSwj/wMTuFGDlCriHdaQtmeFZpmK6i27AAkhHrsjhYFC\n",
       "+FQCAOmBAAAAHgGe4XRH/wQxj7hai6nMEgAlX7zK2PLPcxn+vcXogAAAABMBnuNqR/8EM+iEI/Mx\n",
       "tQ5yR1zxAAAASEGa6EmoQWyZTAhn//6eEAAsZZjrkVuAUIVyaWAk1z8UxFPIxpP0lVYmzQvGqp7j\n",
       "fEpfGuGBDMVbRam9fcv9jzz3UF0PVyYTcQAAADFBnwZFFSwj/wMTuFGDlCriHdaQtmeFZpmLJXON\n",
       "2cAVJW/IZcWP7c0aH3Qhm5k42ANTAAAAFAGfJXRH/wQxj7hasYmFya+w6LRBAAAAGAGfJ2pH/wQz\n",
       "6IQkAlX/YBvHDVgvWmFyHgAAAFNBmyxJqEFsmUwIZ//+nhAAKyYasABYDcKtF6Dce9I8O0HUYsLN\n",
       "FLhiJAhfTw3vcmhw1Y/AhV3tA7nz0Y/+S1vuJVcPcXm3FfrjiKMKqO0vn3ThLwAAACtBn0pFFSwj\n",
       "/wMTuFGDlCriHdaQtmeFZpmGVG2xgAtSDXm0BMdaHixH6RLxAAAAGgGfaXRH/wQxj7hai6iyAAEz\n",
       "WrlqPAjz8OzwAAAAGgGfa2pH/wQz6IQj8uZAwAH0135mZo9JI2eAAAAAMEGbcEmoQWyZTAhn//6e\n",
       "EAArGaDwBWSXoHyqHA+gt/vTlJQFQCSpsxGmssFtSiC7gQAAACBBn45FFSwj/wMTuFGDlCriHdaQ\n",
       "tmeFZpmHL10p2wCggQAAABQBn610R/8EMY+4WoumVCphumvgQQAAABABn69qR/8EM+iEI+RPq6g8\n",
       "AAAANkGbtEmoQWyZTAhn//6eEAArGr+cAVv1uOzyHUVSZAsj7xzPoTsJQ66AP6erUek3COaDOPOE\n",
       "vAAAACBBn9JFFSwj/wMTuFGDlCriHdaQtmeFZpmFVEIkPKJDpwAAABQBn/F0R/8EMY+4WovE5Coj\n",
       "ukPgQAAAABABn/NqR/8EM+iEI+RPq6g8AAAALEGb+EmoQWyZTAhn//6eEAArGikACwwE+WrJZTuo\n",
       "p/JRwKlrNkNipHXZxYbNAAAAIEGeFkUVLCP/AxO4UYOUKuId1pC2Z4VmmYcvXSnbAKCAAAAAEAGe\n",
       "NXRH/wQxj7haaL61MTkAAAAQAZ43akf/BDPohCPkT6uoPQAAACJBmjxJqEFsmUwIZ//+nhAAKxmB\n",
       "gAWB2Lxf66jneU85RBdwAAAAHkGeWkUVLCP/AxO4UYOUKuId1pC2Z4VmmQR4HKAHTQAAABABnnl0\n",
       "R/8EMY+4Wmi+tTE4AAAAEAGee2pH/wQz6IQj5E+rqD0AAAA5QZpgSahBbJlMCGf//p4QACsZOjAF\n",
       "W5h+z4SH9R1/8A71ON6uAeF0InPwsX6R4fIl7hXpcHSykQXdAAAAIEGenkUVLCP/AxO4UYOUKuId\n",
       "1pC2Z4VmmYcvXSnbAKCAAAAAEAGevXRH/wQxj7haaL61MTgAAAAQAZ6/akf/BDPohCPkT6uoPQAA\n",
       "AFRBmqRJqEFsmUwIX//+jLAALJjtsAcUTqWfNcvU33r3c1kih+pFKNTLPpmWbKxrqjzVtLp0Ud6N\n",
       "pKtrkrkZnZfSdyMHq/1Vejl2/xzNlg1nHEJmhxwAAAAhQZ7CRRUsI/8DE7hRg5Qq4h3WkLZnhWaZ\n",
       "iudytHZ6AOOBAAAAEAGe4XRH/wQxj7haaL61MTgAAAASAZ7jakf/BDPohCPzMeK+0LWZAAAANkGa\n",
       "6EmoQWyZTAhf//6MsAAsxro+AEdrUfd7nGYbCpiNDIL9oa2MX5XdqCFwX9E+KEcWgZh/gQAAACBB\n",
       "nwZFFSwj/wMTuFGDlCriHdaQtmeFZpmLL1rp2wCggQAAABQBnyV0R/8EMY+4WoyO2QzvSrw0QQAA\n",
       "ABABnydqR/8EM+iEI+RPq6g8AAAAJkGbLEmoQWyZTAhf//6MsAAsmP0YAWH1C9HXn6ohuE8G7jbr\n",
       "oN6AAAAAIEGfSkUVLCP/AxO4UYOUKuId1pC2Z4VmmYsvWunbAKCBAAAAEAGfaXRH/wQxj7haaL61\n",
       "MTgAAAAQAZ9rakf/BDPohCPkT6uoPAAAAC9Bm21JqEFsmUwIZ//+nhAALDjccAUzTtgFobc2GKc2\n",
       "dtZAX49KyDyCObwKZksFtQAAAF1Bm5FJ4QpSZTAhn/6eEAAtWNxwMTnBaH5GvuMOF3hKDhjelPxq\n",
       "rpTxi4IsfAt6i69ZXJnjGk6zPW0YD4jcMx4E2BRg/09BT1zDM7t9M4zlvpTJoqWP1aXnRHefhqUA\n",
       "AAAqQZ+vRTRMI/8DEngOKO8ehb2M8k7jOnEyR8zWEAgBriw/jMSyGnvbwOOBAAAAHgGfznRH/wQx\n",
       "j7hasYoHZZTsABMw2E/oXBUNDFA9IAAAABMBn9BqR/8EM+iEJAJV+ubMr30QAAAAQEGb1UmoQWiZ\n",
       "TAhn//6eEAAsPwYYAVKYnT7wMb93gLsn52lI3YFuQDz3sGi8aXjrEfzTuKdavakxTWO26A5OEnEA\n",
       "AAApQZ/zRREsI/8DE7hRg5Qq4h3WkLZnhWaZif+d9gBav+dLZ+NARh+kTsAAAAAUAZ4SdEf/BDGP\n",
       "uFqxiX393vmNdaIAAAAUAZ4Uakf/BDPohCQCVeuyvkwQrMEAAAA5QZoZSahBbJlMCGf//p4QACw4\n",
       "3HAG3rNA4Tv1Q2nEpvFqyvWjroQra5ylnuRkBiVnN3tkCVdc+EHAAAAAIEGeN0UVLCP/AxO4UYOU\n",
       "KuId1pC2Z4VmmYrRwtUBAJOBAAAAEAGeVnRH/wQxj7haaL61MTkAAAAaAZ5Yakf/BDPohCPzK+1A\n",
       "AmVzP4FBj1ZV4swAAABgQZpdSahBbJlMCGf//p4QACtOEocANrRgIO7H3+1cLj0x21jZ2PuyJeSY\n",
       "gvzpf3I1JcVfPbao7WciKKo+xjmDvfHnh3qHvY2kJGCV7ZAyx+YE2Ir/tpVnk/0uh3a4HwSTAAAA\n",
       "K0Gee0UVLCP/AxO4UYOUKuId1pC2Z4VmmYX/ibgAnWUabsY/NToabqfzwj4AAAATAZ6adEf/BDGP\n",
       "uFqLO1Vp1+4dMQAAABoBnpxqR/8EM+iEI/LasaAAlg1f4pwVxPGbMQAAAEBBmoFJqEFsmUwIZ//+\n",
       "nhAAKxjtKAHBq0+cesxHvukGk0xh9d5LFR/M8R2lOdyNiHyQDqMpyK5nJBaA61VxGFVAAAAALUGe\n",
       "v0UVLCP/AxO4UYOUKuId1pC2Z4VmmYbxtwvbQAgClHbp9feZ4pL7vQBdwAAAABgBnt50R/8EMY+4\n",
       "WoqmNSikiib033XHwIEAAAAcAZ7Aakf/BDPohCPyjkDAAqYQQxQoQl8OKtPubgAAAGNBmsVJqEFs\n",
       "mUwIZ//+nhAAKxnHuAEVjabiU3LUPhiyalg9STHOfgHF6DTih5EB+3aaxahnGT+JonBGi/qfXZNI\n",
       "td+RfGgMKxrBYq5gbWyQ0XIYKOAEbAgYq1qy1U9iiKT0ncEAAAArQZ7jRRUsI/8DE7hRg5Qq4h3W\n",
       "kLZnhWaZg2wsMANbjOTgmULsPyht8ZAEfAAAABQBnwJ0R/8EMY+4WoqmVDphumvgQQAAABABnwRq\n",
       "R/8EM+iEI+RPq6g9AAAAUUGbCUmoQWyZTAhn//6eEAArEEDkS4AjV3CKiANFED90jHeRxi4zwwBu\n",
       "4ZXJ3zxLO34PtGNbFS+aO4jyPGpAg3SqJ2WYR2Fw/7Q0peAmds/DewAAACtBnydFFSwj/wMTuFGD\n",
       "lCriHdaQtmeFZpmHahnACySNwHfr56vo1uR6dgEvAAAAHAGfRnRH/wQxj7hai4u3agATNboeZgO+\n",
       "BHoOD0wAAAAQAZ9Iakf/BDPohCPkT6uoPAAAACRBm01JqEFsmUwIX//+jLAAK3nr+gDbxM7AK0yL\n",
       "HFqJugaGGLEAAAAeQZ9rRRUsI/8DE7hRg5Qq4h3WkLZnhWaZBHgcoAdMAAAAFAGfinRH/wQxj7ha\n",
       "i6ZUKmG6a+BAAAAAEAGfjGpH/wQz6IQj5E+rqD0AAAA/QZuRSahBbJlMCF///oywACt6/5yANeGs\n",
       "7OPVk2zVGTJPItkMh5MPbXIHi/yK1YTD58scBcT2txxDHJiiGGLBAAAAHkGfr0UVLCP/AxO4UYOU\n",
       "KuId1pC2Z4VmmQR4HKAHTQAAABQBn850R/8EMY+4WovE5CojukPgQAAAABIBn9BqR/8EM+iEI/LT\n",
       "AbEt7pgAAABDQZvVSahBbJlMCF///oywACyZ5vABUsAcM/c7jSL6i0BHaiqNy8BU6QVqMTaiDm33\n",
       "dJVPJHTPvdCmajlVrhMMnDFDjwAAACBBn/NFFSwj/wMTuFGDlCriHdaQtmeFZpmK6TjWmIYBDwAA\n",
       "ABABnhJ0R/8EMY+4Wmi+tTE4AAAAGwGeFGpH/wQz6IQj8yxlUAEtDTya+tK6+2YZ4QAAADBBmhZJ\n",
       "qEFsmUwIZ//+nhAAWHF6AUBFjToMR30EP7cvOKfwcDditkwL4eHbaf/NDUgAAABOQZo6SeEKUmUw\n",
       "IZ/+nhAAWJm+kUKklxcJ4snt/OWkILzD3ThpRhrfX0nTw96Wq2xJeBEoFCXWgE9g5d7RggfXQopE\n",
       "n/ZMZ0qTVXx3SA/xAAAAK0GeWEU0TCP/AxJ4DijvHoW9jPJO4zpxMke3m4ANCABb+yTT3CHcfbLg\n",
       "OOEAAAAVAZ53dEf/BDGPuFqMNdsoV5X1IqzAAAAAGgGeeWpH/wQz6IQj8xlr7IAEzC0ClXX3GXPB\n",
       "AAAAMEGafkmoQWiZTAhn//6eEAAsOcykAKtxGLxLGpeJ2/hTLIocImWSlyPZmPPfvJhNwAAAACBB\n",
       "npxFESwj/wMTuFGDlCriHdaQtmeFZpmLTTTWonIBNwAAABQBnrt0R/8EMY+4WozE5BojukPgQQAA\n",
       "ABIBnr1qR/8EM+iEI/LTAbEt7pgAAAAeQZqiSahBbJlMCGf//p4QACsZveACNMJiOqvPlEF3AAAA\n",
       "IEGewEUVLCP/AxO4UYOUKuId1pC2Z4VmmYbRxNUBAJOBAAAAEAGe/3RH/wQxj7haaL61MTgAAAAQ\n",
       "AZ7hakf/BDPohCPkT6uoPQAAAGBBmuZJqEFsmUwIZ//+nhAAU/KtcALXWHY92RMm97J6adAgpbP+\n",
       "8raPlVbEWZJoWV3xTGfDDjt/LVJDpulhfuX0qwyDL6E9yWZilM3cpYm1NjQCP0GL0IQIAqLGa3eY\n",
       "3SQAAAAoQZ8ERRUsI/8DE7hRg5Qq4h3WkLZnhWabQQ7Ci+fQAefi3te2qoArYQAAABsBnyN0R/8E\n",
       "MY+4WoulrB5qYAJH/Zk86h1N6zEAAAAVAZ8lakf/BDPohCQBD9ita4zcJTWxAAAAOkGbKkmoQWyZ\n",
       "TAhn//6eEABT8r44AW4brTjjQvAMC5fbXiVWHoLtFUV2B58UhAJFgEhmS7pQtXAvQoMAAAArQZ9I\n",
       "RRUsI/8DE7hRg5Qq4h3WkLZnhWabR6v2AE0wWpiY1w4Hg0tIMUANuAAAABoBn2d0R/8EMY+4Wq22\n",
       "EAAJ2P2s3plG9Sts8AAAABIBn2lqR/8EM+iEJAD2ArWt7pkAAABFQZtuSahBbJlMCGf//p4QAFPy\n",
       "dGAIR+GjQaX3ZzYvHzDY4IMMmK1l0dB5Dda9tBtlJ5A0cWrWQl/ETAZvHZKbk+rQsF3AAAAAKkGf\n",
       "jEUVLCP/AxO4UYOUKuId1pC2Z4Vmmzhs7GAC4ukQRl6LZCSYYfpE7AAAABABn6t0R/8EMY+4Wmi+\n",
       "tTE5AAAAEgGfrWpH/wQz6IQkAJ+0VrneswAAADdBm7JJqEFsmUwIZ//+nhAAU/J0YAh8VGWXMfMt\n",
       "SC/PuUSUaSwRs9q2KNo+RicRGJ+Bxm+kWBgRAAAAJ0Gf0EUVLCP/AxO4UYOUKuId1pC2Z4Vmm0Ke\n",
       "GACzHlTiFwkjU0gA/wAAABABn+90R/8EMY+4Wmi+tTE4AAAAEAGf8WpH/wQz6IQj5E+rqD0AAAA3\n",
       "QZv2SahBbJlMCGf//p4QAFPydGAImPt3zvGnCxxFkij43oTZSr/JAVHDWpUTNaxqOQBFIQnBNwAA\n",
       "ACBBnhRFFSwj/wMTuFGDlCriHdaQtmeFZps4VAfGpRSLKAAAABQBnjN0R/8EMY+4Wq1Mpjphumvg\n",
       "QQAAABkBnjVqR/8EM+iEJAEa9wAJzkrFTVctbTGeAAAAHkGaOUmoQWyZTAj//IQAE05WAAB7zPWN\n",
       "o3pRjJWFBQAAAB5BnlhCEf8DE7hRg5Qq4h3WkLZnhWabQPh7bYMAoIEAAAAQAZ53aRH/BDGPuFpo\n",
       "vrUxOAAAQRRliIIAD//+92ifAptaQ3qA5JXFJdtPgf+rZ3B8j+kDAAADAACurTM/vFjYagIEXFPJ\n",
       "Xx118MlmN7hDYI+Byp98tTgYEkIDzZDniL7XFCRyWNzV2DpdHLolrmPKIuFhLAAE1RlrImFG9+2b\n",
       "au+YGx+D0vJGOFeZTFiTuinoPKiETnMojJ5QhXQkg9dWtrMKngR4cKbnL5g9VVic2ybAx6nkWyon\n",
       "HSE2K7W81XuVTUqR3BXM9UD0cu12UasYHBHX7fYS+a3VM8qPr0P/Nz7c87husOXOHmGwBvnio0/5\n",
       "+i8jZe9KwRvFTK+Wz7FFywidZGGJlFBejOMXbJSVggvOtXlx/GTuWLQrpFG+46xqpZ4I57XwDfRu\n",
       "GLMfbYG3pO1Bw9XuUGIfhShjq3dk+gg8O/VJEJJwHGXu1GpXtjVNegjAS0uJH6ZFi3FILFt8Hz6o\n",
       "V1dR+G3GtPLeX9DnbIbv8LNdGGm5D4LV8vogg/x8Welg9D/o4VJTspI84OS0KeaE08OquBLtSR+a\n",
       "bLCSf3xxxtcPvJ0qqyXoa9BIDN89ylawMopPtuEFmCemUHPFeDT96BtnNonvwvVjXpWQi4K+xWLM\n",
       "KTtwsXx/GGAPt9kE1SIYQE+fLC8JWUJTXacFHum+fc4H++2bZGl9++mOPbKI/dRsu4FCDsxZQ8+i\n",
       "H/BI54Al9w+mzjNsQZc6iCwdX1WLjYbEx3gK5JvON5yXI5GslBKQhCwJFjkD3aMYshmC/YAH2ktd\n",
       "0ZfAHCYbNIB2KyLoEZKLj4MNaNe8RkDC5hEZpCn2LNIIDQrA+FJp47/IMvErYXuC4j8QFVEuW09j\n",
       "IgLK4z6O5pFJzo4XOtRV+GdSnZh5vJ10F0RUMEN7PpgWqr4+flRukOWHmr8me/S/nqwtVRNaGdyW\n",
       "ax624GddQcZDLtP1HG7EjLniUS2YnehLbwcfH5piRkjo+eq50SXa3EqOXeITBb4+e2ZE6B7prL1k\n",
       "mBcTBVPysKWZ/ZQuQcy5ElFI/G4SlcQSydDQyxbTjlKoTGozsqpLAYHPV1XALqBStMw+4U4ZuBgz\n",
       "wuH7yjjLyCGquiSSP2bzQVht5U++ZezfXWQN3GHOa1lzF5pojx8pXVJotTVeahrSfRYMT5dwaY5W\n",
       "xOuqAElUyd2koma/8fEJ9AuGYkchhyUswx9cBoCQEK9HVajpJqNCM8Rubd4YaOoD01dew97ZPCCG\n",
       "luMRSDBQC7NlJOKYZ8uy/hGMpMQnlRbhYpmpbEb46eeoFopndJ4Q4kGv5ac5/X8+ci+n+jOWk9pB\n",
       "wpN+EXOLpK6cjz65s59RgiUMjN/2buneIJekLLHT9fy2/3kqRwknFXoNL9xgXN1q1IISST+Mmb3D\n",
       "TA84XvyrPDWob3wrtX/GXDLwj/hlFMsT2Ocy0inqA0EGLIukEfR6DKZU5/YglKBNFXO/X+0kd4B7\n",
       "DlBdW92EUuQl3eJfAlv5Dcd0gHkQEr0m+jIir8AQtL5RnyZevt/Rhb5norcsUcXx9B+EkFATYs+0\n",
       "qg3/pYKEPVvpMPRSEWC1lxIXP7AWeFTZGgfeQ2MjAEnyTU7wPk1p7o4PQX6ZEH2MMflLIj8036dL\n",
       "PKpS+ZnNiljcQ3PS3C25Rsjg1rpi0dKXY8Kiq3uACUaPc2yK+XwBR9l+l/U6Vh5HH75P62qnvE7D\n",
       "ChGt37Cygg1WHZQf0YLm8Sngz3vmludsr48ctdDnCeKIvJc0J751YuOl+NAbMB9paryJkEdN1wz9\n",
       "ZMaHYm8k1/MoXAxSrkkuWhiZ6OptDenFQMoxFJ3jWXbKEzLK/5u/O4zH63InqWPmkCDL+E24w0tT\n",
       "TpUSaXzGppCsww7ZipjdIdFEbBgpTMj4P6uTEjQVQVDkF6U9BLqa+T1x49nvdRu+xfgCkrdwSgCx\n",
       "bGaT3rsn/gYRUaKYZaqVsjrwTTonk8dLuOHxkQ57/Me+9dMFKaz8Jqs8NuqsR8VLqgSTyO8PmhmU\n",
       "CTqcL/M+tyFAM9kTI3u4ycOoMacYOs4Wh97F16osYpPTwBqHhT1qvSdgBX6ZlYB/dM0uU532eMFz\n",
       "Sf/rjeBY8qBJIfwkNkjg52FXWOrpwkjjzLu3Xn6o0lHtu9XdFvNn0ck5vn4cbEIekuZrE/xO8evB\n",
       "jJcHnI8Y1e5YbXUjD0YRMzguMiQRPonFI0pw7ukeiCa91LL/e8pLGBeKNdCagkvpnOsr1m5QI6FI\n",
       "eU0gg+2zOeORxk+g79XnEWMs6CnemcFo3vNma2saj50lbkpoyNK0tzfg1ruM8xPUkcWPEfkaQkRx\n",
       "v6/iFThH6WZOAG45lPjooCpxWH5Yz2d2yq6BNeXEsBg7QeD7NBAuIxA1qReh5JjbX42l2UE/sDvK\n",
       "AStAVFKbjp/ah7QXQVAG659CXQY8BE/bi0rMxq8JuPRgt10CtCRqvNvo5K3Iyk+PnNK94z0kkruW\n",
       "K3IlpnaQ7mdtLIiO3LIoiabzltSYy5mhHdeZZSkKv9A++8FKRjszDYFvwbvmdT7G/ZNJBabcmKQn\n",
       "gD97nkODPXQdIOuxNMkKrE7pEj4n/wl97FxmFowx1BJKSoc8ZMhb055T4MuFCK1lRx4CZSPxkpP1\n",
       "JIHm+pSNVaOi64bfBN7/GSZPn5ln0ELyw5Qa0OXi0EVRUYXKMo6MjCbOBD7LC9n2qSIUIlOpe8YB\n",
       "EiypNy8Z69CpZ1/l4OQ0I4llmv7q2/Ldwc3TMkcH7b8rdvzbubQlOZZzErYsHHaqeszzBWRgDX/s\n",
       "w4q2Yuzk/xwc3AF4zcVBIic/uGx9MgmIxuWtZQLQ6g8uEuJyYoEPqLGGBMFxM/FdfuhTme2fhhG8\n",
       "Tlon3zLbAEmpCHyQxuYpJmp7pH9UU2w0M/neqjwdqadTHWiPsdVRD2D4FZzpkLGsWRDCYc2aYTSG\n",
       "nU6KW2dnVQcvGxEVyotb7A7gylRvIek+W8O8fCSX0uYqXMY+qP6z0WkpTIaVhF2UcfX5Wv4higk1\n",
       "FRHnHDoj3pjk9BwBcrdnK8IEgP4ocms4gqdhxgQNg1Fg6VdKn9/5tFx4oI3tE0qqLhColiRLLU8v\n",
       "xvQ03BBkkGI4KyGii3qouLGoL6Fx6Wbox36EKx6k31ngDNzhq5S7P7WJFQU0ZCQzjkEXTre/Q7RR\n",
       "43zlCfNhbf1rFpWJWfLp7O1wPfObm4qTTuOezWWj2MTcSN1u3xujabwpLnzqYYUnw/uYXioImRSf\n",
       "nmOKGDybyB+LPFfN9Mg5qxXfoWbub9Urhquh70PWuNjG4cHJjOLrG541lzyzBWbFVZXO/PISmc6h\n",
       "fZtPDbbjzibcIkS7yRKbCzcb/+R7yTDEgSiMeYiI5l1io6WnJB1g7xyaIzTLXdMJH2xBAs/naOpQ\n",
       "FkB0pIBm+p5NBogoTSaeXUynIQN6qRdY9qKqDlxU7NtNx09kNtJ3E0mKhmwkXBkVNHH69oziUIoc\n",
       "3tE6TbKs1kI0QqNH/JAQeQvp2gyxbrgRYhmwtSuoTADQsnYWSAYzj9NGcMeOF1FfJXA384R+RDBe\n",
       "EGmPdz43vxfqboUcE1IPSfMW48MeZ5FIWZ+M3peLzYGew12eEZBmEU9KWY+03JAddptBQCXt4BbB\n",
       "S8DID6pvGE9ZGkx/qEOxd7bZsBRrA1LPDkJu+NIjH8/MSCNm1dPXGNjAeQQ0HECa4uB3GB2bbJrN\n",
       "V4K3gusjGXeG4o69yGdJ1D7UAZyG59qw8Inp3HfeUxiL0FLGh6S68pWREN2SHq6HPi917In374Za\n",
       "/rDO0zqyEj37cq9eqszOVUyHP7tefeNU+L/jaqCEnWbc88SoWZJoQvwEZW9oB2fFC5JQTTntzM49\n",
       "Qau1O/3+aPnNEw4gK9MRtL1w7v46FyPA6hTlBpPriSkk8ldfzl8MYqWFEsPIbvhz8Eka7NGj6DxO\n",
       "hqYLtSbfEh90TuiFb7HPt45mETulMWWkxLCW7hNS3RYqUtmC+02JCddZhPMrwj7MbD3otKpqimR0\n",
       "j1KM/YCYry7pwXrp3xpvSsNfvaRQwMEcU4pruaMqWG32sAa6qGsZY1gHGxv/4o45DuTUus6iedY1\n",
       "iDjW91a2wrrR9GH9NPaUCHocYweEOMF+CwGzEKXm49jJPIKMsLOXPQrsuRbQcRFiv/1FkfirY2qk\n",
       "DQrScI/6HhTWAey9KuDiv7ns7uXsbpt2dQtxIZsnJPZt3uGL/S+dZYyDsrticAqcOBSHgXTa/z2p\n",
       "Ub55LmzXTrND+qWLEBdCZmEy38HVBuIoG4jDPQ6LatWy3HL6KOr2dr1j+oAyPi6zK/mlk6lLbmMB\n",
       "ZP743dCaN13AW5W3QEczly3OJPnINWL2MO8P+IRM49hUYslDU9LHV1mSnCC+lv+bR+y8pj3xqhCH\n",
       "zkxsAsKlrCY6rkBMXWU4Jo6+ToEx3l8tS7mDmHmnx9YRCL4iFXmxW3cnF9FtWL/OJqweAc2U2vij\n",
       "jg3cZk2eqAdRr/WWZNwjzYAv+vWGMsNSKlsKp8zsbAxb1QGGjPcJlMKPoOvHtty4tn/flBiNk/MC\n",
       "jwxmeXJHfV+cpGXcbxeOVupnb5mzLg22mVEOXkgnaGRXNSbu9KU/bTeR2U1pnCdVhbo4f864qEjz\n",
       "WUoyDCeO1K614ddsLTicPCb/lk3CwJm8EaZuUBDxY971ISQ70x3mT+W0naUnR0QMZ2MCoXSPS6Bi\n",
       "Qmi7IaQ4YOTYYUz0k1BbdH6pe7MvjTt9TIk8VXQDx6GLmzlzkFiSn8hm8UZy0R3CUVJPqsMFM5eM\n",
       "jU1bPK7ZQyHHwO2FJiyn8Zwk82I1NsGN9iadn7SmkeGYgSBrSzixlM3hVSiG4PVClgytHqGQTf5t\n",
       "iAXam4FIlw+8G51dzs/OvtN+ttvlNHEPyBHpnXr6GWWYnWk06BzWH9DDAmYj8tZWQpTvc2qGg5og\n",
       "MOi6Gg7oBGZ+QqjgyAyqhqUBf+lVPGeh2ElwiO3YZYoT7bWGrEFWxUsfsUg0AWSf/I4JHMdEAJ3W\n",
       "rbgWgRB/dpg7otH6BSQxQQntp+N16PBCGzTin3SM3PllljJYBRr9I8wIvIeeB0RXjOVFvF6Hdfsz\n",
       "U6VgFj7uwkQFWJ1JULwztHTuTAeQQ0gGxjhD0B+4/BwOb3/aiNlKboWN6cURk3yzE1vSWqiyaUMm\n",
       "QUwmJCoi2zPIi003bt3v/0GQ8elBUq3NlD64EnzEyj6l5GyF5ixYkWy7YPS7kL2utCoA5ViXHy9a\n",
       "b9r+j3Hu1VtnlABoWXzLO27Bhx5rggkwmuCEicYZ4i+5pwvq+xf/fMw8l+0tULRq/kx7X98dq+iP\n",
       "iT7U9qhr8pOdrQ1FAa4tEjXCmBDYJ8GuOCilpPsJFB+a7ZgT0X59mknmFSmMni7rCH1B+JIJIaVf\n",
       "LWN1Y6vBvbDlhOc0T2fXtrmL7l2Vrrtfs2lDU+be2hC6IfXg7wNcS9BaxfYLty6DFWaM2su4Jbfw\n",
       "vloqGYv/b9zvSLdLzTd/8z/4CiUqPBOgMR2G1Et2JutE2uAOQ2sA4VZgsK+3pBBD/lUgRmjVdXVP\n",
       "o0UCI5H3FZrUPScHZzlPC+ZkBaZUGcamJS90KZ5Qsp5RKsgvRaX9lRSz3kDwU0eQPw5jCR055l6C\n",
       "0ocR3uuIYeqV4uD/7ZZAUIRbgmG3CfE4U/68DHfQMhMFScQY2AN0j4QA0M4HR7Db48wVavVBzzJD\n",
       "+UuzK+Hk+HU6gI6CJG+1nsf433RNlwZ0d0suETnH2Bp0DzObSEwzo4z5qXrUbt3XMgFicOtyXvsD\n",
       "f0CWvS+tp5cYhvLukYNR557+Sxjp5Yxk2MKBWyivgOSMkC6KW2DUWaOGARxJZ+jAw87j3u0TsvGw\n",
       "ulIJPJxu5zkrbPNswF3Vy58ZGxJ+3d8FEJNdGgAY+C2CAQx2Ue84PIzOizxDHGsAcN/H5RoVoQBC\n",
       "4jMjWwX6XU1jpDai9YIbmaV3vPtaZMPLdxK2OrbuGVVPpo/ZaPO80zvtUvbi8i1L8pK3qSYJAbDA\n",
       "ySr+YAxiv1vVQoWRbICy0vH+iClrT4/cMMI5u4DbQEmwqnT2Nypnc0nM5cp4ceB3I4m49L2hyoYS\n",
       "W/DZ74DrLHqJeM4lXLXgV4Vjg3w796yl/gUrNrb5zjOPmLCVOVZgiirVkAVLmPr/iPcFRqWrgWjK\n",
       "7nFs0ngjqwa7YHWTPBOfebPbn3bMzELkB4DZzBTjdV+W/IMenfcWxeGRBX/ZjTsTENWwl7lwQki8\n",
       "XUucl+GYMPB8JdniP2BHtmP1KXKDvOfP0PSq7uufvwBwuVsVufZAZtlo/duc4rOe/8kIyVUKus4l\n",
       "0Vz2d+vsE9Qna82Kg1AnKRsl4xKcFDbymHB+DSrOGItvh0WgZJMdpZiZQtbXMNEohzq0hVpI8eFq\n",
       "pZErNTwrWlRpj2lAxlqznlskFsBGN/6M918JdW3I9fqKsoP18wDjTRif56/65CXnyEBSPQM20xo+\n",
       "XQJiT22oBZpCZhwJfsADwO7GdybIN6iCFYu0PU3TdB1a8Add1p8jyEuxrNv5wgCz+4t/cEoPYXkn\n",
       "K0dxucNg49/9bMIMDtHO4v5ff4BY1c81182hF1nyqyi5wK49U8I2dg31xhZV4uJNZiyHNmU+Rjnu\n",
       "fP7khujII+3D+vvt4pKyVunNR8DEhW6r9p/8YfMCkpzdzIEtCOfu0OEXlaEBlTMEVxutudKvJkRU\n",
       "RUcxwGHVYAl8HEFoUmpb2NFB1U0kfzxSIBc5oyB7tDyJB0TrTrjxvdvZ95+ylDQxPn1AjVLvTtsu\n",
       "ab98OeK9zeMxeGKYM/dn0ox2nR3cGtTnVRMDqQdvZHrt8Gtl9fr23RdYol2pCY7ziMUuHZHErUEY\n",
       "6eQ5+VGA9O8XaZ8VWPbvCnMJHKtQoASWvA8gbjHyHAlHH42emFvXHScsTJLlGRF2O43Jf5D2PSj2\n",
       "10oB/EnPlOKuwyXVg47zgiGudJhNH3sOMfVwypEEJrtdINFPPNe/WxJ1T6rE87jMRwtfYzfvn1vR\n",
       "n/FK2lCQiRrd1cpV8x+IOdvx4tJ/AkoZwbKSeyos825k6RtMZPGcQV+eos/sr5QaZm2V9EtiycI0\n",
       "R0eqsLLSYXIzmQXKgXItLXROfGatTmni75yDdEvTQHTqfwJegYgQWHxPUHT8Olxjxk6jTC8r+CAk\n",
       "emqKYgEVrADJnNC4uUC0wi+tQgfUj+iidbyQRae4mk9vJx46VUxmCLHid+yIL37a8mPfosd8BbOP\n",
       "HkmqdkfTYxlxFuzuEzJwGXDnZSguDIuxfXN49hOsU5R3p4NUYX8FZ6jVWzSr9G4e7WNjARG7xiCD\n",
       "heHdrPK9E9j5zEMDMJk+NeKlYllb4bEAjweIPb7rqCqh/ufZDUD7Oqw6kx/h/Q9YBSw6IMUTP4Vp\n",
       "9f/b0RjL4RYwkgTIcgcQzrCDeRd+GMYe9rV/CID0LDwaHQnWg2oc5bOg5Ceh8l0MN20R8KzHfGdt\n",
       "+F3SwWVbuckJ2OZEuYLggCSe7tTjHkPlRE2ujuJXKk3RZ7LHTBdWv0NyxqEve9M62KkwyzOij7If\n",
       "LXyRdbLKzym5L5v73+dauJaDEYQqec89WmsBn7yF3vm8Z6YkzoGket4tnawvsqCJlxvjCMlXTlRM\n",
       "cwikWShQwa6c+Gg8DwM46b65EosiAUOlHw2jS30N2ww5k5at1u5uT9j6b3Obhu0mq/YEX1Q09pq+\n",
       "vlhKzfuDgJPsedmGD4gWQ5uCZNmyby+8yqgTHpAfziUhO2RnF6tDpQFjt3wrUJv7lNaScsmRoTcM\n",
       "pyInFTyR6g1SQ/lQDsGOEFe78D5/KuK7gDefo+LFzYLkS7ljud3ipM2MKMx3VpNrYtBBHYmIqP1a\n",
       "K9s9WEN7BXj4nFrnUq/UywJ5bYnFxGkD+fg4u8rauWSAOCABfCTObTcPBxmwYcpDA361Pn5O20MN\n",
       "rQziqGOeIBeO42DxiPuFt5tdCs/VlqSxGs2YpdD2yETdKZpC88B/STCGd7lZIjbNpi45CE8N1SmI\n",
       "61pWgEcGXWSK/0mOkooecdEQpjuYcuMoGXWCU5OHGXIF9lrvBB5fXfu4N5L8PI27BoYn3bhH4X/a\n",
       "7PJI3kh4VXYYbpHr4/eDFOZPIUU74G8fuOaQ8fyFYkEwxwxCIKA/ODacfUMnTrSXgdmkvQYZto+D\n",
       "DDUySgudLcYrk8oZI51lI/8U2xtbkl/c0wBVlRATxsQ6dYA/y/Iw6cWgNLM+wumrHszSr+ja0E9/\n",
       "MTgJn9BgdNo0mAMzg6Dslccw/b3hfvEhPDzlMR+Z/pWRiPaVRxwkSpn8QOinvLwczzjzTaUrE0cm\n",
       "Cwb0b1nhLdDU/IS1vNpZMTsVWhREu+VddBeokrAme4pW7v1mQTJjPfn+M9sDYkBz2zGrTxKW5mfi\n",
       "enEEHLIfK/rBgi+oDsBiD4ICp6mL9wFfs/awES6QjzlUCEnLq8gMPSnpfr5FJrlWNEINQUOenSXj\n",
       "GfJuw5DNF+KlKr5cTFzG3/dDP5O+N12gqG5KUenduR8IfmPjjRzjOgeOLjzoaSYZgn/Yb7LPLCmt\n",
       "O2mhYdQDFrDxezJAw8CVXEJeWxdbVoNGgJKgLW64psgdYPRiKgx/GHA9BOklJcZZV79KmaGDRUxU\n",
       "u//1+Ek2eRA4Nrh5QateasQz9QTqc+mD3Inn89794mSCT9goFFhKjMC5I6cWvxL09wpCd3g8VP5t\n",
       "okgNs31sGAn6qLHEB6a7WXw0b9dZPB0WKC15GX4kC6HiA8Gq6rqRmyoKdKJ+I0y0rrWis2+yZZfK\n",
       "muEqS4cAZ9n4gP8madiNmYDzBSeh7mkDJMl+rKltVl7pwhjNAurh7r4Bnpij40QXajRUKWKR6UrZ\n",
       "kkHvexF2Sm4ROxqo16kM1JP4MFLw07iN5/KZ9hQkdOudqZVs0hQmPz3sCPCzHRIs26WkHAAjJbDv\n",
       "K+1ZOoWYEoZftwEdi/7rtGJYjVT83FtHIvExhH/aX/njPzqm6xP+vpEusAaJHzQKozRuy13jYFXP\n",
       "+ws4EpTlm0++0mx5V+2psFWa1nk4zsbgNgF9llW5wE8kHDGdagcaNb/+fCTm49ZCJTAtXXLyEtVp\n",
       "KfSbLuflDa5msJrZX0SqumuAWicFESKXDShRjJnturP+Rwm/7qQnf2sj8OIDuG+kHoxlhUBtM9aB\n",
       "aOZD1IGfXXNvdafZMrOhFmw035HFsZ8ElmHojIhzyMwx9ekX1+laBUlhEDYO40ihSdpIe32PQOgI\n",
       "AJqK+o5qnmlVga1cW312ZOJIWD3um61Jlvyu9QtOGmh67BokrIYr2NtSa8E8HnJAZ44ix4LSzOfq\n",
       "XnxUGzITFoNocstP6p7wSCi38LQqYG1j5OaQGkW9icJvd8cNp7EXoGwtLseRxj+swtimM5QgwQlP\n",
       "kSJv2o7NqLlPFgOejOSdYD98Ou4xre5Slo2T85OsdWZzBAYUskMRDMYJf3Fd3CY6IdFsbhCwoHed\n",
       "eVwR1VcnMfNWtaODzaR5QaW9XWF+cHin9A4KKP7cG2fvQK0YtkR5SqIUKtUEWoq1AueRf02EJhet\n",
       "W5T4AlKbuv2Xzz2pWbySaCvIYXNgMZ1BRuZ8M5iqN84vWN+u3ph1X/ntHc9oYiCu6M0A0Q0WToKH\n",
       "HjfXQEjWOwE63z+auCPNdy993tvP/zHEocfvHGflLTVQQFmILYT5C5oYvRlqjWlnsEhubZB8YhtS\n",
       "+Bsli9SXWbEThtGnez/+rZLGbQQsW85JKRGP8fTlp7afsbfEkQmeLdOZjKTh8zklOM+UvAJxlfH/\n",
       "6bIJagAG/jnLBmkZ2BGB+07W+sb4yZUOzzQ4FaJXJh6a+2LmyfUDOigjS0eoIPkL3gxJn2UtnmZX\n",
       "IHhJMOkIWkdum4Jp7oiDY2zZqkWb+xVQDAo6GS9Z9guJdWYifsd7Cmn5SdU3wo0lWVU5JnGV2lYi\n",
       "Wbt81sIRZLffwAk0DfBF7rWCrQsMc0NLZ1TmDq4FqpAbMKf+KfeIvli2B49+qtRdGZSyJNNapl05\n",
       "ziChSqf2a5bTI0QO8UHjHpDQqb44qdVE9crYFxr+eCprUCTkLS5vG/aukK+kHPMbUZAlFOaIxD2H\n",
       "s7EEQoBGRJ/8MwrHbeR/xzIDwOUTSvzfwJX8JhP2Kg7uaMZ4gFmLtMYvy+ylkEM+UW8BiLdaHFN4\n",
       "Xi277xHAnVgi/2ms7DOkIzf7DKanP9BhJ8Inadivl+0Khhu+89qg8ZTOywlV97BbEYpnKJfdyPcj\n",
       "Kg5PBINkbA7ZbzlJswQfuoSRZCqlLCsu8mf1WDpS8Wgf3OxSnflvIYHeGS2J6S2KWbvex+rOtnvA\n",
       "AdpGdUplt5ELZjQ77CWAy6kVMok7kAHdD/UzsTOqdlylINTzYwvQ2B0/Dti0wrGSf43hBatx72fd\n",
       "TpiH0AXy51vvZZiXeUuH8XNRQvhpZ01JpgMZLr2wgOMn0yRSow5SHqOkjWUmrxJZd/QGzVdBMkjO\n",
       "CYHM+gVsNt6TtYk4nqHC2ogVm8H/fhd6c2uI/sU80vIhppZ0X7sU+0sV5yQV6AT7ILuADZRTjwaV\n",
       "TdIIhNFk7eRCt2xkVF7+U354THpl1yDXGWJFuEhGVNV8u5Ng2/xPGxnsOOXydff12K7/HKzt7WjA\n",
       "m0zRySB4QdOV7gzn9LxSMRwYFErMfsxKve+NnO1kbC25hnYkr3U+LYV70ltChoemTYQZoaUIRe1e\n",
       "ZJ9IwQ8P68kXPIwQaS3xvfOBwCFSxkQt2WdwP9I3c6BR5YL/FgBtjajXC4lo1OXFHefXHgNYVgi0\n",
       "HfaNl/WRm9X2BPUlBkzmbCDTvaEBl2xNtwvEGriexKbxeok3c+5oDuPPIVXLBl4a0vu09ygGruQI\n",
       "WxKN9/fnidZ/grkdY8MTdjnwDLTYwcSbUOQBcLl31/Ie+ZB4tXdrONe0Lgt8fk3DmEjAh1rys+oL\n",
       "t2/Ai7NPQenRP1LDAcZy7pdYinGGPDADVJmnc5QiuclCjou75NDfv3KIYiIAQxaauyeiYJFyasIy\n",
       "ckrjgtCmoe3kcpnxuW1ZhXjRvZDtlSAZb8XvW8nZkwE4QrZ368BkvruNK1+BPwCcdq4oNWMcF8n6\n",
       "E0UJawP70Di0y3JGdm8n3ATau/nqmTnbISuuhH9USTS2QpwmsYceVuY+3L5KCuFN2tN49FJO9k5X\n",
       "d5GiDrJF5xdwwV3np/ZkWdnvxgSQheSNDbha03Txy8LdUbAoJ9EqKt8QwxkrclmHzYGCHY8p2ydg\n",
       "VnX52tNtjq8HOHbfnupBUMgaKJv7y0Af19Dj+ZcUlPei9bZKSbSldeXg102SWJSAq7eXHXykW4lR\n",
       "nBHGkHFaHPjdATnhECLCWFpCIeB4Te4ypoLalXBgI6zUQs6JaAsjIVGjKUxsmg4jcWKG831RTeuR\n",
       "WQCP8dMgjIPIHklQwgEvH1/JZLDntcCEl505nU86eoaRXM3091pq62SwNJSNtVdkPOLFFUrMQxDi\n",
       "l0Lg+b/2qgj1aS/CQ+hzP8WMh3p4T1jqSUEtrZBoSzROCn4oJwLE92Wfh2nW1lnAgzgkk+f7rA6S\n",
       "N0pye8cyy7g1KyqwlEjAx6zbXEx1/VdtdCJS4NqHRPSN55U/aMllhuJSbKc8RyEghE9xyYNXVgLu\n",
       "0QmRRXKWAcPurMSM9peObWuycRI5CR3z4vlti4/K3KHWfU2SvOEHRqJ89/GDT7mVwUpBc4FDzHYq\n",
       "j662aYRJfGBSomu0V5hqUz0a31hnG+dmZCQAD+dmWxcCOEjKZXJUbzOTX15saPcthO5KCGbGPRlz\n",
       "OlCkBz4TTMQWN8bzDvm8+gT9fIIOf7xrN7/unVsNcUrR/pzWS2zS/e6nOVISHwV3L7CXcN4dJ7Nn\n",
       "hm+VOdiRhOalRzoVwdVuA7oWx1mqJPHC7vupUNKRFtHpPzfpxmQStpgm/gUENKNjShXc/4x4JWt2\n",
       "3hsCAnYuxhxNwg/r/pjyoe6TaD94p9Neft55ZH0PoNBEhQiAt44B72P1XlqPVjlftLe3dlTeC0Bz\n",
       "tc/79uafqJtdESERgXQntSygilT+sk1TyMRi4PheMvbzKkf+q1DoYYqaEXdwxne7AP2qfOUWMmcf\n",
       "3fsxeBYHx9u2k77DOTIOwpbt9H7TlvswhSVdtU7KwIfjNd8AGgUZzPeAEkWgPUMDYaymAO+X5oVw\n",
       "8fPWiGVGMAJKx2uvtfW2pqcAg3TwMvr3AaTtCHHtqeL90AdYApK3DhtMTrSj31ekq+rKe6If9ZJX\n",
       "crCzc76kMxDk2o1SKdxAelHrIxTMQ/V/6mEbQO6kex6kVhYRTs4TIQ+8vd17N+VnxiQrQ9JvR3Rf\n",
       "gCZVA4ohGHSFY9D808ktJ+M4baGhX85NymBFU7Ac8JNS3Qf7gwyLErRM2oehS3/AMWMf26LgjaKc\n",
       "DYxg/ilpk0OEYDyZI+pBicGzVKe34b2l5dzvjdrPW4OLu+De/yBAIUwB+WabamFvxVD8frK9oIlk\n",
       "Z/R2DICKPwSIQvHUgd+05V5e5TGRTdZXMdlWdY4SZNF75tMvau88R42u0miGFT2vhRtbmVoTvLgS\n",
       "lDDiSKX2FVQcd4IMUQA9GRR3fs17gzAgcKvsMCN3bsRkf1S4K9M1eZ6F2vS4dDQ0CVzdRbwkEP/U\n",
       "cOKl6iFhQRAFaxmbCM59h1cqVBIoi1Ntc7lbaFk4bRbGxiKFHkYLJxDtf1dS3XgJh8lOLQYWWfl1\n",
       "tkNWx3g7xMcB1ylICF4cnSRn1M/M0RymxryJkyt3mICPpQE+qyAYTXdldVzuI6LNa48g8vvXAr5D\n",
       "BRF925fvLWj9J4HdJp7f7j96szWruvLBe7N8aLlGwOLxKVdC09ZS06qMB9+vaPeDGK2g9Nm0Hbu/\n",
       "UuP6NMlICEdqkPgzOdppfUe5xvE/Ira7DYpDNeM54OpkqQxzEY7xIcgQLVulchI/Qwm6hCRQIEPN\n",
       "vK/7SztFz8/2ztams5fFPeGkzBSkbfLnyCrQ4HMdkYQAQUruM9JOjGRv+WSy7asoN4S9rV06VdRT\n",
       "uMb8w0uqGFjnbwWH7UKOAkGh7V99REn54B3TN84QXKfZy/ytEkbFheYinGMxIBmlUqEB71Wj742l\n",
       "xcqrJObXdNeixLgWYpkdER2kSLQd2pLkVmDktjrSjdPqckHykvc0vCntpA/rnycwlESted4QVzeI\n",
       "Puy/dvSQxJJo0S1h5JpwA/aTDGT+Q5wGPkcwE2S/osAOFJWTPiRSJG4l5JPLKNe0CPANSdqGjJcG\n",
       "SYNQpxxdyAbM++0/CLwO10mK4fOtNUEKLO608C9KIJ+rxo0WjyxVd/O+9CqrmFs9XXevyYaX186K\n",
       "a2K40MZG2IPc+RaW909olfllIRKQF3yoTiidnfC8Zvk5IpojjhegfhbSi5GKvkLlyuIpSvCCpsqm\n",
       "TRTn0fBQNlvm7HfnyxbKn7vCqQu/oOyZZtSwWMUSo85eq/XPJoJqJOBekXBqlLWkaMvvmwZ+fNRu\n",
       "zA6chNYiH8ECNAz2556zqe9nDaqOuN23cAWAevbYmuHrq16pfY6RBdy8rd6RaGsj+bC7oxAY8/9S\n",
       "K9qhUkT9IPnrJR2YkUyt7sVLXGpnPJFyYvxiHAHQas8qgz0TmXQGKSErPcZbHMoy/7Ul1ClU+Cxe\n",
       "eRC7L5EvvAP+5QcwX7W3fOwwwkqJcShXYUBk+D1fp94pHVxmy4vIYXt+ut2M5tQ8PBz0yyvImIuN\n",
       "0sjVnBe/rxtPgRsyGcR3M/duHMVvBVMjkiiTRWSlyLGVacQxkWPs3WSM7PJ+rFmGBMV9MwaK/efa\n",
       "ySYmS94VbxRxq5qYsSlNN9o84sbpAUwQEclE0TCKr2FQlTrQ1eWv5kQpKkUAdqphnWtCJCjtGcqi\n",
       "shAc6JHJ2hxie6WKkbofJcxc9EqJwv36M4kRZRQzGsMF68+7vdlr1Y5v7osBtZE1Y8fhBt2X3rN2\n",
       "4CGxGSqKlRPlcgVso4ZjLZzvlq/vFZJI4AZK5aFOF6f4MH/KcZk8uDRW4FV4VCXTTz5QTDCaqKgc\n",
       "P+JstD4PcKm8dj9E0Ykg5yI0I3pbT/3qgPJEUXrabXuJStpnN0NLBgGhV+nMUEEwZ/Oz3H9C3d7N\n",
       "Rkcew3+fUhzlDeWeHZqALNDKkzSvfdNxjAb0Izh2YoL+GdJrE87PzAsXiaNGEkqBrjkZlreAxbMk\n",
       "swsoVKj/2yS1GSRHNJF29vHMn6096JNFRFa2PTW7g8ZIOKdUOtLBAmlB8T0WjBs4e6P13wNu/js5\n",
       "OyFtL9kmxO4ebVRaCRlkhhbRW9R5AQL0RQJUO62MzZgZ3TyixE5p2tK+E/ECOgpiN/BYIHvj02E0\n",
       "umT50H2U8ZNlAUryPRO4zVFiFcAstKzDRmqHR7kmnC2UH3Aky9pbYr84CbmBI0lTDm5qdZ88rkDu\n",
       "sfGNykkdBwGWt+z7Bvc7jYR7nwsRrFQXevTbUnMYeVmbA0EB+XGIcNMvnCSQ+45/8FuQupT8DYEQ\n",
       "sqYd4gVzJemyT0iRXVttI01PmMvcQ2R/Jts3Suznu7/DOmMgMzD/OYhDJIyfRbrYOb6E4rQP8FOU\n",
       "nFsIz+1aYS6sd1jES+E1IoeHR5Od0BrSOP2Yzs3vN1F9bPlliVlh+gUymf0K2xIFWOT9ZNiRnggK\n",
       "qGzz04KpKdUhjL68A4vLrMW4yL8SuKAVnYakZidx5OvYgpVR92Ki0cYvru91lGf24NPZdIUCgM7E\n",
       "TZjYM2Yl+38eZCepftCB9VaLW2e8kLqnIrb9oTBMCtixVuj/Oh/IPgpCOBimL6EuWxmzrLy+PGS5\n",
       "h/SvPAMZv6IRnZpH5nU7D2TUn1RI9H+CmWdBB3ffu0hM6PIXg9UuA6Jl8wl/d0zn2a9zCb0bxdvT\n",
       "+kRNnuosvibzjyOO0BorUwykW3Y0/FZwsYldMeJpOhVmpgyMYnt0yBGo+2eg+axOX2ySsKLxoMyc\n",
       "uzYEBtilCWFe07nlhimoTPIxdJOhTyTjSIwf9iqexcX9iT+2LNxLBVodcMxJkgMmkOiqimICEStt\n",
       "JDIATKMOLs66JHB4JR3OnHg+HsWeZOoKJaP7VPvr4XOA+PpiKIUuJHywWXuxI2IoxIg0umU6dt6A\n",
       "xlIW7gxC2wTzXeRgXwyb9LcwGFge+Lt3jR+TrWi8OLKlyH/3e7n3JpS+AfUO24xUyVL/WkeQHRwf\n",
       "71kERSHfZ07/jjsaEPBpgyzI0pTzmFtoiMnP8tVx5P2t+FC4Dv9GhkWtT9czLHsfT4dw36NS+5Qx\n",
       "XUIdVfWOptYwdaeDYv+M875+6UwDYwRY7V9BbZiJPfOeqIgkhwnz1JuVK1dK7u9OrKMgjLtDOgZe\n",
       "8QkyqEnAb6aN/BXJqL6KFbuWrFGOlpOvvCFyIRJ/NWf7O18Nris0RbYiLdHJvmd87bHsUN44SCO4\n",
       "YT9+/0/LIG7Vmp+VtDtiVmnE72YRM1HcyaFzDWiwTYTPGka7/cKeg+urU2pYoIdX2HqZVwF/TAxp\n",
       "1bXsnO4L1398hKQ1FBQqqBDymOpll1sFJR7x2Phr6vLq1+mYgIjntbtFMQF2PzxL6YLyfV8njd5Y\n",
       "NoeVcYUZdOUNqeAgJtxzrwrJW4nL81vr2NeL6bwjGcnwONr4LtxQZe7qvxKZdTz6IAZFk0MbrCH1\n",
       "McPY/T04gGa/n5sFi/6DqZNg5NTbeyBTSPC7iiPy4PFcs9Uv21MSYMtrG4/dmvlJARMvV8CfDuGO\n",
       "g8RXxdMbwv7Qk94Y9ezArElVQdJS//vcVtXCApSSOQy950ecdsiRydw6Jzvl0v3es8UgwdFrVSpM\n",
       "qBTo3anujZS+mNye1uQJ1F0wFeCsUJGE5PSdcgNUZ6YQHn9UZdpZKC2pvPdVqMzS9ZXBsP9HCufd\n",
       "W5UeqgLr6ZS7vZ1JbJjh7HyZmkW03QgY5ZfxC3q9bM8JiBM9bW5B+QrkJHiCYbt6nblc3JC0Pojy\n",
       "kex95AAlVhvZRUy88gWK2XSPNSNerI2dwEk3AmITaPmrua2CRhxHv7qNs27ISS4XVvdGRViQzZvE\n",
       "sWeD/4i9CNXJKSJ9695rD1bEVT/xnlvNJGQ1nz7LMCO0TmXgnON4r2L4DJCTpTdw2sYTAYjAL46x\n",
       "2XNLBLWP0kvLpEsmPa3eHLj0AMqbZYsyJrlX8R2NuBHbDD/VeuWOXV1s/SNdPxqfViz0wcsSNp69\n",
       "Q8STziATSb/M8W3t9X/XvE2FAnYqroImxlhcNBvsaKJpMwTFXn7ai//OJyyMYIj8VcXYsaWUe+1+\n",
       "AfFIIPibCzE9OhfOBlnxUV9jYurZFgwyFtrd4Fx48i+rDoAtksIxAT4OByVsZUUjCp5A3bmKk8KA\n",
       "6rAphktwS2mQ0dlVs4PHdlSAkgUp38sBz54efc4uU+Bxqe42e6BteMe7n3aXrM6RNMoZ8hEjBbHs\n",
       "QNrEBw7gItq1Bb12W69coh/Nf/OolJV3AfiUqygjW56MX7yiQE7PhKJlgFbj26pFcJc08v1k40rQ\n",
       "MRROGzDGpH65+FlV9YH4LYTkKW9+WmhQKes4/ppE/JZOtZAvVbOHkjAfUIXWlSwl3hyD7bDoK/q0\n",
       "Z3zU+mDTcwXOov25kK4tSuzpqbR5NvRThyUnlCU4/uGRSf399jzSAurQ3a2AvLm+lJuRPejtgn2C\n",
       "meByqDizoIOPcgIGAQGmjLK1tlmrkR088C4GN7VcBofuz8nc5J/VJzjjcTkOa6MU1y3mTJTgzvW8\n",
       "ZSPqm8vx3w0XVS3edDxUEdA5Q2x3r8TUw26CXkcfKZWHpxbDO9A9+jOKdvLT7XsLmy1ZZeYEJzH7\n",
       "HU16BRMM89o2xMO+hsRN5sbKNHsIa+ROuHXwCMbvLtheR970NNtlprkzqSeNSPeFu1NGEoiMTqaz\n",
       "fMqrimU29QI4LW8HhTa5CTAAK5NQ5sDpgfLhiPi67baZ5YyQV0Hyw+yDx7zdud9gDP6NQxyp7Mms\n",
       "FjtjdoMm8N9XXarPA7hc1aZeVz9/kFCK9O703oJ07cuJsNtQXIs31dntZdj3006hDoJszXHHwYhh\n",
       "xfqbbmMywggTBByaPG99Q9TaM3NrHXzx7wJ0izyZjIXt/zwO/O2SeeAqBCGIUrHprJuELG17wydV\n",
       "8OaYupS4cfJqSzeSMsET+GHm0XQ5GS6/aj2TLCpetRQSyXFixv4vrTN3M2zVXxxFRxumIfay1B8Y\n",
       "nH9Ni5E4QLT92MOGEWn4E3YfOE+R4x0BGMQ/YjeKF2vo5QKmiWmg43hGMBYk5YgqUUeFLspdp7j9\n",
       "GDzVdInk8ARGsTxiciw2/Vmf94wTtQC7NkN0NLLd71WB3I9zB3PsyKER7zPBSFTIeiTrSnE4ZE6m\n",
       "gbMlYXuQwust6nsQ9b6MJu38YJ9h9HUXGFRLW0Ot8Jd+a/jIaoFpf1XJ3C3AZYX2q8rK5KEXy7fO\n",
       "qUgUtp2ELW1lXxcZ+s1C8xH06bKhpU1MdrXlAmLJg4uGhEdsG4kZe+p8g90wbI5t6v127xX93cdq\n",
       "LNkaQC4Pz3xiNmpzYAjR0vtPBFmbrjmlT77XlKAPcPFY0J/3OKT4Wu5N7wbvOX9rHeaobCTJ3SyH\n",
       "9UDjcDGI039p8xGoMDvqhQ0uPNH8JFJqLLlm0TdDCd9sxWqcspMXNIeint0+g2koDcvljACUdVre\n",
       "qQycPCElF9QK0TIDwK2eE3GOtOhLO3sYNO0oNrJD924vNRl7XgKGMk+cpDxPrH8l870eteBB3lvn\n",
       "jGOGv7J9woH6vno9xx7jxfjKOb99ytYi391ko21c8OqdwtQGoShBZAb7J87KYqWwxBkHV/q1IyyA\n",
       "cI4rdOEtj58fJx1CELFSVXm5JQQ6ppwc16Dn1zeynb/pXEMlzhl+08058fB1/Ed7AqTWHUm2pzC9\n",
       "dhuZDw4EMd/lHAtK3yBgATn4s6mZgYxWKYdbXikGxwdFFuthFlzncv9NX6/hDsUsf36/tSaVFja4\n",
       "g5TecMX019UmtfrZ3oOVB9hZ7R5WyTj75e9ydYRha5M+5jtJJ+9axtASPy2BOPl9K3tvVPZfFdrn\n",
       "3dShnyjCfvC4kQsfixsfZkpRIcCtGoA0L11l6dZ8BaUK07oQTO9Q6Ak5FMIcghsjqZz9KNvHnF5B\n",
       "EsS0pw1rxaHVmY68ziUP5i9gwyfX0eJMSm35g+DfiUFSlhRbhWja/gIbEd7OrUqrWJYvrBDf2x9M\n",
       "N7qoG7fLHF4cuz0nvCuwKBocU9ZVOaRr8aAS4wugZ9fNOMeNlFxzwUp016Z2VlxAHBV1SZKyDdO6\n",
       "r3YXxtFacmSxfwvKV//wRI5IsUB3pnhs6VY+2QtPa5WZjRl6aUt/CSvqJGI7tsRZVBRQQhgH8yIA\n",
       "AuMGTbZUflrR+szlW2GMfqrVEGh3Hm4Ot78YMKBcCCUW/VziN935laXlF2IwS5ljiGGz0ZPEEWFD\n",
       "7fgtuR33WWin/Sgu+JHKlJyuzzheIHjAYpZgwX4r6Hpjc9l1fEEqndBuCvH/Cd0qAjnc34QyXS/+\n",
       "cTX1EUp/ST9PQj0qOcPAEPbTNL2Rv2ATaNK3CoksNTILoeNMy4Dq2yUTAB8jX66JRDA+yMchCvyC\n",
       "mnnSY1fBgCJh8dxffrf3wTRpq3tDHauTYfHcybKtyIIPzgSmQj99iyHU3kMhZbCEXZ0Wj0462SoL\n",
       "ivISBv4FxV46HRsmRWuMkjgmmp17c1D5Dg5RSn58bgtThb8qq5/lEIL87/0rKFVAI+UILIeuJn/c\n",
       "2gdZdQErPA4atMJdWC8354DCmrJ2H7keS5VBSfiDzma4Lsvb+jt3DQbCoiWavt3BmqXZngFBxRND\n",
       "fw8irCzt3yzCNV5OZEB5onQt2fpUcnK5mUe/2cwl5EqCmHZbEMjmjX6pQv2UQBBXLbK++IYmPLxN\n",
       "U6BQboO7Jjt8SoKNmjgagj3eoVXDZL5Wpp3jTFa1+HiLZZabZYr5OfxjGgVnerrSUI5ec4dLHd+E\n",
       "F8gkTyQ/rozvMTZd4A587jFw3CH2MVAjBeBfctaOUscHAv5YCYZ+4r0b7zS11AM4row6OE4Zbv6I\n",
       "9lwyZf1p2WcBBly/XAPxXDdJlltnwyHLQiqxxkY/IBt7a8xZ4jteEjujyexuxo0EPf2ZDFAiJoCd\n",
       "tTa3LQIoJTdpZx4s2g9Xn6f81j/qOsYwOyOGG/SwbTNtadj5pCC1WdIeXYg93eyUZDckM8/JNkcm\n",
       "BOJlO5sKYM1i3INzUtHcepsWn+1NAhHu0iUYUuWpVvneTIH36XfjMbdo/yVl7SrN0ghWWu9JawJ6\n",
       "xMSAwSQ2sd1CVmlgROcY/USFwh8lqzhnlAblwoQwXeOJApiVldEdfNPnHIZW/RUgPVbRBxEyZu0w\n",
       "5D0N9IhKQO0eaB/bVW7nJQv7TWWzVzxo3+dCht6pBolfoCn921XWjvIh6usUpbbJqME1c19uvZPJ\n",
       "w0s0AMNXUg5vTGEu/9OIuQicSuPls6m5sIx5HLfHIyxszM8QFfh1u4XUDOd/Sw2Us4kDC1dptwQb\n",
       "lNc2Lz4HeICXtrxGtZUyJNze0m+iKB6Ur3IXSzQdYlO9IiL8R+4CEIpqqmlzu2U0VSruUhIM6C9E\n",
       "23CmUAC4hSMQwZcSA4nwYcNaGYLNTIfS44fygK+tFKK3ObazRPMgedMqzejGlNJzjX6r9CFkMbiY\n",
       "S9x5Fz8EHUZEK+eTiWUczT33ywyzBRDZ2IJ42Jah4ZhLnpVSUR4eKj+3vWlxRYPi+D0lk20BF2yR\n",
       "KD7otFUTZKoJs+iySAlK7xIz37tWpj+EJRmqoVa7w4lhMigOONeGGwWOn5OJhrciWgL+IFLp4cdS\n",
       "XE86ieQkn0CAdGhuubHUemV+d//xvD6rRuv1pPNHZj9zc1yqBSei1qzvNfNL6ti9LtR02ZzMi+V6\n",
       "Z+oZgM1/hf313y1MBOLhl0aEo+XOsyT5ewVzLBm61kuYkIQReK6deC8XVXmEe9qUaGgRFqnZCQ/n\n",
       "0rPn8Z1WthE8X11HoEIvcGUeo0M1+uWttDoPj89NF4DSQevtRpcHQ2YPVIp4rVjqx/GI7OQlAqEX\n",
       "v2mz2Wv4lwBDVvxcV8piU1cgTuC6Q+mblVZjWzQzybTBU+sVlPz4Z3Bo+Ri8ZU/RsA/x/GERw6mW\n",
       "O8FHOxjGLwDZy649/PHyKQjpy3/lanTKmNCe+ADYE8oC1neU7/P4r05QEJfWwdMz6X65O12143//\n",
       "v6X/bzqjPxtsTyK4xKd2ytF1+lfuhObCExOlzOdG7uh461/HZZzbObjd0EahzUm8wbEk1Iicq80p\n",
       "WBzyAHVCjNREHJfJxxVr1mcCaiaCelEmrJQT3nT3vL1thjH3/9FyE97mYCG20ww/Z1Mt7im/Lnvq\n",
       "wGLrnQF23Zzbsd7FAZTZ6lqC1J8v3dG5UzSVHUxk/oqvfpJUcAuqemF12e9prQ/Kg/dpWs+oskB5\n",
       "Jrm4NICmDRPD04cdijZiD5QQsBOS2jBmgZB5AaEofKGr/NbPk6P+eXeIywgj5CFIDS40HWu/Nwy+\n",
       "UO7oOBZEfezjZv1dh0KzobXJc2q6D3+M2fx0payhLZlRsEDXZGN4ScQGNrvhkhew/l2+AOTNrlrC\n",
       "NlDw/8EK8dQ6ByLdfV9Cd/5tuJo0DlOeGtAIK7ov4ZEK10afyOMmE8PEzXmxoGJHVQyh79l9Vikd\n",
       "MG3PY+MUL6kQnQwM5ZrTjzuLdTGu/+xtvg23iheMjOZz6Sn9Y+dMDJMxQaHqkbJ0nmBeKypzBIAS\n",
       "QR695IlVHqbEcmWiSwzh+rJQlWKTh2Pf2U4KdxUtD2/ZirjfCUlx/GQku4wawOi3yWkGFke3GHcH\n",
       "TLuYOssU6ykGOLsThBiztIHFEYdw/zgKcmol7aDHIHMBO5PfeoqSwlwbe5SV2BKhhYHKpYXHoPM3\n",
       "vWYDE/5v9NJbMlJbFZpdukb7HXt7wqkds1x1MonE0pxHjkXhUg+cTtO5IIbXJiwVhhO64HJ/amxl\n",
       "iJ3fJOf44g05P6RE1+btWqATyDURcP6l1UJ6UmqpbpyhTf4GLntp2newoqfebEcgKB0E7PuIy+1m\n",
       "gewjDIqSE1ZHLHfd5g3TBC8m6yML0GSPpjAXmSAuE1yf3sFngvqe0HiZUljsYIAMCrSA8wYyZEhB\n",
       "Z4zamDwTX9rVcJ3kw9TUBL81I9eqirZ/eZtRt9NKezgA9jbi5XbLfRUE7sXVppHnC3EA+WxZl3cF\n",
       "JFM3VRFnOp7//Q+/QRnqTU7EZEUq/y5E8Vj9a0eEt07JttNp6GCF8J/ayDnpDaGcWYDBzf/t2MUV\n",
       "GmkIZyPpwu1Q15hcpVC/rhJppOu8uJZIJY+wgsZBs4/d74A3iw5l18ICoLkgW5pgL6q4+Lb3Zu/0\n",
       "eh8wNtrHajScfTuM4F6LY6L0TiZffO9SXCT7jq73Q+0rH9hkeRtQ4vy1XyOTjLa1P6ofSMpzF5MH\n",
       "C0PlKK29PUqhv1zZPoRxt7S7Qtk4BLYA+w3jAtXVOuN0921becQABp/PycZpGNME+FiJdFPZQ5yi\n",
       "a1xTmhz96X011IQ1cTciEI9mqcGUVbbi4dj0B8Ls+/XiGNLswFzDa4d1/a8mHV4qggGFLhOmsAai\n",
       "qZDVfor+CJ4/qZ38BrjI/ibuNAp3SnCs9hOawz4RBJ/S2Mbrr9E8NRsO7s+F50/bnCMXajpls8UL\n",
       "faViNEXd16UsvwSntAOLWPhBsqXQX9UJGEJOfjakcqgBWpUFpQLoNrYzVLWJ/42XqhNcpFzCHr15\n",
       "q/vbVcr3Ji6fzdrDGv1S7z/iCUefuZDHRJdLVQzu/qBzc9Gtkhl+6gTCWBTmtIlCV6ZhfK/4jaZQ\n",
       "MNqkNeqYf1yGLP1lIV1LKVabi2joa2HlVuwAoYkjsTtQAFcSZp6pi+ywQrHyDeOC0gwXQ9+pf3FR\n",
       "A4Tm//VDBVRkNcAxu0KU/ZllOhRQKKK2a0Edq21WYD4kIYSeEsc+ovgpOl7R0OF+iuJU6DLpk82k\n",
       "DKz/dRRKQ4D3CXJIA3EymkfFUJeB8qGd1yAJZz6xdF9i4lEShHnrYX7u5KOyabyXbIsQUA4xGxt9\n",
       "b8HGtIe1dpc0YSSybqgPhnS9nhA3GGHUDvFEeAugW5feLyFNmTBKC0gv/SDqWERn2sk/qa45WZP9\n",
       "9X0MBGBXNpUzu3JNNKiviS0r5xY2WJRjcxTVbvPXut8Gbwa7AhjzOjDlPbVZpGrWoOylOhVmP8Bu\n",
       "/+lsKzby7QfV/eAsxaoe1r6NeFyZP5dMN4GkCPjgVNscRDVPH2b2WZ4GFzMT77y6CT0HVOqdVEug\n",
       "x5JofE/1PZyaTLEhkjZO5fKAl7mrFiLVRP/SvXw2BYpKobeRnhjQ9+t5UMTlxVAJFVi30J8rrwhd\n",
       "z8jFuO7SRO+QcE/p6LJ4K533q5PHqdhVKvUuX/OFVBoYX4913/FC90ZFensrpwRoh9+LaymhDwIr\n",
       "kbhLZU4anYs0tZFGJTeIvR/XkU8c72gRdWlVfQmPwezRjHZr6xstiE12+KW2XcbxyDiS7X9aQYq2\n",
       "RI5o6vRBBdFKtAAf2LtgAwzcAAV/iJWBAAABi0GaJGxDP/6eEANz7HggpfwBu86G8kVPZnTC+oDU\n",
       "3V2fOVRY0XNAs9YzNDOTAcTnVY8o4ut7qmNEFNnGx5t9IwM0a79PJ/MDmHYLstLzN5g4XMg8w0e7\n",
       "yZQoFlZxXgiMwUAsEOEFH4c/lM60nhSijSsDfNQTyiB9lMIDzWaS9yOf4qbWGF0lix/4UJw6Op0h\n",
       "H1HyD6LJ7cVYH4QPHIqqpouh3Yt7IqNJx0DYINkWtgrHi4EhQkkcPGJMT8ZBLGAfI++P+qyaFNgF\n",
       "cH5rFpWor6oBk1eiN3r50uYp4p8/psCVponC0czJjA2KMh96qAfs4rsNFscIt1U+qfU5F9Bv+MG+\n",
       "y2nKH0HmKdxnGBYkzMxPQ8kIECHVXeA2uL7DFqbuYlt1rO/ASVQbLOkmEEDowFb/R0GZiyAVCtGe\n",
       "4zg8hq+HncOdHFwHUp3UrgVUrFFWA6jou5nCKPI2bs+hiFzxpO1Ne7fR+b7RMEiDW9eK3LXv1zSK\n",
       "L+YFUOseZNQAyhrala7OtKbyAbSAAOSAAAAAMEGeQniEfwEaUVCGt0L4VM7fYTeTZRg8mzclfL0f\n",
       "2QfIZzHwUCfC9il6gFrOV/8BDQAAACcBnmF0R/8BxIo2iDxBKXRRs6Kfg8ZpI0XiWP3yKd8CpoSG\n",
       "hWAA6IEAAAAaAZ5jakf/AcWADX+t4DsNh0Fqi5CO97u2NmAAAAAzQZpoSahBaJlMCGf//p4QA3Ps\n",
       "eFQ2GxqAL3TKcfpkLS0ghW2Nuwavg4uvNf+x0IC0azrAAAAAHEGehkURLCP/AR2BjT9CPfSeNyau\n",
       "fd3Si9eG0yMAAAAYAZ6ldEf/AcSKboTsbYwJKzivg6e+Zo+AAAAAFgGep2pH/wAjvx7WYUAOhZUN\n",
       "tzbRKrcAAAB4QZqsSahBbJlMCGf//p4QAFPxuOANvVq7uSDVLGkKy6Z9Ovz5oVSzOlP9/Al74Mpi\n",
       "023OJVwZrlnGIeffeRA2EkOLQ4gdfesTY69sh+GZCzoQ8tMEoHrNyGsQO0af1tfbv9elXH8c6ME8\n",
       "97aEGHmya6AGwwnKoZAQAAAAHUGeykUVLCP/ABppnF2BjG5dzvof3W8ndz3xvsGhAAAAFwGe6XRH\n",
       "/wAjrEFQQx6GLcDnbl987095AAAAKAGe62pH/wArKdbYAAI4UCbGzOMDjDrzvuePqQl/D1tT9wTB\n",
       "JeI/O+EAAACEQZrwSahBbJlMCGf//p4QAFHRiEUZDACm/1PgOBOHy9Do9APwasGX5xg1YgyCLe3f\n",
       "uT9twl10aDzo5xQt+Nlr4pJwWKOipjAz9QGE60zk5AT5qqtjesDKmdND+eKy7scWI75VTI/120Tq\n",
       "tQjNFETHi90DnDvloK6pv6O/LArzFY4KVebBAAAAKUGfDkUVLCP/ABpjZSAD+d31IL1yCplPok2D\n",
       "yUWTSdDxfd1j+r7GuCLgAAAAHwGfLXRH/wApfbmJ40x9/RyQZfzZkL8q9EW+4w6Oh2cAAAArAZ8v\n",
       "akf/ACoJmSV0ANh9Jt2nJjkf+TqTo0ISEHvWRxTp5eciluW8PwZdQQAAAGFBmzRJqEFsmUwIZ//+\n",
       "nhAAT2jmHACMDcRQUVAokCnvOGVwkcFVVfV5c+tjySJVeTSy8usdRQkPKWr2I//4WtNWcdIy6Ocs\n",
       "tvGdKOiwBg0haVge4kVoAWouJMgJ9uuXqKKgAAAAGUGfUkUVLCP/ABnJknOAvgNRKx+UZEosa6YA\n",
       "AAAUAZ9xdEf/ABUHTlHROHPODNCSYpkAAAAdAZ9zakf/ACkW4oARgIq4W8O6nDaSoQ6fO8CVN40A\n",
       "AAAtQZt4SahBbJlMCGf//p4QAE9nBUWAHF/cQw8O/0nSb44XgCvRqy6CHvYVk4KTAAAAHUGflkUV\n",
       "LCP/ABnZdwAK/zuCBmAt+LofyDMRmm1yAAAAFwGftXRH/wApFuKADhw01uNBp9AluyV0AAAADQGf\n",
       "t2pH/wAA3/ueFBkAAAA1QZu8SahBbJlMCF///oywAFAy7tgCmZRfjG/lhNHADToxjcNPQ4p9Gguc\n",
       "X88Scf1Cnt35BZQAAAAjQZ/aRRUsI/8AGcoFcABxYSDk45+Yp6JKH92xi6i6uKY0hoAAAAAQAZ/5\n",
       "dEf/AADf+53OtuHjbQAAABsBn/tqR/8AKRbigAs4XUQ5+X59AlutyBfCioAAAABIQZvgSahBbJlM\n",
       "CF///oywAFJx22AIe3I0Nu1UzMqzaUEPOaake4Mekp/3FxlnDPdPB7jUzsAgAOZn4DpDvLmna3ZW\n",
       "GBWhRrrRAAAAGkGeHkUVLCP/ABp294AWYnXLXtWkX2Rvfc2xAAAAEQGePXRH/wAqHjiRIvA1TRMG\n",
       "AAAAEgGeP2pH/wApeW7zeW2mWwAFmQAAAD1BmiRJqEFsmUwIX//+jLAAUnKdAAjIWsTYQV49CO+p\n",
       "J+bF5632i/5oBQMhWeLQrPVr8rr4JphsSJUx0DugAAAAHUGeQkUVLCP/ABpjZSAEh7GnXhNvED9m\n",
       "+F/9XzbBAAAAGQGeYXRH/wAqMxwAHtzDW1Nse56wlvtmiTEAAAAOAZ5jakf/AADf+52Mr8wAAAA3\n",
       "QZplSahBbJlMCGf//p4QAFGydGAImN/tu/jRMADIiu0Mjirw4UPeQn29W2L54RzU2gnkBZVX4AAA\n",
       "AD5BmolJ4QpSZTAhn/6eEABRscgAAi8lVYDZBeEOuKQHFA2uUgIvGeWWcmLjC9unyv/59Z/orkNG\n",
       "s49hnZoccQAAACJBnqdFNEwj/wANMAN5YAAKd6eI/mDnhe4NHE6fStpfq+bYAAAAEQGexnRH/wAU\n",
       "9u0ihtLf3yg5AAAAFgGeyGpH/wAVHOMADf6sppTSC3rF2aAAAABAQZrNSahBaJlMCGf//p4QAFGx\n",
       "uOAIkNw87hC/pHjUWy73VLW4LXvnG7AABoWYVD6WAR9OqN5dH1fBX1tV+foUkQAAABlBnutFESwj\n",
       "/wAadveAFsXv1hLLiL629fTzAAAAEAGfCnRH/wAVAXKOtYsn42cAAAAOAZ8Makf/AADf+52Mr80A\n",
       "AAAoQZsRSahBbJlMCGf//p4QAFGx2lADjpEvQ2FMiAGBcPDJygfC08mCpgAAAA9Bny9FFSwj/wAA\n",
       "jSiokVwAAAAPAZ9OdEf/ACoRrj28Rm2BAAAADAGfUGpH/wAA4sABmwAAACRBm1VJqEFsmUwIZ//+\n",
       "nhAAKNm94AQPnBadPZhfDPdrBfKIMWAAAAAPQZ9zRRUsI/8AAI8VAFbBAAAADAGfknRH/wAA4kUy\n",
       "gwAAAA4Bn5RqR/8AFQzWa7CI5wAAADdBm5lJqEFsmUwIZ//+nhAAUbJ0YAh6FtlO1Irhh86CQuXN\n",
       "lUdHakMGWR7Q5cvEeKfjxxCCnBQQAAAAEUGft0UVLCP/ABppkBH+v45wAAAADAGf1nRH/wAA4kUy\n",
       "gwAAAA4Bn9hqR/8AKhmse7CI5wAAAElBm91JqEFsmUwIZ//+nhAAUbK+OAKZppwiEysUz8H+3rfz\n",
       "XC1SbUxrzmXo5tQAhJgKHYB7OlIK1ny4g9wugGj0xR4cJS4sLBxwAAAAGUGf+0UVLCP/ABpj4iAB\n",
       "xYR0kFnRoj/XEA0AAAAVAZ4adEf/ACoDpAAJQTW9XlvbKAQNAAAADwGeHGpH/wAqGax6lNtDbQAA\n",
       "AE1BmgFJqEFsmUwIZ//+nhAAUbK+OAOUUT9jqP7oFTIlUZfaRGe85XG1FpJMizhO8HI6hWNePjqN\n",
       "NXbYaMFI4MBuZckbwoS0bLr7U4kCLwAAABJBnj9FFSwj/wAaYpvJVDTowS0AAAAMAZ5edEf/AADi\n",
       "RTKDAAAAEQGeQGpH/wAU91dCp3M0X5XQAAAAWkGaRUmoQWyZTAhn//6eEABT8bjgCtUuFdZ9skdP\n",
       "KQL8ute8vVTHejRk+QZleNo9nPOI5ZKAc3mIJ2oMIE5y0XTSjL5EGZ1dUgA4NvxV3GBQRQ0g/5nM\n",
       "62cIuQAAABxBnmNFFSwj/wAbFveAEJq6urtvrZtV14j3cVmBAAAAFAGegnRH/wArPnmp+tdTveQb\n",
       "b4SAAAAAEQGehGpH/wArKgiD2hp1UakwAAAAOEGaiUmoQWyZTAhn//6eEABT8nRgCqySoBrTk8dP\n",
       "E6UJ08LDe0qrKpHfSc9Tm7v9zsBVPnW3Pgi5AAAAD0Gep0UVLCP/AACNKKiRXAAAAA4BnsZ0R/8A\n",
       "KyLktSddXQAAAAwBnshqR/8AAOLAAZsAAAAqQZrNSahBbJlMCGf//p4QAFPyxpQBD57sjo3y1Hmh\n",
       "otycSEwfyAzSmcE3AAAAD0Ge60UVLCP/AACPFQBWwQAAAA4Bnwp0R/8AKyLktSddXQAAAA4Bnwxq\n",
       "R/8AKyoA8uUdXQAAABNBmxFJqEFsmUwIZ//+nhAAAAdMAAAAD0GfL0UVLCP/AACPFQBWwAAAAAwB\n",
       "n050R/8AAOJFMoMAAAAMAZ9Qakf/AADiwAGbAAAAE0GbVUmoQWyZTAhn//6eEAAAB0wAAAAPQZ9z\n",
       "RRUsI/8AAI8VAFbBAAAADAGfknRH/wAA4kUygwAAAAwBn5RqR/8AAOLAAZsAAAATQZuZSahBbJlM\n",
       "CGf//p4QAAAHTAAAAA9Bn7dFFSwj/wAAjxUAVsAAAAAMAZ/WdEf/AADiRTKDAAAADAGf2GpH/wAA\n",
       "4sABmwAAADRBm91JqEFsmUwIZ//+nhAAU/G44ArfcQO2RvlWlSrXZx9UDmp0Q2f5ZOdF2AIl+q8L\n",
       "KIGBAAAAEUGf+0UVLCP/ABsCnZqM/jnBAAAADgGeGnRH/wArPoy1IczbAAAADAGeHGpH/wAA4sAB\n",
       "mwAAACtBmgFJqEFsmUwIZ//+nhAAU/E9QBD0VtmREgV2U1LVzyTkl6+L8q1z4IuBAAAAEUGeP0UV\n",
       "LCP/ABpinZyM/jnAAAAADgGeXnRH/wAqAuS3p11dAAAADAGeQGpH/wAA4sABmwAAAB5BmkVJqEFs\n",
       "mUwIZ//+nhAAU/HaUARQAURrKLE4JuEAAAAPQZ5jRRUsI/8AAI8VAFbBAAAADAGegnRH/wAA4kUy\n",
       "gwAAAAwBnoRqR/8AAOLAAZsAAAAqQZqJSahBbJlMCGf//p4QAFPxyAACs2faN0tqHXXjex1iEQ95\n",
       "iy3VTgm5AAAAD0Gep0UVLCP/AACPFQBWwAAAAAwBnsZ0R/8AAOJFMoMAAAAMAZ7Iakf/AADiwAGb\n",
       "AAAANEGazUmoQWyZTAhn//6eEABUTJDKgALD64fWXZFibj3PbUlkXd+T26T7dAq4I0NQkkQiwb0A\n",
       "AAARQZ7rRRUsI/8AGwKdmoz+OcEAAAAPAZ8KdEf/ACqg+dbVrpthAAAADAGfDGpH/wAA4sABmwAA\n",
       "AENBmxFJqEFsmUwIZ//+nhAAU93ve/G1LgCO8lZpvP1TI7BybANE8Jbqomm6aIlQBzU4pU0H6MOl\n",
       "eoMcsWzbPMOuTgm4AAAAEUGfL0UVLCP/ABq1foivacV0AAAADgGfTnRH/wArIuS1J11dAAAAEAGf\n",
       "UGpH/wAqmdmQPL07NsAAAAAcQZtVSahBbJlMCF///oywAFSw+wA2eAlE4vIKmAAAAA9Bn3NFFSwj\n",
       "/wAAjxUAVsEAAAAMAZ+SdEf/AADiRTKDAAAADAGflGpH/wAA4sABmwAAABNBm5lJqEFsmUwIX//+\n",
       "jLAAAAdUAAAAD0Gft0UVLCP/AACPFQBWwAAAAAwBn9Z0R/8AAOJFMoMAAAAMAZ/Yakf/AADiwAGb\n",
       "AAAAKUGb3UmoQWyZTAhf//6MsABSdfEGAFh0YGA1xzGn+6n3BnjyhDrzMIuAAAAAEUGf+0UVLCP/\n",
       "ABppkBH+v45xAAAADAGeGnRH/wAA4kUygwAAAAwBnhxqR/8AAOLAAZsAAAApQZoeSahBbJlMCGf/\n",
       "/p4QAFG1AqAAcb1xq43NMtHlMn10HATMhTCiBi0AAAA/QZoiSeEKUmUwIZ/+nhAAUbVVOADi7gCd\n",
       "g1MiFXzVnvhxzSNHIouCLm94EQDFh55I8M6FTu/ZsPgTTYMXacFBAAAAHUGeQEU0TCP/ABoPQnu2\n",
       "KAE0x3rNdV3wpvmyVhXRAAAAEgGef3RH/wBUPQYIjHvUOgLBLQAAABgBnmFqR/8AVEgeJeZAAIZ7\n",
       "czr0fkHuS0EAAAAlQZpmSahBaJlMCF///oywAFJz1/QA21rMfC0SgKkJdkiJI/kFbQAAABFBnoRF\n",
       "ESwj/wAaYp2bl1NDbAAAAAwBnqN0R/8AAOJFMoMAAAAMAZ6lakf/AADiwAGbAAAAOkGaqkmoQWyZ\n",
       "TAhf//6MsABSdaSAAODrWNoqbPAdcawYMLaw0kh8z4Ug1mag0aSX74fOn/uNQohgz4AAAAAaQZ7I\n",
       "RRUsI/8AGkciEAACWqUGYCa0R/g3gaEAAAANAZ7ndEf/AADf+54UGAAAABABnulqR/8AKXPeHltp\n",
       "luK7AAAANUGa7kmoQWyZTAhf//6MsABUs7VgAuJ0LKMPoveyiR88LAfHdPtQSAKJ7DRzWf3/FA+f\n",
       "aMK/AAAAGkGfDEUVLCP/ABplCkwAsaA65EkZN1N6vm2BAAAAGQGfK3RH/wAqBhPYAJmr7+pYjC2x\n",
       "91jYLZkAAAAQAZ8takf/ACsqAPDcFhqcmAAAADFBmzJJqEFsmUwIV//+OEABRkYJ7xsIASLqsuDV\n",
       "nNaGPiNtPbP3rr0XPmJmaU/bPAkYAAAAFUGfUEUVLCP/ADYTFvIoddehz5ldxwAAAA4Bn290R/8A\n",
       "KgLkt6ddXQAAAA4Bn3FqR/8AVnNYmXCI5wAAACFBm3VJqEFsmUwI//yEABLTsdiAAmBQ/oHkxeyj\n",
       "IBkrCkkAAAAWQZ+UQj//AFaIJso+iIAPL6ZOwG7KgQAAAA0Bn7NpEf8AAOL3uM2BAAAV4m1vb3YA\n",
       "AABsbXZoZAAAAAAAAAAAAAAAAAAAA+gAAB9AAAEAAAEAAAAAAAAAAAAAAAABAAAAAAAAAAAAAAAA\n",
       "AAAAAQAAAAAAAAAAAAAAAAAAQAAAAAAAAAAAAAAAAAAAAAAAAAAAAAAAAAAAAAAAAAIAABUMdHJh\n",
       "awAAAFx0a2hkAAAAAwAAAAAAAAAAAAAAAQAAAAAAAB9AAAAAAAAAAAAAAAAAAAAAAAABAAAAAAAA\n",
       "AAAAAAAAAAAAAQAAAAAAAAAAAAAAAAAAQAAAAAGwAAABIAAAAAAAJGVkdHMAAAAcZWxzdAAAAAAA\n",
       "AAABAAAfQAAAAgAAAQAAAAAUhG1kaWEAAAAgbWRoZAAAAAAAAAAAAAAAAAAAMgAAAZAAVcQAAAAA\n",
       "AC1oZGxyAAAAAAAAAAB2aWRlAAAAAAAAAAAAAAAAVmlkZW9IYW5kbGVyAAAAFC9taW5mAAAAFHZt\n",
       "aGQAAAABAAAAAAAAAAAAAAAkZGluZgAAABxkcmVmAAAAAAAAAAEAAAAMdXJsIAAAAAEAABPvc3Ri\n",
       "bAAAALNzdHNkAAAAAAAAAAEAAACjYXZjMQAAAAAAAAABAAAAAAAAAAAAAAAAAAAAAAGwASAASAAA\n",
       "AEgAAAAAAAAAAQAAAAAAAAAAAAAAAAAAAAAAAAAAAAAAAAAAAAAAAAAAABj//wAAADFhdmNDAWQA\n",
       "Hv/hABhnZAAerNlBsJaEAAADAAQAAAMBkDxYtlgBAAZo6+PLIsAAAAAcdXVpZGtoQPJfJE/Fujml\n",
       "G88DI/MAAAAAAAAAGHN0dHMAAAAAAAAAAQAAAZAAAAEAAAAAGHN0c3MAAAAAAAAAAgAAAAEAAAD7\n",
       "AAAMgGN0dHMAAAAAAAABjgAAAAEAAAIAAAAAAQAABQAAAAABAAACAAAAAAEAAAAAAAAAAQAAAQAA\n",
       "AAACAAACAAAAAAEAAAUAAAAAAQAAAgAAAAABAAAAAAAAAAEAAAEAAAAAAQAABQAAAAABAAACAAAA\n",
       "AAEAAAAAAAAAAQAAAQAAAAABAAAFAAAAAAEAAAIAAAAAAQAAAAAAAAABAAABAAAAAAEAAAUAAAAA\n",
       "AQAAAgAAAAABAAAAAAAAAAEAAAEAAAAAAQAABQAAAAABAAACAAAAAAEAAAAAAAAAAQAAAQAAAAAB\n",
       "AAAFAAAAAAEAAAIAAAAAAQAAAAAAAAABAAABAAAAAAEAAAIAAAAAAQAABQAAAAABAAACAAAAAAEA\n",
       "AAAAAAAAAQAAAQAAAAABAAAFAAAAAAEAAAIAAAAAAQAAAAAAAAABAAABAAAAAAEAAAUAAAAAAQAA\n",
       "AgAAAAABAAAAAAAAAAEAAAEAAAAAAQAABQAAAAABAAACAAAAAAEAAAAAAAAAAQAAAQAAAAABAAAF\n",
       "AAAAAAEAAAIAAAAAAQAAAAAAAAABAAABAAAAAAEAAAUAAAAAAQAAAgAAAAABAAAAAAAAAAEAAAEA\n",
       "AAAAAQAABQAAAAABAAACAAAAAAEAAAAAAAAAAQAAAQAAAAABAAAFAAAAAAEAAAIAAAAAAQAAAAAA\n",
       "AAABAAABAAAAAAEAAAUAAAAAAQAAAgAAAAABAAAAAAAAAAEAAAEAAAAAAQAABQAAAAABAAACAAAA\n",
       "AAEAAAAAAAAAAQAAAQAAAAABAAAFAAAAAAEAAAIAAAAAAQAAAAAAAAABAAABAAAAAAEAAAUAAAAA\n",
       "AQAAAgAAAAABAAAAAAAAAAEAAAEAAAAAAQAABQAAAAABAAACAAAAAAEAAAAAAAAAAQAAAQAAAAAB\n",
       "AAACAAAAAAEAAAUAAAAAAQAAAgAAAAABAAAAAAAAAAEAAAEAAAAAAgAAAgAAAAABAAAFAAAAAAEA\n",
       "AAIAAAAAAQAAAAAAAAABAAABAAAAAAEAAAUAAAAAAQAAAgAAAAABAAAAAAAAAAEAAAEAAAAAAQAA\n",
       "BQAAAAABAAACAAAAAAEAAAAAAAAAAQAAAQAAAAABAAAFAAAAAAEAAAIAAAAAAQAAAAAAAAABAAAB\n",
       "AAAAAAEAAAUAAAAAAQAAAgAAAAABAAAAAAAAAAEAAAEAAAAAAQAAAgAAAAABAAAFAAAAAAEAAAIA\n",
       "AAAAAQAAAAAAAAABAAABAAAAAAEAAAIAAAAAAQAABQAAAAABAAACAAAAAAEAAAAAAAAAAQAAAQAA\n",
       "AAABAAAFAAAAAAEAAAIAAAAAAQAAAAAAAAABAAABAAAAAAEAAAUAAAAAAQAAAgAAAAABAAAAAAAA\n",
       "AAEAAAEAAAAAAQAABQAAAAABAAACAAAAAAEAAAAAAAAAAQAAAQAAAAABAAAFAAAAAAEAAAIAAAAA\n",
       "AQAAAAAAAAABAAABAAAAAAEAAAUAAAAAAQAAAgAAAAABAAAAAAAAAAEAAAEAAAAAAQAABQAAAAAB\n",
       "AAACAAAAAAEAAAAAAAAAAQAAAQAAAAABAAAFAAAAAAEAAAIAAAAAAQAAAAAAAAABAAABAAAAAAEA\n",
       "AAUAAAAAAQAAAgAAAAABAAAAAAAAAAEAAAEAAAAAAQAABQAAAAABAAACAAAAAAEAAAAAAAAAAQAA\n",
       "AQAAAAABAAAFAAAAAAEAAAIAAAAAAQAAAAAAAAABAAABAAAAAAEAAAUAAAAAAQAAAgAAAAABAAAA\n",
       "AAAAAAEAAAEAAAAAAQAABQAAAAABAAACAAAAAAEAAAAAAAAAAQAAAQAAAAABAAAFAAAAAAEAAAIA\n",
       "AAAAAQAAAAAAAAABAAABAAAAAAEAAAIAAAAAAQAABQAAAAABAAACAAAAAAEAAAAAAAAAAQAAAQAA\n",
       "AAABAAAFAAAAAAEAAAIAAAAAAQAAAAAAAAABAAABAAAAAAEAAAUAAAAAAQAAAgAAAAABAAAAAAAA\n",
       "AAEAAAEAAAAAAQAABQAAAAABAAACAAAAAAEAAAAAAAAAAQAAAQAAAAABAAAFAAAAAAEAAAIAAAAA\n",
       "AQAAAAAAAAABAAABAAAAAAEAAAUAAAAAAQAAAgAAAAABAAAAAAAAAAEAAAEAAAAAAQAABQAAAAAB\n",
       "AAACAAAAAAEAAAAAAAAAAQAAAQAAAAABAAAFAAAAAAEAAAIAAAAAAQAAAAAAAAABAAABAAAAAAEA\n",
       "AAUAAAAAAQAAAgAAAAABAAAAAAAAAAEAAAEAAAAAAQAABQAAAAABAAACAAAAAAEAAAAAAAAAAQAA\n",
       "AQAAAAABAAACAAAAAAEAAAUAAAAAAQAAAgAAAAABAAAAAAAAAAEAAAEAAAAAAQAABQAAAAABAAAC\n",
       "AAAAAAEAAAAAAAAAAQAAAQAAAAABAAAFAAAAAAEAAAIAAAAAAQAAAAAAAAABAAABAAAAAAEAAAUA\n",
       "AAAAAQAAAgAAAAABAAAAAAAAAAEAAAEAAAAAAQAABQAAAAABAAACAAAAAAEAAAAAAAAAAQAAAQAA\n",
       "AAABAAAFAAAAAAEAAAIAAAAAAQAAAAAAAAABAAABAAAAAAEAAAUAAAAAAQAAAgAAAAABAAAAAAAA\n",
       "AAEAAAEAAAAAAQAABQAAAAABAAACAAAAAAEAAAAAAAAAAQAAAQAAAAABAAAEAAAAAAEAAAIAAAAA\n",
       "AQAAAAAAAAABAAACAAAAAAEAAAUAAAAAAQAAAgAAAAABAAAAAAAAAAEAAAEAAAAAAQAABQAAAAAB\n",
       "AAACAAAAAAEAAAAAAAAAAQAAAQAAAAABAAAFAAAAAAEAAAIAAAAAAQAAAAAAAAABAAABAAAAAAEA\n",
       "AAUAAAAAAQAAAgAAAAABAAAAAAAAAAEAAAEAAAAAAQAABQAAAAABAAACAAAAAAEAAAAAAAAAAQAA\n",
       "AQAAAAABAAAFAAAAAAEAAAIAAAAAAQAAAAAAAAABAAABAAAAAAEAAAUAAAAAAQAAAgAAAAABAAAA\n",
       "AAAAAAEAAAEAAAAAAQAABQAAAAABAAACAAAAAAEAAAAAAAAAAQAAAQAAAAABAAAFAAAAAAEAAAIA\n",
       "AAAAAQAAAAAAAAABAAABAAAAAAEAAAIAAAAAAQAABQAAAAABAAACAAAAAAEAAAAAAAAAAQAAAQAA\n",
       "AAABAAAFAAAAAAEAAAIAAAAAAQAAAAAAAAABAAABAAAAAAEAAAUAAAAAAQAAAgAAAAABAAAAAAAA\n",
       "AAEAAAEAAAAAAQAABQAAAAABAAACAAAAAAEAAAAAAAAAAQAAAQAAAAABAAAFAAAAAAEAAAIAAAAA\n",
       "AQAAAAAAAAABAAABAAAAAAEAAAUAAAAAAQAAAgAAAAABAAAAAAAAAAEAAAEAAAAAAQAABQAAAAAB\n",
       "AAACAAAAAAEAAAAAAAAAAQAAAQAAAAABAAAFAAAAAAEAAAIAAAAAAQAAAAAAAAABAAABAAAAAAEA\n",
       "AAUAAAAAAQAAAgAAAAABAAAAAAAAAAEAAAEAAAAAAQAABQAAAAABAAACAAAAAAEAAAAAAAAAAQAA\n",
       "AQAAAAABAAAFAAAAAAEAAAIAAAAAAQAAAAAAAAABAAABAAAAAAEAAAUAAAAAAQAAAgAAAAABAAAA\n",
       "AAAAAAEAAAEAAAAAAQAABQAAAAABAAACAAAAAAEAAAAAAAAAAQAAAQAAAAABAAAFAAAAAAEAAAIA\n",
       "AAAAAQAAAAAAAAABAAABAAAAAAEAAAUAAAAAAQAAAgAAAAABAAAAAAAAAAEAAAEAAAAAAQAABQAA\n",
       "AAABAAACAAAAAAEAAAAAAAAAAQAAAQAAAAABAAAFAAAAAAEAAAIAAAAAAQAAAAAAAAABAAABAAAA\n",
       "AAEAAAUAAAAAAQAAAgAAAAABAAAAAAAAAAEAAAEAAAAAAQAABQAAAAABAAACAAAAAAEAAAAAAAAA\n",
       "AQAAAQAAAAABAAAFAAAAAAEAAAIAAAAAAQAAAAAAAAABAAABAAAAAAEAAAUAAAAAAQAAAgAAAAAB\n",
       "AAAAAAAAAAEAAAEAAAAAAQAABQAAAAABAAACAAAAAAEAAAAAAAAAAQAAAQAAAAABAAACAAAAAAEA\n",
       "AAUAAAAAAQAAAgAAAAABAAAAAAAAAAEAAAEAAAAAAQAABQAAAAABAAACAAAAAAEAAAAAAAAAAQAA\n",
       "AQAAAAABAAAFAAAAAAEAAAIAAAAAAQAAAAAAAAABAAABAAAAAAEAAAUAAAAAAQAAAgAAAAABAAAA\n",
       "AAAAAAEAAAEAAAAAAQAABQAAAAABAAACAAAAAAEAAAAAAAAAAQAAAQAAAAABAAAEAAAAAAEAAAIA\n",
       "AAAAAQAAAAAAAAAcc3RzYwAAAAAAAAABAAAAAQAAAZAAAAABAAAGVHN0c3oAAAAAAAAAAAAAAZAA\n",
       "ADUKAAAC9QAAAGAAAABTAAAANgAAAHwAAABOAAAAsAAAADgAAAAkAAAAGQAAAJ8AAAAoAAAAIgAA\n",
       "ACQAAABsAAAAKAAAACIAAAAZAAAAWgAAAC8AAAAgAAAAGgAAAEEAAAAmAAAAFwAAACIAAACTAAAA\n",
       "MQAAACoAAAAqAAAASQAAAHwAAAA0AAAAGAAAACEAAABcAAAAMQAAAB0AAAAUAAAAWgAAADAAAAAg\n",
       "AAAAGAAAAEYAAAAtAAAAGQAAABQAAAAyAAAALQAAABkAAAAUAAAATgAAADIAAAAdAAAAHQAAAEEA\n",
       "AAAwAAAAFAAAAB0AAABMAAAALgAAABYAAAAWAAAASQAAAC8AAAAaAAAAIAAAAF4AAAAmAAAAIAAA\n",
       "ABcAAABsAAAAKAAAACUAAAAYAAAAYAAAACwAAAAhAAAAHwAAAEAAAAAyAAAAIQAAAB4AAAA5AAAA\n",
       "VwAAAC8AAAAgAAAAGgAAAD4AAAAmAAAANgAAACkAAAAYAAAAGAAAADUAAAArAAAAGAAAABYAAABN\n",
       "AAAAKAAAABYAAAAZAAAARAAAACsAAAAeAAAAFAAAADsAAAAsAAAAFwAAABcAAABDAAAAPgAAADAA\n",
       "AAAZAAAAGAAAAD0AAABPAAAANAAAACAAAAAXAAAATwAAACwAAAAUAAAAFgAAAD0AAAAtAAAAGAAA\n",
       "ABgAAABJAAAALwAAACIAAAAXAAAATAAAADUAAAAYAAAAHAAAAFcAAAAvAAAAHgAAAB4AAAA0AAAA\n",
       "JAAAABgAAAAUAAAAOgAAACQAAAAYAAAAFAAAADAAAAAkAAAAFAAAABQAAAAmAAAAIgAAABQAAAAU\n",
       "AAAAPQAAACQAAAAUAAAAFAAAAFgAAAAlAAAAFAAAABYAAAA6AAAAJAAAABgAAAAUAAAAKgAAACQA\n",
       "AAAUAAAAFAAAADMAAABhAAAALgAAACIAAAAXAAAARAAAAC0AAAAYAAAAGAAAAD0AAAAkAAAAFAAA\n",
       "AB4AAABkAAAALwAAABcAAAAeAAAARAAAADEAAAAcAAAAIAAAAGcAAAAvAAAAGAAAABQAAABVAAAA\n",
       "LwAAACAAAAAUAAAAKAAAACIAAAAYAAAAFAAAAEMAAAAiAAAAGAAAABYAAABHAAAAJAAAABQAAAAf\n",
       "AAAANAAAAFIAAAAvAAAAGQAAAB4AAAA0AAAAJAAAABgAAAAWAAAAIgAAACQAAAAUAAAAFAAAAGQA\n",
       "AAAsAAAAHwAAABkAAAA+AAAALwAAAB4AAAAWAAAASQAAAC4AAAAUAAAAFgAAADsAAAArAAAAFAAA\n",
       "ABQAAAA7AAAAJAAAABgAAAAdAAAAIgAAACIAAAAUAABBGAAAAY8AAAA0AAAAKwAAAB4AAAA3AAAA\n",
       "IAAAABwAAAAaAAAAfAAAACEAAAAbAAAALAAAAIgAAAAtAAAAIwAAAC8AAABlAAAAHQAAABgAAAAh\n",
       "AAAAMQAAACEAAAAbAAAAEQAAADkAAAAnAAAAFAAAAB8AAABMAAAAHgAAABUAAAAWAAAAQQAAACEA\n",
       "AAAdAAAAEgAAADsAAABCAAAAJgAAABUAAAAaAAAARAAAAB0AAAAUAAAAEgAAACwAAAATAAAAEwAA\n",
       "ABAAAAAoAAAAEwAAABAAAAASAAAAOwAAABUAAAAQAAAAEgAAAE0AAAAdAAAAGQAAABMAAABRAAAA\n",
       "FgAAABAAAAAVAAAAXgAAACAAAAAYAAAAFQAAADwAAAATAAAAEgAAABAAAAAuAAAAEwAAABIAAAAS\n",
       "AAAAFwAAABMAAAAQAAAAEAAAABcAAAATAAAAEAAAABAAAAAXAAAAEwAAABAAAAAQAAAAOAAAABUA\n",
       "AAASAAAAEAAAAC8AAAAVAAAAEgAAABAAAAAiAAAAEwAAABAAAAAQAAAALgAAABMAAAAQAAAAEAAA\n",
       "ADgAAAAVAAAAEwAAABAAAABHAAAAFQAAABIAAAAUAAAAIAAAABMAAAAQAAAAEAAAABcAAAATAAAA\n",
       "EAAAABAAAAAtAAAAFQAAABAAAAAQAAAALQAAAEMAAAAhAAAAFgAAABwAAAApAAAAFQAAABAAAAAQ\n",
       "AAAAPgAAAB4AAAARAAAAFAAAADkAAAAeAAAAHQAAABQAAAA1AAAAGQAAABIAAAASAAAAJQAAABoA\n",
       "AAARAAAAFHN0Y28AAAAAAAAAAQAAACwAAABidWR0YQAAAFptZXRhAAAAAAAAACFoZGxyAAAAAAAA\n",
       "AABtZGlyYXBwbAAAAAAAAAAAAAAAAC1pbHN0AAAAJal0b28AAAAdZGF0YQAAAAEAAAAATGF2ZjU3\n",
       "LjU2LjEwMQ==\n",
       "\">\n",
       "  Your browser does not support the video tag.\n",
       "</video>"
      ]
     },
     "metadata": {},
     "output_type": "display_data"
    }
   ],
   "source": [
    "try:\n",
    "    display_html(HTML(anim.to_html5_video()))\n",
    "# In case the build-in renderers are unaviable, fall back to\n",
    "# a custom one, that doesn't require external libraries\n",
    "except RuntimeError:\n",
    "    anim.save(None, writer=matplotlib_utils.SimpleMovieWriter(0.001))"
   ]
  },
  {
   "cell_type": "markdown",
   "metadata": {},
   "source": [
    "# Logistic regression\n",
    "Your assignment is to implement the logistic regression\n",
    "\n",
    "Plan:\n",
    "* Use a shared variable for weights\n",
    "* Use a matrix placeholder for `X`\n",
    " \n",
    "We shall train on a two-class MNIST dataset\n",
    "* please note that target `y` are `{0,1}` and not `{-1,1}` as in some formulae"
   ]
  },
  {
   "cell_type": "code",
   "execution_count": 30,
   "metadata": {},
   "outputs": [
    {
     "name": "stdout",
     "output_type": "stream",
     "text": [
      "y [shape - (360,)]: [0 1 0 1 0 1 0 0 1 1]\n",
      "X [shape - (360, 64)]:\n"
     ]
    }
   ],
   "source": [
    "from sklearn.datasets import load_digits\n",
    "mnist = load_digits(2)\n",
    "\n",
    "X, y = mnist.data, mnist.target\n",
    "\n",
    "print(\"y [shape - %s]:\" % (str(y.shape)), y[:10])\n",
    "print(\"X [shape - %s]:\" % (str(X.shape)))"
   ]
  },
  {
   "cell_type": "code",
   "execution_count": 31,
   "metadata": {},
   "outputs": [
    {
     "name": "stdout",
     "output_type": "stream",
     "text": [
      "X:\n",
      " [[  0.   0.   5.  13.   9.   1.   0.   0.   0.   0.]\n",
      " [  0.   0.   0.  12.  13.   5.   0.   0.   0.   0.]\n",
      " [  0.   0.   1.   9.  15.  11.   0.   0.   0.   0.]]\n",
      "y:\n",
      " [0 1 0 1 0 1 0 0 1 1]\n"
     ]
    },
    {
     "data": {
      "image/png": "[encoded data removed]",
      "text/plain": [
       "<matplotlib.figure.Figure at 0x7f7f59ef1390>"
      ]
     },
     "metadata": {},
     "output_type": "display_data"
    }
   ],
   "source": [
    "print('X:\\n',X[:3,:10])\n",
    "print('y:\\n',y[:10])\n",
    "plt.imshow(X[0].reshape([8,8]));"
   ]
  },
  {
   "cell_type": "markdown",
   "metadata": {},
   "source": [
    "It's your turn now!\n",
    "Just a small reminder of the relevant math:\n",
    "\n",
    "$$\n",
    "P(y=1|X) = \\sigma(X \\cdot W + b)\n",
    "$$\n",
    "$$\n",
    "\\text{loss} = -\\log\\left(P\\left(y_\\text{predicted} = 1\\right)\\right)\\cdot y_\\text{true} - \\log\\left(1 - P\\left(y_\\text{predicted} = 1\\right)\\right)\\cdot\\left(1 - y_\\text{true}\\right)\n",
    "$$\n",
    "\n",
    "$\\sigma(x)$ is available via `tf.nn.sigmoid` and matrix multiplication via `tf.matmul`"
   ]
  },
  {
   "cell_type": "code",
   "execution_count": 32,
   "metadata": {},
   "outputs": [],
   "source": [
    "from sklearn.model_selection import train_test_split\n",
    "X_train, X_test, y_train, y_test = train_test_split(X, y, random_state=42)"
   ]
  },
  {
   "cell_type": "code",
   "execution_count": 33,
   "metadata": {},
   "outputs": [
    {
     "data": {
      "text/plain": [
       "array([1, 0, 1, 0, 1, 1, 0, 0, 1, 0, 0, 0, 1, 0, 0, 1, 1, 0, 1, 1, 0, 1, 1,\n",
       "       1, 1, 0, 1, 1, 0, 1, 1, 1, 0, 0, 0, 1, 1, 1, 1, 0, 0, 0, 0, 0, 1, 0,\n",
       "       1, 0, 1, 1, 1, 1, 0, 0, 0, 1, 0, 1, 1, 1, 0, 1, 0, 0, 0, 0, 1, 1, 0,\n",
       "       0, 0, 0, 0, 1, 0, 1, 1, 1, 1, 1, 0, 1, 1, 0, 0, 1, 0, 0, 0, 1, 0, 1,\n",
       "       0, 0, 1, 1, 1, 0, 1, 1, 1, 1, 1, 1, 0, 0, 0, 1, 0, 1, 0, 1, 1, 1, 0,\n",
       "       1, 1, 1, 1, 0, 1, 0, 1, 1, 1, 0, 1, 0, 1, 0, 0, 1, 1, 1, 0, 1, 0, 1,\n",
       "       0, 1, 0, 0, 1, 1, 0, 0, 0, 1, 1, 0, 1, 0, 0, 0, 1, 0, 0, 1, 0, 0, 0,\n",
       "       0, 0, 1, 1, 1, 1, 1, 1, 1, 0, 1, 0, 1, 1, 0, 1, 0, 1, 0, 0, 1, 0, 0,\n",
       "       1, 0, 1, 1, 1, 0, 1, 0, 1, 0, 1, 0, 1, 0, 1, 0, 0, 1, 1, 0, 1, 0, 1,\n",
       "       1, 0, 0, 1, 0, 1, 1, 1, 0, 0, 0, 1, 0, 1, 0, 0, 0, 1, 0, 0, 0, 0, 1,\n",
       "       0, 0, 0, 0, 0, 0, 1, 1, 1, 0, 0, 1, 0, 1, 0, 1, 1, 0, 0, 1, 0, 0, 0,\n",
       "       0, 1, 0, 1, 1, 1, 1, 1, 0, 0, 1, 0, 1, 0, 1, 1, 1])"
      ]
     },
     "execution_count": 33,
     "metadata": {},
     "output_type": "execute_result"
    }
   ],
   "source": [
    "y_train"
   ]
  },
  {
   "cell_type": "markdown",
   "metadata": {},
   "source": [
    "__Your code goes here.__ For the training and testing scaffolding to work, please stick to the names in comments."
   ]
  },
  {
   "cell_type": "code",
   "execution_count": 34,
   "metadata": {},
   "outputs": [],
   "source": [
    "# Model parameters - weights and bias\n",
    "\n",
    "#have to use tf function for initialization, because numpy does not priovide option for float32\n",
    "weights = tf.Variable(tf.random_normal(shape=(X.shape[1],1), stddev=0.01, dtype=tf.float32))\n",
    "\n",
    "#unlike weights, the bias can simply be initialized as 0\n",
    "b = tf.Variable(0.0, dtype=tf.float32, name=\"bias\")"
   ]
  },
  {
   "cell_type": "code",
   "execution_count": 35,
   "metadata": {},
   "outputs": [],
   "source": [
    "# Placeholders for the input data\n",
    "input_X = tf.placeholder('float32', [None,None])\n",
    "input_y = tf.placeholder('float32', [None])"
   ]
  },
  {
   "cell_type": "code",
   "execution_count": 36,
   "metadata": {},
   "outputs": [],
   "source": [
    "# The model code\n",
    "\n",
    "# Compute a vector of predictions, resulting shape should be [input_X.shape[0],]\n",
    "# This is 1D, if you have extra dimensions, you can  get rid of them with tf.squeeze .\n",
    "# Don't forget the sigmoid.\n",
    "predicted_y = tf.squeeze(tf.nn.sigmoid(tf.matmul(input_X,weights)+b ))\n",
    "\n",
    "# Loss. Should be a scalar number - average loss over all the objects\n",
    "# tf.reduce_mean is your friend here\n",
    "lossvec=-tf.log(predicted_y)*input_y-tf.log(1-predicted_y)*(1-input_y)\n",
    "loss = tf.reduce_mean(lossvec)\n",
    "\n",
    "# See above for an example. tf.train.*Optimizer\n",
    "# optimizer = <optimizer that minimizes loss>\n",
    "optimizer = tf.train.AdamOptimizer().minimize(loss)"
   ]
  },
  {
   "cell_type": "markdown",
   "metadata": {},
   "source": [
    "A test to help with the debugging"
   ]
  },
  {
   "cell_type": "code",
   "execution_count": 48,
   "metadata": {},
   "outputs": [],
   "source": [
    "validation_weights = 1e-3 * np.fromiter(map(lambda x:\n",
    "        s.run(weird_psychotic_function, {my_scalar:x, my_vector:[1, 0.1, 2]}),\n",
    "                                   0.15 * np.arange(1, X.shape[1] + 1)),\n",
    "                                   count=X.shape[1], dtype=np.float32)[:, np.newaxis]\n",
    "# Compute predictions for given weights and bias\n",
    "prediction_validation = s.run(\n",
    "    predicted_y, {\n",
    "    input_X: X,\n",
    "    weights: validation_weights,\n",
    "    b: 1e-1})\n",
    "\n",
    "# Load the reference values for the predictions\n",
    "validation_true_values = np.loadtxt(\"validation_predictons.txt\")\n",
    "\n",
    "assert prediction_validation.shape == (X.shape[0],),\\\n",
    "       \"Predictions must be a 1D array with length equal to the number \" \\\n",
    "       \"of examples in input_X\"\n",
    "assert np.allclose(validation_true_values, prediction_validation)\n",
    "loss_validation = s.run(\n",
    "        loss, {\n",
    "            input_X: X[:100],\n",
    "            input_y: y[-100:],\n",
    "            weights: validation_weights+1.21e-3,\n",
    "            b: -1e-1})\n",
    "assert np.allclose(loss_validation, 0.728689)"
   ]
  },
  {
   "cell_type": "code",
   "execution_count": 49,
   "metadata": {},
   "outputs": [
    {
     "name": "stdout",
     "output_type": "stream",
     "text": [
      "loss at iter 0:0.5381\n",
      "  train auc: 0.978425559947\n",
      "  test auc: 0.981719367589\n",
      "loss at iter 1:0.4957\n",
      "  train auc: 0.991600790514\n",
      "  test auc: 0.996541501976\n",
      "loss at iter 2:0.4565\n",
      "  train auc: 0.9963219148\n",
      "  test auc: 0.999011857708\n",
      "loss at iter 3:0.4203\n",
      "  train auc: 0.998023715415\n",
      "  test auc: 1.0\n",
      "loss at iter 4:0.3871\n",
      "  train auc: 0.998902064119\n",
      "  test auc: 1.0\n",
      "loss at iter 5:0.3567\n",
      "  train auc: 0.99945103206\n",
      "  test auc: 1.0\n",
      "loss at iter 6:0.3289\n",
      "  train auc: 0.999615722442\n",
      "  test auc: 1.0\n",
      "loss at iter 7:0.3036\n",
      "  train auc: 0.999780412824\n",
      "  test auc: 1.0\n",
      "loss at iter 8:0.2807\n",
      "  train auc: 0.999780412824\n",
      "  test auc: 1.0\n",
      "loss at iter 9:0.2599\n",
      "  train auc: 0.999890206412\n",
      "  test auc: 1.0\n",
      "loss at iter 10:0.2410\n",
      "  train auc: 0.999890206412\n",
      "  test auc: 1.0\n",
      "loss at iter 11:0.2239\n",
      "  train auc: 0.999890206412\n",
      "  test auc: 1.0\n",
      "loss at iter 12:0.2084\n",
      "  train auc: 0.999890206412\n",
      "  test auc: 1.0\n",
      "loss at iter 13:0.1944\n",
      "  train auc: 0.999890206412\n",
      "  test auc: 1.0\n",
      "loss at iter 14:0.1817\n",
      "  train auc: 0.999945103206\n",
      "  test auc: 1.0\n"
     ]
    }
   ],
   "source": [
    "from sklearn.metrics import roc_auc_score\n",
    "s.run(tf.global_variables_initializer())\n",
    "for i in range(15):\n",
    "    s.run(optimizer, {input_X: X_train, input_y: y_train})\n",
    "    loss_i = s.run(loss, {input_X: X_train, input_y: y_train})\n",
    "    print(\"loss at iter %i:%.4f\" % (i, loss_i))\n",
    "    print(\"  train auc:\", roc_auc_score(y_train, s.run(predicted_y, {input_X:X_train})))\n",
    "    print(\"  test auc:\", roc_auc_score(y_test, s.run(predicted_y, {input_X:X_test})))"
   ]
  },
  {
   "cell_type": "markdown",
   "metadata": {},
   "source": [
    "### Coursera submission"
   ]
  },
  {
   "cell_type": "code",
   "execution_count": 50,
   "metadata": {},
   "outputs": [],
   "source": [
    "grade_submitter = grading.Grader(\"BJCiiY8sEeeCnhKCj4fcOA\")"
   ]
  },
  {
   "cell_type": "code",
   "execution_count": 51,
   "metadata": {},
   "outputs": [],
   "source": [
    "test_weights = 1e-3 * np.fromiter(map(lambda x:\n",
    "    s.run(weird_psychotic_function, {my_scalar:x, my_vector:[1, 2, 3]}),\n",
    "                               0.1 * np.arange(1, X.shape[1] + 1)),\n",
    "                               count=X.shape[1], dtype=np.float32)[:, np.newaxis]"
   ]
  },
  {
   "cell_type": "markdown",
   "metadata": {},
   "source": [
    "First, test prediction and loss computation. This part doesn't require a fitted model."
   ]
  },
  {
   "cell_type": "code",
   "execution_count": 52,
   "metadata": {},
   "outputs": [],
   "source": [
    "prediction_test = s.run(\n",
    "    predicted_y, {\n",
    "    input_X: X,\n",
    "    weights: test_weights,\n",
    "    b: 1e-1})"
   ]
  },
  {
   "cell_type": "code",
   "execution_count": 53,
   "metadata": {},
   "outputs": [],
   "source": [
    "assert prediction_test.shape == (X.shape[0],),\\\n",
    "       \"Predictions must be a 1D array with length equal to the number \" \\\n",
    "       \"of examples in X_test\""
   ]
  },
  {
   "cell_type": "code",
   "execution_count": 54,
   "metadata": {},
   "outputs": [],
   "source": [
    "grade_submitter.set_answer(\"0ENlN\", prediction_test)"
   ]
  },
  {
   "cell_type": "code",
   "execution_count": 55,
   "metadata": {},
   "outputs": [],
   "source": [
    "loss_test = s.run(\n",
    "    loss, {\n",
    "        input_X: X[:100],\n",
    "        input_y: y[-100:],\n",
    "        weights: test_weights+1.21e-3,\n",
    "        b: -1e-1})\n",
    "# Yes, the X/y indices mistmach is intentional"
   ]
  },
  {
   "cell_type": "code",
   "execution_count": 56,
   "metadata": {},
   "outputs": [],
   "source": [
    "grade_submitter.set_answer(\"mMVpM\", loss_test)"
   ]
  },
  {
   "cell_type": "code",
   "execution_count": 57,
   "metadata": {},
   "outputs": [],
   "source": [
    "grade_submitter.set_answer(\"D16Rc\", roc_auc_score(y_test, s.run(predicted_y, {input_X:X_test})))"
   ]
  },
  {
   "cell_type": "markdown",
   "metadata": {},
   "source": [
    "Please use the credentials obtained from the Coursera assignment page."
   ]
  },
  {
   "cell_type": "code",
   "execution_count": 58,
   "metadata": {},
   "outputs": [
    {
     "name": "stdout",
     "output_type": "stream",
     "text": [
      "Submitted to Coursera platform. See results on assignment page!\n"
     ]
    }
   ],
   "source": [
    "grade_submitter.submit(\"scheuclu@gmail.com\", \"MPkdZgM2OwAAd8tB\")"
   ]
  }
 ],
 "metadata": {
  "kernelspec": {
   "display_name": "Python 3",
   "language": "python",
   "name": "python3"
  },
  "language_info": {
   "codemirror_mode": {
    "name": "ipython",
    "version": 3
   },
   "file_extension": ".py",
   "mimetype": "text/x-python",
   "name": "python",
   "nbconvert_exporter": "python",
   "pygments_lexer": "ipython3",
   "version": "3.6.5"
  }
 },
 "nbformat": 4,
 "nbformat_minor": 1
}
