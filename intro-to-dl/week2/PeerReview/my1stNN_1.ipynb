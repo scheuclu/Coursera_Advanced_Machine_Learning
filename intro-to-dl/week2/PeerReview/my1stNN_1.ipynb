{
 "cells": [
  {
   "cell_type": "code",
   "execution_count": 22,
   "metadata": {},
   "outputs": [
    {
     "name": "stdout",
     "output_type": "stream",
     "text": [
      "(50000, 28, 28) (50000,)\n"
     ]
    },
    {
     "data": {
      "image/png": "[encoded data removed]",
      "text/plain": [
       "<matplotlib.figure.Figure at 0x106fa04e0>"
      ]
     },
     "metadata": {},
     "output_type": "display_data"
    }
   ],
   "source": [
    "from preprocessed_mnist import load_dataset\n",
    "X_train, y_train, X_val, y_val, X_test, y_test = load_dataset()\n",
    "print(X_train.shape, y_train.shape)\n",
    "import matplotlib.pyplot as plt\n",
    "%matplotlib inline\n",
    "plt.imshow(X_train[0], cmap=\"Greys\");\n"
   ]
  },
  {
   "cell_type": "code",
   "execution_count": 23,
   "metadata": {},
   "outputs": [],
   "source": [
    "import tensorflow as tf\n",
    "import numpy as np\n",
    "\n",
    "learning_rate = 1.0\n",
    "training_epochs = 60\n",
    "batch_size = 500\n",
    "display_step = 1"
   ]
  },
  {
   "cell_type": "code",
   "execution_count": 24,
   "metadata": {},
   "outputs": [],
   "source": [
    "X_train = X_train.reshape([X_train.shape[0],784])   #We're reshaping it to change the input from 2-dimensions to 1-dimension\n",
    "X_val = X_val.reshape([X_val.shape[0],784]) \n",
    "X_test = X_test.reshape([X_test.shape[0],784])\n",
    "y_train = np.eye(10)[y_train]\n",
    "y_val = np.eye(10)[y_val]\n",
    "y_test = np.eye(10)[y_test]"
   ]
  },
  {
   "cell_type": "code",
   "execution_count": 25,
   "metadata": {},
   "outputs": [],
   "source": [
    "n_x = X_train.shape[1]\n",
    "n_h = 500\n",
    "n_y = 10\n",
    "\n",
    "tf.reset_default_graph()\n",
    "x = tf.placeholder(tf.float32, shape=(None, 784), name='input')\n",
    "y = tf.placeholder(tf.float32, shape=(None))\n",
    "\n",
    "w1 = tf.get_variable(\"W1\", shape=[n_x, n_h], initializer=tf.contrib.layers.xavier_initializer())\n",
    "b1 = tf.get_variable(\"b1\", shape=[n_h], initializer=tf.zeros_initializer())\n",
    "w2 = tf.get_variable(\"W2\", shape=[n_h, n_y], initializer=tf.contrib.layers.xavier_initializer())\n",
    "b2 = tf.get_variable(\"b2\", shape=[n_y], initializer=tf.zeros_initializer())\n",
    "\n",
    "#forward propagation\n",
    "z1 = tf.matmul(x, w1) + b1 \n",
    "a1 = tf.nn.tanh(z1) #  tanh\n",
    "z2 = tf.matmul(a1, w2) + b2 \n",
    "a2 = tf.nn.softmax(z2) #  relu\n",
    "\n",
    "def compute_loss(y_pred,y_true):\n",
    "    cost = tf.reduce_mean(tf.nn.softmax_cross_entropy_with_logits(labels=y_true, logits=y_pred))\n",
    "    return cost\n",
    "\n",
    "loss = compute_loss(a2, y)\n",
    "\n",
    "#optimizer =  tf.train.RMSPropOptimizer(0.001, 0.9).minimize(loss) \n",
    "optimizer =tf.train.MomentumOptimizer(learning_rate, 0.9).minimize(loss)\n",
    "#optimizer = tf.train.GradientDescentOptimizer(learning_rate).minimize(loss)\n",
    "#model optimization\n"
   ]
  },
  {
   "cell_type": "code",
   "execution_count": 26,
   "metadata": {},
   "outputs": [
    {
     "name": "stdout",
     "output_type": "stream",
     "text": [
      "Test cost after 1 epochs: 1.6225219\n",
      "Test cost after 2 epochs: 1.6052123\n",
      "Test cost after 3 epochs: 1.5960897\n",
      "Test cost after 4 epochs: 1.5196736\n",
      "Test cost after 5 epochs: 1.5089294\n",
      "Test cost after 6 epochs: 1.501051\n",
      "Test cost after 7 epochs: 1.4952118\n",
      "Test cost after 8 epochs: 1.4932822\n",
      "Test cost after 9 epochs: 1.4908928\n",
      "Test cost after 10 epochs: 1.4898694\n",
      "Test cost after 11 epochs: 1.4874667\n",
      "Test cost after 12 epochs: 1.4863521\n",
      "Test cost after 13 epochs: 1.4840206\n",
      "Test cost after 14 epochs: 1.4826657\n",
      "Test cost after 15 epochs: 1.4819503\n",
      "Test cost after 16 epochs: 1.478137\n",
      "Test cost after 17 epochs: 1.4763416\n",
      "Test cost after 18 epochs: 1.4749326\n",
      "Test cost after 19 epochs: 1.4745587\n",
      "Test cost after 20 epochs: 1.4745036\n",
      "Test cost after 21 epochs: 1.4755864\n",
      "Test cost after 22 epochs: 1.477335\n",
      "Test cost after 23 epochs: 1.4767238\n",
      "Test cost after 24 epochs: 1.4746882\n",
      "Test cost after 25 epochs: 1.4761627\n",
      "Test cost after 26 epochs: 1.4739069\n",
      "Test cost after 27 epochs: 1.4703639\n",
      "Test cost after 28 epochs: 1.4701735\n",
      "Test cost after 29 epochs: 1.4704088\n",
      "Test cost after 30 epochs: 1.469242\n",
      "Test cost after 31 epochs: 1.468907\n",
      "Test cost after 32 epochs: 1.4687022\n",
      "Test cost after 33 epochs: 1.4687682\n",
      "Test cost after 34 epochs: 1.4686662\n",
      "Test cost after 35 epochs: 1.4680904\n",
      "Test cost after 36 epochs: 1.4680225\n",
      "Test cost after 37 epochs: 1.467893\n",
      "Test cost after 38 epochs: 1.4676775\n",
      "Test cost after 39 epochs: 1.4674672\n",
      "Test cost after 40 epochs: 1.4673822\n",
      "Test cost after 41 epochs: 1.4672973\n",
      "Test cost after 42 epochs: 1.467177\n",
      "Test cost after 43 epochs: 1.4670534\n",
      "Test cost after 44 epochs: 1.4669588\n",
      "Test cost after 45 epochs: 1.4669228\n",
      "Test cost after 46 epochs: 1.4668483\n",
      "Test cost after 47 epochs: 1.4668235\n",
      "Test cost after 48 epochs: 1.4667768\n",
      "Test cost after 49 epochs: 1.4667386\n",
      "Test cost after 50 epochs: 1.46673\n",
      "Test cost after 51 epochs: 1.4667172\n",
      "Test cost after 52 epochs: 1.4666516\n",
      "Test cost after 53 epochs: 1.466631\n",
      "Test cost after 54 epochs: 1.4666027\n",
      "Test cost after 55 epochs: 1.4665912\n",
      "Test cost after 56 epochs: 1.4665856\n",
      "Test cost after 57 epochs: 1.4665802\n",
      "Test cost after 58 epochs: 1.4665687\n",
      "Test cost after 59 epochs: 1.4665483\n",
      "Test cost after 60 epochs: 1.46654\n"
     ]
    },
    {
     "data": {
      "image/png": "[encoded data removed]",
      "text/plain": [
       "<matplotlib.figure.Figure at 0x13c2f3668>"
      ]
     },
     "metadata": {},
     "output_type": "display_data"
    },
    {
     "name": "stdout",
     "output_type": "stream",
     "text": [
      "Train Accuracy: 0.99448\n",
      "Test Accuracy: 0.9804\n"
     ]
    }
   ],
   "source": [
    "init = tf.global_variables_initializer()\n",
    "with tf.Session() as sess:\n",
    "    sess.run(init)\n",
    "    train_costs = []  \n",
    "    test_costs = []\n",
    "    for epoch in range(training_epochs):\n",
    "        for i in range(0, X_train.shape[0], batch_size):\n",
    "            sess.run(optimizer, feed_dict={x:X_train[i:i+batch_size], y:y_train[i:i+batch_size]}) \n",
    "        train_costs.append(sess.run(loss, feed_dict={x:X_train, y:y_train}))\n",
    "        test_costs.append(sess.run(loss, feed_dict={x:X_test, y:y_test}))\n",
    "        #if epoch%10 == 9:                                                       #printing cost after every 10th epoch\n",
    "        print(\"Test cost after \" + str(epoch+1)+ \" epochs: \"+ str(train_costs[-1]))\n",
    "        \n",
    "    iterations = list(range(training_epochs))\n",
    "    plt.plot(iterations, train_costs, label='Train')\n",
    "    plt.plot(iterations, test_costs, label='Test')\n",
    "    plt.ylabel('loss')\n",
    "    plt.xlabel('iterations')\n",
    "    plt.show()\n",
    "    \n",
    "    predict_op = tf.argmax(a2, 1)\n",
    "    correct_prediction = tf.equal(predict_op, tf.argmax(y, 1))\n",
    "\n",
    "    # Calculate accuracy on the test set\n",
    "    accuracy = tf.reduce_mean(tf.cast(correct_prediction, \"float\"))\n",
    "    train_accuracy = accuracy.eval({x: X_train, y: y_train})\n",
    "    test_accuracy = accuracy.eval({x: X_test, y: y_test})\n",
    "    print(\"Train Accuracy:\", train_accuracy)\n",
    "    print(\"Test Accuracy:\", test_accuracy)"
   ]
  },
  {
   "cell_type": "code",
   "execution_count": null,
   "metadata": {},
   "outputs": [],
   "source": []
  },
  {
   "cell_type": "code",
   "execution_count": null,
   "metadata": {},
   "outputs": [],
   "source": []
  }
 ],
 "metadata": {
  "kernelspec": {
   "display_name": "Python 3",
   "language": "python",
   "name": "python3"
  },
  "language_info": {
   "codemirror_mode": {
    "name": "ipython",
    "version": 3
   },
   "file_extension": ".py",
   "mimetype": "text/x-python",
   "name": "python",
   "nbconvert_exporter": "python",
   "pygments_lexer": "ipython3",
   "version": "3.6.5"
  }
 },
 "nbformat": 4,
 "nbformat_minor": 2
}
