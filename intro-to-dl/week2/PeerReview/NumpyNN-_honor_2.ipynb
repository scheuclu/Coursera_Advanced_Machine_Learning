{
 "cells": [
  {
   "cell_type": "markdown",
   "metadata": {},
   "source": [
    "# Your very own neural network\n",
    "\n",
    "In this notebook, we're going to build a neural network using naught but pure numpy and steel nerves. It's going to be fun, I promise!"
   ]
  },
  {
   "cell_type": "markdown",
   "metadata": {},
   "source": [
    "## Behind the mystery of back-prop\n",
    "\n",
    "Following the notation of [Michael Nielsen](http://neuralnetworksanddeeplearning.com/chap2.html), we have that\n",
    "\n",
    "$$\\delta^l_j \\equiv \\frac{\\partial C}{\\partial z^l_j},$$\n",
    "\n",
    "where $C$ is the cost and $z^l_j = (\\sum_k w^l_{jk}a^{l-1}_k) + b_j^l$, where\n",
    "\n",
    "$$\n",
    "w^\\text{layer}_{\\text{node to layer}, \\text{ node from layer - 1}}\n",
    "$$\n",
    "\n",
    "We can interpret $\\delta^l_j$ as the error from node $j$ in layer $l$, and we will use this to calulate $\\frac{\\partial C}{\\partial w^l_{j,k}}$ and $\\frac{\\partial C}{\\partial b^l_{j}}$ which is used to update the weights and biases in the gradient descent step.\n",
    "\n",
    "If write out the dependency on the cost, we see that\n",
    "\n",
    "$$\n",
    "C = C \\Bigg( a^C \\bigg(z^C \\Big(a^{C-1} \\big(z^{C-1} ( ... K) \\big) \\Big) \\bigg) \\Bigg)\\\\\n",
    "K = a^{l+1} \\Bigg( z^{l+1} \\bigg( a^l \\Big(z^l \\big(w^l_{jk}\\big) \\Big) \\bigg) \\Bigg)\n",
    "$$\n",
    "\n",
    "where we use $K$ as a variable simply for readability.\n",
    "\n",
    "Using the chain rule (notice the different index on $z$):\n",
    "\n",
    "$$\n",
    "\\delta^l_j = \\sum_k \\frac{\\partial C}{\\partial z^{l+1}_k} \\frac{\\partial z^{l+1}_k}{\\partial z^l_j}\\\\\n",
    "= \\sum_k \\delta^{l+1}_k \\frac{\\partial z^{l+1}_k}{\\partial z^l_j}\\\\\n",
    "= \\sum_k \\delta^{l+1}_k \\frac{\\partial ([\\sum_m w^{l+1}_{km} a^l_m] + b^{l+1}_k)}{\\partial z^l_j}\\\\\n",
    "= \\sum_k \\delta^{l+1}_k \\frac{\\partial ([\\sum_m w^{l+1}_{km} \\sigma(z^l_m)] + b^{l+1}_k)}{\\partial z^l_j}\n",
    "$$\n",
    "\n",
    "We see that\n",
    "\n",
    "$$\n",
    "\\frac{\\partial ([\\sum_m w^{l+1}_{km} \\sigma(z^l_m)] + b^{l+1}_k)}{\\partial z^l_j} =\n",
    "\\frac{\\partial (w^{l+1}_{kj} \\sigma(z^l_j) + b^{l+1}_k)}{\\partial z^l_j}\n",
    "$$\n",
    "\n",
    "as all other terms are zero, so that\n",
    "\n",
    "$$\n",
    "\\delta^l_j \n",
    "= \\sum_k \\delta^{l+1}_k \\frac{\\partial (w^{l+1}_{kj} \\sigma(z^l_j) + b^{l+1}_k)}{\\partial z^l_j}\n",
    "= \\sum_k \\delta^{l+1}_k w^{l+1}_{kj} \\frac{\\partial \\sigma(z^l_j)}{\\partial z^l_j}\n",
    "$$\n",
    "\n"
   ]
  },
  {
   "cell_type": "markdown",
   "metadata": {},
   "source": [
    "With this is mind, we can calulate\n",
    "\n",
    "$$\n",
    "\\frac{\\partial C}{\\partial b^l_j}\n",
    "= \\sum_k \\frac{\\partial C}{\\partial z^l_{k}} \\frac{\\partial z^l_{k}}{\\partial b^l_j}\\\\\n",
    "= \\sum_k \\delta^l_k \\frac{\\partial z^l_{k}}{\\partial b^l_j}\\\\\n",
    "= \\sum_k \\delta^l_k \\frac{\\partial ([\\sum_m w^l_{km} a^{l-1}_m] + b^l_k)}{\\partial b^l_j}\\\\\n",
    "= \\sum_k \\left(\\delta^l_k  \\frac{\\partial (\\sum_m w^l_{km} a^{l-1}_m)}{\\partial b^l_j} +\\delta^l_k \\frac{\\partial b^l_k}{\\partial b^l_j}\\right)\\\\\n",
    "= \\sum_k \\delta^l_k \\frac{\\partial b^l_k}{\\partial b^l_j}\\\\\n",
    "= \\delta^l_j \\frac{\\partial b^l_j}{\\partial b^l_j}\\\\\n",
    "= \\delta^l_j\n",
    "$$\n",
    "\n",
    "and by using the same method as above\n",
    "\n",
    "$$\n",
    "\\frac{\\partial C}{\\partial w^l_{no}}\n",
    "= \\sum_k \\left(\\delta^l_k \\frac{\\partial (\\sum_m w^l_{km} a^{l-1}_m)}{\\partial w^l_{no}} + \\delta^l_k \\frac{\\partial b^l_k}{\\partial w^l_{no}}\\right)\\\\\n",
    "=  \\sum_k \\delta^l_k \\frac{\\partial (\\sum_m w^l_{km} a^{l-1}_m)}{\\partial w^l_{no}}\\\\\n",
    "= \\delta^l_n \\frac{\\partial (w^l_{no} a^{l-1}_o)}{\\partial w^l_{no}}\\\\\n",
    "= \\delta^l_n a^{l-1}_o\n",
    "$$"
   ]
  },
  {
   "cell_type": "markdown",
   "metadata": {},
   "source": [
    "In the setup here, a layer $l$ is split into the calculation of $z$ (dense layer), and then the activation $\\sigma(z)$.\n",
    "$\\sigma(z)$ is then passed forward to the next layer $l+1$ in the forward pass.\n",
    "\n",
    "In the backward pass, the returned variable `grad_input` (input to the previous layer) will refer to two different things.\n",
    "1. From the activation layer `grad_input` equals $\\frac{\\partial \\sigma(z^l_j)}{\\partial z^l_j}$ (input to the dens layer $l$)\n",
    "2. From the dens layer `grad_input` equals $\\frac{\\partial C}{\\partial z^l_j} \\equiv \\delta^l_j = \\sum_k \\delta^{l+1}_k w^{l+1}_{kj} \\frac{\\partial \\sigma(z^l_j)}{\\partial z^l_j}$ (input to the previous activation layer $l-1$)\n",
    "\n",
    "`grad_ouput` (which are the inputs to the dense layer and the activation layer) refers to\n",
    "1. The gradient from layer $l+1$ in the activation layer (i.e. $\\delta^{l+1}$) \n",
    "2. The gradient of the activation layer of $l$ in the dense layer (i.e. $\\frac{\\partial \\sigma(z^l_j)}{\\partial z^l_j}$) "
   ]
  },
  {
   "cell_type": "markdown",
   "metadata": {},
   "source": [
    "### NOTE\n",
    "The weights of the $l+1$ layer are here stored in the dense layer of layer $l$."
   ]
  },
  {
   "cell_type": "code",
   "execution_count": 1,
   "metadata": {},
   "outputs": [],
   "source": [
    "from pathlib import Path\n",
    "cur_dir = Path('.').absolute()\n",
    "\n",
    "src_keras = cur_dir.parent.joinpath('readonly','keras')\n",
    "\n",
    "if not src_keras.is_dir():\n",
    "    raise RuntimeError('readonly directory not found\\n'\n",
    "                       'Download it by running download_resources.ipynb in the root dir of the repository')\n",
    "\n",
    "src_datasets = src_keras.joinpath('datasets')\n",
    "src_models = src_keras.joinpath('models')\n",
    "\n",
    "home = cur_dir.home()\n",
    "dst_datasets = home.joinpath('.keras', 'datasets')\n",
    "dst_models = home.joinpath('.keras', 'models')\n",
    "dst_datasets.mkdir(exist_ok=True, parents=True)\n",
    "dst_models.mkdir(exist_ok=True, parents=True)"
   ]
  },
  {
   "cell_type": "code",
   "execution_count": 2,
   "metadata": {},
   "outputs": [],
   "source": [
    "from __future__ import print_function\n",
    "import time\n",
    "import numpy as np\n",
    "np.random.seed(42)"
   ]
  },
  {
   "cell_type": "markdown",
   "metadata": {},
   "source": [
    "Here goes our main class: a layer that can .forward() and .backward()."
   ]
  },
  {
   "cell_type": "code",
   "execution_count": 3,
   "metadata": {},
   "outputs": [],
   "source": [
    "class Layer:\n",
    "    \"\"\"\n",
    "    A building block. Each layer is capable of performing two things:\n",
    "    \n",
    "    - Process input to get output:           output = layer.forward(input)\n",
    "    \n",
    "    - Propagate gradients through itself:    grad_input = layer.backward(input, grad_output)\n",
    "    \n",
    "    Some layers also have learnable parameters which they update during layer.backward.\n",
    "    \"\"\"\n",
    "    def __init__(self):\n",
    "        \"\"\"Here you can initialize layer parameters (if any) and auxiliary stuff.\"\"\"\n",
    "        # A dummy layer does nothing\n",
    "        pass\n",
    "    \n",
    "    def forward(self, input):\n",
    "        \"\"\"\n",
    "        Takes input data of shape [batch, input_units], returns output data [batch, output_units]\n",
    "        \"\"\"\n",
    "        # A dummy layer just returns whatever it gets as input.\n",
    "        return input\n",
    "\n",
    "    def backward(self, input, grad_output):\n",
    "        \"\"\"\n",
    "        Performs a backpropagation step through the layer, with respect to the given input.\n",
    "        \n",
    "        To compute loss gradients w.r.t input, you need to apply chain rule (backprop):\n",
    "        \n",
    "        d loss / d x  = (d loss / d layer) * (d layer / d x)\n",
    "        \n",
    "        Luckily, you already receive d loss / d layer as input, so you only need to multiply it by d layer / d x.\n",
    "        \n",
    "        If your layer has parameters (e.g. dense layer), you also need to update them here using d loss / d layer\n",
    "        \"\"\"\n",
    "        # The gradient of a dummy layer is precisely grad_output, but we'll write it more explicitly\n",
    "        num_units = input.shape[1]\n",
    "        \n",
    "        d_layer_d_input = np.eye(num_units)\n",
    "        \n",
    "        return np.dot(grad_output, d_layer_d_input) # chain rule"
   ]
  },
  {
   "cell_type": "markdown",
   "metadata": {},
   "source": [
    "### The road ahead\n",
    "\n",
    "We're going to build a neural network that classifies MNIST digits. To do so, we'll need a few building blocks:\n",
    "- Dense layer - a fully-connected layer, $f(X)=W \\cdot X + \\vec{b}$\n",
    "- ReLU layer (or any other nonlinearity you want)\n",
    "- Loss function - crossentropy\n",
    "- Backprop algorithm - a stochastic gradient descent with backpropageted gradients\n",
    "\n",
    "Let's approach them one at a time.\n"
   ]
  },
  {
   "cell_type": "markdown",
   "metadata": {},
   "source": [
    "### Nonlinearity layer\n",
    "\n",
    "This is the simplest layer you can get: it simply applies a nonlinearity to each element of your network."
   ]
  },
  {
   "cell_type": "code",
   "execution_count": 4,
   "metadata": {},
   "outputs": [],
   "source": [
    "class ReLU(Layer):\n",
    "    def __init__(self):\n",
    "        \"\"\"ReLU layer simply applies elementwise rectified linear unit to all inputs\"\"\"\n",
    "        pass\n",
    "    \n",
    "    def forward(self, input):\n",
    "        \"\"\"Apply elementwise ReLU to [batch, input_units] matrix\"\"\"\n",
    "        return np.maximum(0, input)\n",
    "    \n",
    "    def backward(self, input, grad_output):\n",
    "        \"\"\"Compute gradient of loss w.r.t. ReLU input\"\"\"\n",
    "        relu_grad = input > 0\n",
    "        # NOTE: Elementwise product\n",
    "        return grad_output*relu_grad        "
   ]
  },
  {
   "cell_type": "code",
   "execution_count": 5,
   "metadata": {},
   "outputs": [],
   "source": [
    "# some tests\n",
    "from util import eval_numerical_gradient\n",
    "x = np.linspace(-1,1,10*32).reshape([10,32])\n",
    "l = ReLU()\n",
    "grads = l.backward(x,np.ones([10,32])/(32*10))\n",
    "numeric_grads = eval_numerical_gradient(lambda x: l.forward(x).mean(), x=x)\n",
    "assert np.allclose(grads, numeric_grads, rtol=1e-3, atol=0),\\\n",
    "    \"gradient returned by your layer does not match the numerically computed gradient\""
   ]
  },
  {
   "cell_type": "markdown",
   "metadata": {},
   "source": [
    "#### Instant primer: lambda functions\n",
    "\n",
    "In python, you can define functions in one line using the `lambda` syntax: `lambda param1, param2: expression`\n",
    "\n",
    "For example: `f = lambda x, y: x+y` is equivalent to a normal function:\n",
    "\n",
    "```\n",
    "def f(x,y):\n",
    "    return x+y\n",
    "```\n",
    "For more information, click [here](http://www.secnetix.de/olli/Python/lambda_functions.hawk).    "
   ]
  },
  {
   "cell_type": "markdown",
   "metadata": {},
   "source": [
    "### Dense layer\n",
    "\n",
    "Now let's build something more complicated. Unlike nonlinearity, a dense layer actually has something to learn.\n",
    "\n",
    "A dense layer applies affine transformation. In a vectorized form, it can be described as:\n",
    "$$f(X)= W \\cdot X + \\vec b $$\n",
    "\n",
    "Where \n",
    "* X is an object-feature matrix of shape [batch_size, num_features],\n",
    "* W is a weight matrix [num_features, num_outputs] \n",
    "* and b is a vector of num_outputs biases.\n",
    "\n",
    "Both W and b are initialized during layer creation and updated each time backward is called."
   ]
  },
  {
   "cell_type": "code",
   "execution_count": 6,
   "metadata": {},
   "outputs": [],
   "source": [
    "class Dense(Layer):\n",
    "    def __init__(self, input_units, output_units, learning_rate=0.1, initialization='original'):\n",
    "        \"\"\"\n",
    "        A dense layer is a layer which performs a learned affine transformation:\n",
    "        f(x) = <W*x> + b\n",
    "        \"\"\"\n",
    "        self.learning_rate = learning_rate\n",
    "        \n",
    "        if initialization == 'original':\n",
    "            # initialize weights with small random numbers. We use normal initialization, \n",
    "            # but surely there is something better. Try this once you got it working: http://bit.ly/2vTlmaJ\n",
    "            self.weights = np.random.randn(input_units, output_units)*0.01\n",
    "        elif initialization == 'xavier':\n",
    "            # Initialization based on He et al. \n",
    "            # http://arxiv-web3.library.cornell.edu/abs/1502.01852\n",
    "            # See http://cs231n.github.io/neural-networks-2/#init for further details\n",
    "            # Note that we also set the bias to zero\n",
    "            self.weights = np.random.randn(input_units, output_units)*np.sqrt(2/input_units)\n",
    "            \n",
    "        self.biases = np.zeros(output_units)\n",
    "        \n",
    "    def forward(self,input):\n",
    "        \"\"\"\n",
    "        Perform an affine transformation:\n",
    "        f(x) = <W*x> + b\n",
    "        \n",
    "        input shape: [batch, input_units]\n",
    "        output shape: [batch, output units]\n",
    "        \"\"\"\n",
    "        \n",
    "        # NOTE: Numpy has automatic broadcasting when adding a vector to a matrix\n",
    "        return input @ self.weights + self.biases\n",
    "    \n",
    "    def backward(self,input,grad_output):\n",
    "        \"\"\"\n",
    "        Backward propagation of the dense layer\n",
    "        \n",
    "        Parameters\n",
    "        ----------\n",
    "        input : array, shape (batch, input units)\n",
    "            The input from the previous activation layer (or network input)\n",
    "        grad_output : array, shape (batch , output units)\n",
    "            The gradient from the next activation layer\n",
    "        \n",
    "        Returns\n",
    "        -------\n",
    "        grad_input : array, shape (batch, input units)\n",
    "            The gradient from this (dense) layer\n",
    "        \"\"\"\n",
    "        \n",
    "        # compute d f / d x = d f / d dense * d dense / d x\n",
    "        # where d dense/ d x = weights transposed\n",
    "        # NOTE: This is delta^l in the equations above\n",
    "        grad_input = grad_output @ self.weights.transpose()\n",
    "        \n",
    "        # compute gradient w.r.t. weights and biases\n",
    "        # NOTE: As we are computing w^{l+1} and b^{l+1}, we need to use\n",
    "        #       \\delta^{l+1} = grad_output here\n",
    "        # NOTE: We are computing THE SUM GRADIENTS OVER THE BATCH, as this\n",
    "        #       is what we will use in the gradient descent\n",
    "        #       I.e. we find the gradients of the examples one by one and sum\n",
    "        #       over all of them\n",
    "\n",
    "        grad_weights = input.transpose() @ grad_output\n",
    "        grad_biases = grad_output.sum(axis=0)\n",
    "\n",
    "        assert grad_weights.shape == self.weights.shape,\\\n",
    "            f'grad_weights.shape: {grad_weights.shape} != self.weights.shape: {self.weights.shape}'\n",
    "        assert grad_biases.shape == self.biases.shape,\\\n",
    "            f'grad_biases.shape: {grad_biases.shape} != self.biases.shape: {self.biases.shape}'\n",
    "        # Here we perform a stochastic gradient descent step. \n",
    "        # Later on, you can try replacing that with something better.\n",
    "        self.weights = self.weights - self.learning_rate * grad_weights\n",
    "        self.biases = self.biases - self.learning_rate * grad_biases\n",
    "        \n",
    "        return grad_input"
   ]
  },
  {
   "cell_type": "markdown",
   "metadata": {},
   "source": [
    "### Testing the dense layer\n",
    "\n",
    "Here we have a few tests to make sure your dense layer works properly. You can just run them, get 3 \"well done\"s and forget they ever existed.\n",
    "\n",
    "... or not get 3 \"well done\"s and go fix stuff. If that is the case, here are some tips for you:\n",
    "* Make sure you compute gradients for W and b as __sum of gradients over batch__, not mean over gradients. Grad_output is already divided by batch size.\n",
    "* If you're debugging, try saving gradients in class fields, like \"self.grad_w = grad_w\" or print first 3-5 weights. This helps debugging.\n",
    "* If nothing else helps, try ignoring tests and proceed to network training. If it trains alright, you may be off by something that does not affect network training."
   ]
  },
  {
   "cell_type": "code",
   "execution_count": 7,
   "metadata": {},
   "outputs": [
    {
     "name": "stdout",
     "output_type": "stream",
     "text": [
      "Well done!\n"
     ]
    }
   ],
   "source": [
    "l = Dense(128, 150)\n",
    "\n",
    "assert -0.05 < l.weights.mean() < 0.05 and 1e-3 < l.weights.std() < 1e-1,\\\n",
    "    \"The initial weights must have zero mean and small variance. \"\\\n",
    "    \"If you know what you're doing, remove this assertion.\"\n",
    "assert -0.05 < l.biases.mean() < 0.05, \"Biases must be zero mean. Ignore if you have a reason to do otherwise.\"\n",
    "\n",
    "# To test the outputs, we explicitly set weights with fixed values. DO NOT DO THAT IN ACTUAL NETWORK!\n",
    "l = Dense(3,4)\n",
    "\n",
    "x = np.linspace(-1,1,2*3).reshape([2,3])\n",
    "l.weights = np.linspace(-1,1,3*4).reshape([3,4])\n",
    "l.biases = np.linspace(-1,1,4)\n",
    "\n",
    "assert np.allclose(l.forward(x),np.array([[ 0.07272727,  0.41212121,  0.75151515,  1.09090909],\n",
    "                                          [-0.90909091,  0.08484848,  1.07878788,  2.07272727]]))\n",
    "print(\"Well done!\")"
   ]
  },
  {
   "cell_type": "code",
   "execution_count": 8,
   "metadata": {},
   "outputs": [
    {
     "name": "stdout",
     "output_type": "stream",
     "text": [
      "Well done!\n"
     ]
    }
   ],
   "source": [
    "# To test the grads, we use gradients obtained via finite differences\n",
    "\n",
    "from util import eval_numerical_gradient\n",
    "\n",
    "x = np.linspace(-1,1,10*32).reshape([10,32])\n",
    "l = Dense(32,64,learning_rate=0)\n",
    "\n",
    "numeric_grads = eval_numerical_gradient(lambda x: l.forward(x).sum(),x)\n",
    "grads = l.backward(x,np.ones([10,64]))\n",
    "\n",
    "assert np.allclose(grads,numeric_grads,rtol=1e-3,atol=0), \"input gradient does not match numeric grad\"\n",
    "print(\"Well done!\")"
   ]
  },
  {
   "cell_type": "code",
   "execution_count": 9,
   "metadata": {},
   "outputs": [
    {
     "name": "stdout",
     "output_type": "stream",
     "text": [
      "Well done!\n"
     ]
    }
   ],
   "source": [
    "#test gradients w.r.t. params\n",
    "def compute_out_given_wb(w,b):\n",
    "    l = Dense(32,64,learning_rate=1)\n",
    "    l.weights = np.array(w)\n",
    "    l.biases = np.array(b)\n",
    "    x = np.linspace(-1,1,10*32).reshape([10,32])\n",
    "    return l.forward(x)\n",
    "    \n",
    "def compute_grad_by_params(w,b):\n",
    "    l = Dense(32,64,learning_rate=1)\n",
    "    l.weights = np.array(w)\n",
    "    l.biases = np.array(b)\n",
    "    x = np.linspace(-1,1,10*32).reshape([10,32])\n",
    "    l.backward(x,np.ones([10,64]) / 10.)\n",
    "    return w - l.weights, b - l.biases\n",
    "    \n",
    "w,b = np.random.randn(32,64), np.linspace(-1,1,64)\n",
    "\n",
    "numeric_dw = eval_numerical_gradient(lambda w: compute_out_given_wb(w,b).mean(0).sum(),w )\n",
    "numeric_db = eval_numerical_gradient(lambda b: compute_out_given_wb(w,b).mean(0).sum(),b )\n",
    "grad_w,grad_b = compute_grad_by_params(w,b)\n",
    "\n",
    "assert np.allclose(numeric_dw,grad_w,rtol=1e-3,atol=0), \"weight gradient does not match numeric weight gradient\"\n",
    "assert np.allclose(numeric_db,grad_b,rtol=1e-3,atol=0), \"bias gradient does not match numeric bias gradient\"\n",
    "print(\"Well done!\")"
   ]
  },
  {
   "cell_type": "markdown",
   "metadata": {},
   "source": [
    "### The loss function\n",
    "\n",
    "Since we want to predict probabilities, it would be logical for us to define softmax nonlinearity on top of our network and compute loss given predicted probabilities. However, there is a better way to do so.\n",
    "\n",
    "If you write down the expression for crossentropy as a function of softmax logits (a), you'll see:\n",
    "\n",
    "$$ loss = - log \\space {e^{a_{correct}} \\over {\\underset i \\sum e^{a_i} } } $$\n",
    "\n",
    "If you take a closer look, ya'll see that it can be rewritten as:\n",
    "\n",
    "$$ loss = - a_{correct} + log {\\underset i \\sum e^{a_i} } $$\n",
    "\n",
    "It's called Log-softmax and it's better than naive log(softmax(a)) in all aspects:\n",
    "* Better numerical stability\n",
    "* Easier to get derivative right\n",
    "* Marginally faster to compute\n",
    "\n",
    "So why not just use log-softmax throughout our computation and never actually bother to estimate probabilities.\n",
    "\n",
    "Here you are! We've defined the both loss functions for you so that you could focus on neural network part."
   ]
  },
  {
   "cell_type": "code",
   "execution_count": 10,
   "metadata": {},
   "outputs": [],
   "source": [
    "def softmax_crossentropy_with_logits(logits,reference_answers):\n",
    "    \"\"\"Compute crossentropy from logits[batch,n_classes] and ids of correct answers\"\"\"\n",
    "    logits_for_answers = logits[np.arange(len(logits)),reference_answers]\n",
    "    \n",
    "    xentropy = - logits_for_answers + np.log(np.sum(np.exp(logits),axis=-1))\n",
    "    \n",
    "    return xentropy\n",
    "\n",
    "def grad_softmax_crossentropy_with_logits(logits,reference_answers):\n",
    "    \"\"\"Compute crossentropy gradient from logits[batch,n_classes] and ids of correct answers\"\"\"\n",
    "    ones_for_answers = np.zeros_like(logits)\n",
    "    ones_for_answers[np.arange(len(logits)),reference_answers] = 1\n",
    "    \n",
    "    softmax = np.exp(logits) / np.exp(logits).sum(axis=-1,keepdims=True)\n",
    "    \n",
    "    return (- ones_for_answers + softmax) / logits.shape[0]"
   ]
  },
  {
   "cell_type": "code",
   "execution_count": 11,
   "metadata": {},
   "outputs": [],
   "source": [
    "logits = np.linspace(-1,1,500).reshape([50,10])\n",
    "answers = np.arange(50)%10\n",
    "\n",
    "softmax_crossentropy_with_logits(logits,answers)\n",
    "grads = grad_softmax_crossentropy_with_logits(logits,answers)\n",
    "numeric_grads = eval_numerical_gradient(lambda l: softmax_crossentropy_with_logits(l,answers).mean(),logits)\n",
    "\n",
    "assert np.allclose(numeric_grads,grads,rtol=1e-3,atol=0), \"The reference implementation has just failed. Someone has just changed the rules of math.\""
   ]
  },
  {
   "cell_type": "markdown",
   "metadata": {},
   "source": [
    "### Full network\n",
    "\n",
    "Now let's combine what we've just built into a working neural network. As we announced, we're gonna use this monster to classify handwritten digits, so let's get them loaded."
   ]
  },
  {
   "cell_type": "code",
   "execution_count": 12,
   "metadata": {},
   "outputs": [
    {
     "name": "stderr",
     "output_type": "stream",
     "text": [
      "Using TensorFlow backend.\n"
     ]
    },
    {
     "data": {
      "image/png": "[encoded data removed]",
      "text/plain": [
       "<Figure size 432x432 with 4 Axes>"
      ]
     },
     "metadata": {},
     "output_type": "display_data"
    }
   ],
   "source": [
    "import matplotlib.pyplot as plt\n",
    "%matplotlib inline\n",
    "\n",
    "from preprocessed_mnist import load_dataset\n",
    "X_train, y_train, X_val, y_val, X_test, y_test = load_dataset(flatten=True)\n",
    "\n",
    "plt.figure(figsize=[6,6])\n",
    "for i in range(4):\n",
    "    plt.subplot(2,2,i+1)\n",
    "    plt.title(\"Label: %i\"%y_train[i])\n",
    "    plt.imshow(X_train[i].reshape([28,28]),cmap='gray');"
   ]
  },
  {
   "cell_type": "markdown",
   "metadata": {},
   "source": [
    "We'll define network as a list of layers, each applied on top of previous one. In this setting, computing predictions and training becomes trivial."
   ]
  },
  {
   "cell_type": "code",
   "execution_count": 13,
   "metadata": {},
   "outputs": [],
   "source": [
    "network = []\n",
    "network.append(Dense(X_train.shape[1],100))\n",
    "network.append(ReLU())\n",
    "network.append(Dense(100,200))\n",
    "network.append(ReLU())\n",
    "network.append(Dense(200,10))"
   ]
  },
  {
   "cell_type": "code",
   "execution_count": 14,
   "metadata": {},
   "outputs": [],
   "source": [
    "def forward(network, X):\n",
    "    \"\"\"\n",
    "    Compute activations of all network layers by applying them sequentially.\n",
    "    Return a list of activations for each layer. \n",
    "    Make sure last activation corresponds to network logits.\n",
    "    \"\"\"\n",
    "    activations = []\n",
    "    input = X\n",
    "\n",
    "    # <your code here>\n",
    "    for layer in network:\n",
    "        # Pass the input through the layers\n",
    "        input = layer.forward(input)\n",
    "        activations.append(input)\n",
    "        \n",
    "    assert len(activations) == len(network), \\\n",
    "        f'len(activations): {len(activations)} != len(network): {len(network)}'\n",
    "    return activations"
   ]
  },
  {
   "cell_type": "code",
   "execution_count": 15,
   "metadata": {},
   "outputs": [],
   "source": [
    "def predict(network,X):\n",
    "    \"\"\"\n",
    "    Compute network predictions.\n",
    "    \"\"\"\n",
    "    logits = forward(network,X)[-1]\n",
    "    return logits.argmax(axis=-1)"
   ]
  },
  {
   "cell_type": "code",
   "execution_count": 16,
   "metadata": {},
   "outputs": [],
   "source": [
    "def train(network,X,y):\n",
    "    \"\"\"\n",
    "    Train your network on a given batch of X and y.\n",
    "    You first need to run forward to get all layer activations.\n",
    "    Then you can run layer.backward going from last to first layer.\n",
    "    \n",
    "    After you called backward for all layers, all Dense layers have already made one gradient step.\n",
    "    \"\"\"\n",
    "    \n",
    "    # Get the layer activations\n",
    "    layer_activations = forward(network,X)\n",
    "    # NOTE: Concatenation of lists\n",
    "    layer_inputs = [X]+layer_activations  #layer_input[i] is an input for network[i]\n",
    "    logits = layer_activations[-1]\n",
    "    \n",
    "    # Compute the loss and the initial gradient\n",
    "    loss = softmax_crossentropy_with_logits(logits,y)\n",
    "    loss_grad = grad_softmax_crossentropy_with_logits(logits,y)\n",
    "    \n",
    "    # <your code: propagate gradients through the network>\n",
    "    grad_output = loss_grad\n",
    "    # NOTE: The layers are structured as follows\n",
    "    #       Dense_0, Activation_0, Dense_1, Activation_1, ..., Dense_n, softmax\n",
    "    #       The calculation of the loss and the gradient of the loss has\n",
    "    #       been calculated for us above\n",
    "    #       By looping backwords as we do it below we get\n",
    "    #       Dense_n, ..., Activation_1, Dense_1, Activation_0, Dense_0\n",
    "    #       i.e. without the softmax part\n",
    "    for i in range(len(network))[::-1]:\n",
    "        grad_output = network[i].backward(layer_inputs[i],grad_output)\n",
    "    \n",
    "    return np.mean(loss)"
   ]
  },
  {
   "cell_type": "markdown",
   "metadata": {},
   "source": [
    "Instead of tests, we provide you with a training loop that prints training and validation accuracies on every epoch.\n",
    "\n",
    "If your implementation of forward and backward are correct, your accuracy should grow from 90~93% to >97% with the default network."
   ]
  },
  {
   "cell_type": "markdown",
   "metadata": {},
   "source": [
    "### Training loop\n",
    "\n",
    "As usual, we split data into minibatches, feed each such minibatch into the network and update weights."
   ]
  },
  {
   "cell_type": "code",
   "execution_count": 17,
   "metadata": {},
   "outputs": [],
   "source": [
    "from tqdm import trange\n",
    "def iterate_minibatches(inputs, targets, batchsize, shuffle=False):\n",
    "    assert len(inputs) == len(targets)\n",
    "    if shuffle:\n",
    "        indices = np.random.permutation(len(inputs))\n",
    "    for start_idx in trange(0, len(inputs) - batchsize + 1, batchsize):\n",
    "        if shuffle:\n",
    "            excerpt = indices[start_idx:start_idx + batchsize]\n",
    "        else:\n",
    "            excerpt = slice(start_idx, start_idx + batchsize)\n",
    "        yield inputs[excerpt], targets[excerpt]"
   ]
  },
  {
   "cell_type": "code",
   "execution_count": 18,
   "metadata": {},
   "outputs": [],
   "source": [
    "# NOTE: Casted this to a function for simpler reuse\n",
    "from IPython.display import clear_output\n",
    "\n",
    "def execute_train(network, epochs=25):\n",
    "    train_log = []\n",
    "    val_log = []\n",
    "    for epoch in range(25):\n",
    "\n",
    "        for x_batch,y_batch in iterate_minibatches(X_train,y_train,batchsize=32,shuffle=True):\n",
    "            train(network,x_batch,y_batch)\n",
    "\n",
    "        train_log.append(np.mean(predict(network,X_train)==y_train))\n",
    "        val_log.append(np.mean(predict(network,X_val)==y_val))\n",
    "\n",
    "        clear_output()\n",
    "        print(\"Epoch\",epoch)\n",
    "        print(\"Train accuracy:\",train_log[-1])\n",
    "        print(\"Val accuracy:\",val_log[-1])\n",
    "        plt.plot(train_log,label='train accuracy')\n",
    "        plt.plot(val_log,label='val accuracy')\n",
    "        plt.legend(loc='best')\n",
    "        plt.grid()\n",
    "        plt.show()"
   ]
  },
  {
   "cell_type": "code",
   "execution_count": 19,
   "metadata": {},
   "outputs": [
    {
     "name": "stdout",
     "output_type": "stream",
     "text": [
      "Epoch 24\n",
      "Train accuracy: 0.99998\n",
      "Val accuracy: 0.9803\n"
     ]
    },
    {
     "data": {
      "image/png": "[encoded data removed]",
      "text/plain": [
       "<Figure size 432x288 with 1 Axes>"
      ]
     },
     "metadata": {},
     "output_type": "display_data"
    }
   ],
   "source": [
    "execute_train(network, epochs=25)"
   ]
  },
  {
   "cell_type": "markdown",
   "metadata": {},
   "source": [
    "### Peer-reviewed assignment\n",
    "\n",
    "Congradulations, you managed to get this far! There is just one quest left undone, and this time you'll get to choose what to do.\n",
    "\n",
    "\n",
    "#### Option I: initialization\n",
    "* Implement Dense layer with Xavier initialization as explained [here](http://bit.ly/2vTlmaJ)\n",
    "\n",
    "To pass this assignment, you must conduct an experiment showing how xavier initialization compares to default initialization on deep networks (5+ layers).\n",
    "\n",
    "\n",
    "#### Option II: regularization\n",
    "* Implement a version of Dense layer with L2 regularization penalty: when updating Dense Layer weights, adjust gradients to minimize\n",
    "\n",
    "$$ Loss = Crossentropy + \\alpha \\cdot \\underset i \\sum {w_i}^2 $$\n",
    "\n",
    "To pass this assignment, you must conduct an experiment showing if regularization mitigates overfitting in case of abundantly large number of neurons. Consider tuning $\\alpha$ for better results.\n",
    "\n",
    "#### Option III: optimization\n",
    "* Implement a version of Dense layer that uses momentum/rmsprop or whatever method worked best for you last time.\n",
    "\n",
    "Most of those methods require persistent parameters like momentum direction or moving average grad norm, but you can easily store those params inside your layers.\n",
    "\n",
    "To pass this assignment, you must conduct an experiment showing how your chosen method performs compared to vanilla SGD.\n",
    "\n",
    "### General remarks\n",
    "_Please read the peer-review guidelines before starting this part of the assignment._\n",
    "\n",
    "In short, a good solution is one that:\n",
    "* is based on this notebook\n",
    "* runs in the default course environment with Run All\n",
    "* its code doesn't cause spontaneous eye bleeding\n",
    "* its report is easy to read.\n",
    "\n",
    "_Formally we can't ban you from writing boring reports, but if you bored your reviewer to death, there's noone left alive to give you the grade you want._"
   ]
  },
  {
   "cell_type": "markdown",
   "metadata": {},
   "source": [
    "## Option I: Initialization\n",
    "\n",
    "I chose this task, as this is the one I know the least about, and I would like to know some more.\n",
    "Instead of duplicate the code for the dense layers, I've simply put a flag in the `Dense`-class which defaults to the original initialization.\n",
    "\n",
    "We will use the initialization method proposed by [He et al.](http://arxiv-web3.library.cornell.edu/abs/1502.01852) as we will use ReLu's as activation functions (see also this [link](http://cs231n.github.io/neural-networks-2/#init) for details, which you can find references to several places on the internet).\n",
    "\n",
    "We will compare training the same architecture with and without the Xavier initialization"
   ]
  },
  {
   "cell_type": "code",
   "execution_count": 20,
   "metadata": {},
   "outputs": [],
   "source": [
    "def get_network(initialization):\n",
    "    network = []\n",
    "    network.append(Dense(X_train.shape[1],100, initialization=initialization))\n",
    "    network.append(ReLU())\n",
    "    network.append(Dense(100,100, initialization=initialization))\n",
    "    network.append(ReLU())\n",
    "    network.append(Dense(100,100, initialization=initialization))\n",
    "    network.append(ReLU())\n",
    "    network.append(Dense(100,100, initialization=initialization))\n",
    "    network.append(ReLU())\n",
    "    network.append(Dense(100,100, initialization=initialization))\n",
    "    network.append(ReLU())\n",
    "    network.append(Dense(100,10, initialization=initialization))\n",
    "\n",
    "    return network"
   ]
  },
  {
   "cell_type": "markdown",
   "metadata": {},
   "source": [
    "### Original"
   ]
  },
  {
   "cell_type": "code",
   "execution_count": 21,
   "metadata": {},
   "outputs": [
    {
     "name": "stdout",
     "output_type": "stream",
     "text": [
      "Epoch 24\n",
      "Train accuracy: 0.11356\n",
      "Val accuracy: 0.1064\n"
     ]
    },
    {
     "data": {
      "image/png": "[encoded data removed]",
      "text/plain": [
       "<Figure size 432x288 with 1 Axes>"
      ]
     },
     "metadata": {},
     "output_type": "display_data"
    },
    {
     "name": "stdout",
     "output_type": "stream",
     "text": [
      "elapsed = 1.34 minutes\n"
     ]
    }
   ],
   "source": [
    "t = time.time()\n",
    "network = get_network('original')\n",
    "execute_train(network, epochs=25)\n",
    "print(f'elapsed = {(time.time() - t)/60:.2f} minutes')"
   ]
  },
  {
   "cell_type": "markdown",
   "metadata": {},
   "source": [
    "### Xavier"
   ]
  },
  {
   "cell_type": "code",
   "execution_count": 22,
   "metadata": {},
   "outputs": [
    {
     "name": "stdout",
     "output_type": "stream",
     "text": [
      "Epoch 24\n",
      "Train accuracy: 0.99834\n",
      "Val accuracy: 0.978\n"
     ]
    },
    {
     "data": {
      "image/png": "[encoded data removed]",
      "text/plain": [
       "<Figure size 432x288 with 1 Axes>"
      ]
     },
     "metadata": {},
     "output_type": "display_data"
    },
    {
     "name": "stdout",
     "output_type": "stream",
     "text": [
      "elapsed = 1.33 minutes\n"
     ]
    }
   ],
   "source": [
    "t = time.time()\n",
    "network = get_network('xavier')\n",
    "execute_train(network, epochs=25)\n",
    "print(f'elapsed = {(time.time() - t)/60:.2f} minutes')"
   ]
  },
  {
   "cell_type": "markdown",
   "metadata": {},
   "source": [
    "### Conclusion\n",
    "\n",
    "From the runs above we can see that the network with the original initialization performs approximately like random guessing and seems not to improve the accuracy as we train the network.\n",
    "\n",
    "This, however, is not the problem for the network using the He variant of the Xavier initialization. As explained [here](http://andyljones.tumblr.com/post/110998971763/an-explanation-of-xavier-initialization), this due to the possibility of the signal to propagate to the network without being damped or significantly being enhanced rigth after the initialization. This means that the signal can reach the end of the network so that the backpropagation is the sole tuner of which signals should be damped/enhanced (and not the initialization)"
   ]
  },
  {
   "cell_type": "markdown",
   "metadata": {},
   "source": [
    "## Bonus assignments\n",
    "\n",
    "As a bonus assignment (no points, just swag), consider implementing Batch Normalization ([guide](https://gab41.lab41.org/batch-normalization-what-the-hey-d480039a9e3b)) or Dropout ([guide](https://medium.com/@amarbudhiraja/https-medium-com-amarbudhiraja-learning-less-to-learn-better-dropout-in-deep-machine-learning-74334da4bfc5)). Note, however, that those \"layers\" behave differently when training and when predicting on test set.\n",
    "\n",
    "* Dropout:\n",
    "  * During training: drop units randomly with probability __p__ and multiply everything by __1/(1-p)__\n",
    "  * During final predicton: do nothing; pretend there's no dropout\n",
    "  \n",
    "* Batch normalization\n",
    "  * During training, it substracts mean-over-batch and divides by std-over-batch and updates mean and variance.\n",
    "  * During final prediction, it uses accumulated mean and variance."
   ]
  }
 ],
 "metadata": {
  "kernelspec": {
   "display_name": "Python 3",
   "language": "python",
   "name": "python3"
  },
  "language_info": {
   "codemirror_mode": {
    "name": "ipython",
    "version": 3
   },
   "file_extension": ".py",
   "mimetype": "text/x-python",
   "name": "python",
   "nbconvert_exporter": "python",
   "pygments_lexer": "ipython3",
   "version": "3.6.5"
  },
  "toc": {
   "colors": {
    "hover_highlight": "#DAA520",
    "navigate_num": "#000000",
    "navigate_text": "#333333",
    "running_highlight": "#FF0000",
    "selected_highlight": "#FFD700",
    "sidebar_border": "#EEEEEE",
    "wrapper_background": "#FFFFFF"
   },
   "moveMenuLeft": true,
   "nav_menu": {
    "height": "264px",
    "width": "252px"
   },
   "navigate_menu": true,
   "number_sections": true,
   "sideBar": true,
   "threshold": 4,
   "toc_cell": false,
   "toc_section_display": "block",
   "toc_window_display": false,
   "widenNotebook": false
  }
 },
 "nbformat": 4,
 "nbformat_minor": 2
}
